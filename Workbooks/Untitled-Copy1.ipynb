{
 "cells": [
  {
   "cell_type": "code",
   "execution_count": 22,
   "metadata": {},
   "outputs": [],
   "source": [
    "import pandas as pd\n",
    "import numpy as np\n",
    "import seaborn as sns\n",
    "import matplotlib.pyplot as plt\n",
    "from sklearn.linear_model import LinearRegression, LassoCV, RidgeCV, Ridge, Lasso\n",
    "from sklearn.preprocessing import PolynomialFeatures, StandardScaler\n",
    "from sklearn.model_selection import train_test_split, cross_val_score, cross_val_predict\n",
    "from sklearn.metrics import r2_score\n",
    "\n",
    "%matplotlib inline"
   ]
  },
  {
   "cell_type": "code",
   "execution_count": 23,
   "metadata": {},
   "outputs": [],
   "source": [
    "\n",
    "train = pd.read_csv('datasets/train.csv')"
   ]
  },
  {
   "cell_type": "markdown",
   "metadata": {},
   "source": [
    "-----"
   ]
  },
  {
   "cell_type": "code",
   "execution_count": 24,
   "metadata": {},
   "outputs": [],
   "source": [
    "import pandas as pd \n",
    "from sklearn.linear_model import Ridge\n",
    "from sklearn.cross_validation import cross_val_score\n",
    "\n",
    "train = pd.read_csv('datasets/train.csv')\n",
    "test = pd.read_csv('datasets/test.csv')"
   ]
  },
  {
   "cell_type": "code",
   "execution_count": 25,
   "metadata": {},
   "outputs": [
    {
     "data": {
      "text/html": [
       "<div>\n",
       "<style scoped>\n",
       "    .dataframe tbody tr th:only-of-type {\n",
       "        vertical-align: middle;\n",
       "    }\n",
       "\n",
       "    .dataframe tbody tr th {\n",
       "        vertical-align: top;\n",
       "    }\n",
       "\n",
       "    .dataframe thead th {\n",
       "        text-align: right;\n",
       "    }\n",
       "</style>\n",
       "<table border=\"1\" class=\"dataframe\">\n",
       "  <thead>\n",
       "    <tr style=\"text-align: right;\">\n",
       "      <th></th>\n",
       "      <th>Id</th>\n",
       "      <th>PID</th>\n",
       "      <th>MS SubClass</th>\n",
       "      <th>MS Zoning</th>\n",
       "      <th>Lot Frontage</th>\n",
       "      <th>Lot Area</th>\n",
       "      <th>Street</th>\n",
       "      <th>Alley</th>\n",
       "      <th>Lot Shape</th>\n",
       "      <th>Land Contour</th>\n",
       "      <th>...</th>\n",
       "      <th>Screen Porch</th>\n",
       "      <th>Pool Area</th>\n",
       "      <th>Pool QC</th>\n",
       "      <th>Fence</th>\n",
       "      <th>Misc Feature</th>\n",
       "      <th>Misc Val</th>\n",
       "      <th>Mo Sold</th>\n",
       "      <th>Yr Sold</th>\n",
       "      <th>Sale Type</th>\n",
       "      <th>SalePrice</th>\n",
       "    </tr>\n",
       "  </thead>\n",
       "  <tbody>\n",
       "    <tr>\n",
       "      <th>0</th>\n",
       "      <td>109</td>\n",
       "      <td>533352170</td>\n",
       "      <td>60</td>\n",
       "      <td>RL</td>\n",
       "      <td>NaN</td>\n",
       "      <td>13517</td>\n",
       "      <td>Pave</td>\n",
       "      <td>NaN</td>\n",
       "      <td>IR1</td>\n",
       "      <td>Lvl</td>\n",
       "      <td>...</td>\n",
       "      <td>0</td>\n",
       "      <td>0</td>\n",
       "      <td>NaN</td>\n",
       "      <td>NaN</td>\n",
       "      <td>NaN</td>\n",
       "      <td>0</td>\n",
       "      <td>3</td>\n",
       "      <td>2010</td>\n",
       "      <td>WD</td>\n",
       "      <td>130500</td>\n",
       "    </tr>\n",
       "    <tr>\n",
       "      <th>1</th>\n",
       "      <td>544</td>\n",
       "      <td>531379050</td>\n",
       "      <td>60</td>\n",
       "      <td>RL</td>\n",
       "      <td>43.0</td>\n",
       "      <td>11492</td>\n",
       "      <td>Pave</td>\n",
       "      <td>NaN</td>\n",
       "      <td>IR1</td>\n",
       "      <td>Lvl</td>\n",
       "      <td>...</td>\n",
       "      <td>0</td>\n",
       "      <td>0</td>\n",
       "      <td>NaN</td>\n",
       "      <td>NaN</td>\n",
       "      <td>NaN</td>\n",
       "      <td>0</td>\n",
       "      <td>4</td>\n",
       "      <td>2009</td>\n",
       "      <td>WD</td>\n",
       "      <td>220000</td>\n",
       "    </tr>\n",
       "    <tr>\n",
       "      <th>2</th>\n",
       "      <td>153</td>\n",
       "      <td>535304180</td>\n",
       "      <td>20</td>\n",
       "      <td>RL</td>\n",
       "      <td>68.0</td>\n",
       "      <td>7922</td>\n",
       "      <td>Pave</td>\n",
       "      <td>NaN</td>\n",
       "      <td>Reg</td>\n",
       "      <td>Lvl</td>\n",
       "      <td>...</td>\n",
       "      <td>0</td>\n",
       "      <td>0</td>\n",
       "      <td>NaN</td>\n",
       "      <td>NaN</td>\n",
       "      <td>NaN</td>\n",
       "      <td>0</td>\n",
       "      <td>1</td>\n",
       "      <td>2010</td>\n",
       "      <td>WD</td>\n",
       "      <td>109000</td>\n",
       "    </tr>\n",
       "    <tr>\n",
       "      <th>3</th>\n",
       "      <td>318</td>\n",
       "      <td>916386060</td>\n",
       "      <td>60</td>\n",
       "      <td>RL</td>\n",
       "      <td>73.0</td>\n",
       "      <td>9802</td>\n",
       "      <td>Pave</td>\n",
       "      <td>NaN</td>\n",
       "      <td>Reg</td>\n",
       "      <td>Lvl</td>\n",
       "      <td>...</td>\n",
       "      <td>0</td>\n",
       "      <td>0</td>\n",
       "      <td>NaN</td>\n",
       "      <td>NaN</td>\n",
       "      <td>NaN</td>\n",
       "      <td>0</td>\n",
       "      <td>4</td>\n",
       "      <td>2010</td>\n",
       "      <td>WD</td>\n",
       "      <td>174000</td>\n",
       "    </tr>\n",
       "    <tr>\n",
       "      <th>4</th>\n",
       "      <td>255</td>\n",
       "      <td>906425045</td>\n",
       "      <td>50</td>\n",
       "      <td>RL</td>\n",
       "      <td>82.0</td>\n",
       "      <td>14235</td>\n",
       "      <td>Pave</td>\n",
       "      <td>NaN</td>\n",
       "      <td>IR1</td>\n",
       "      <td>Lvl</td>\n",
       "      <td>...</td>\n",
       "      <td>0</td>\n",
       "      <td>0</td>\n",
       "      <td>NaN</td>\n",
       "      <td>NaN</td>\n",
       "      <td>NaN</td>\n",
       "      <td>0</td>\n",
       "      <td>3</td>\n",
       "      <td>2010</td>\n",
       "      <td>WD</td>\n",
       "      <td>138500</td>\n",
       "    </tr>\n",
       "  </tbody>\n",
       "</table>\n",
       "<p>5 rows × 81 columns</p>\n",
       "</div>"
      ],
      "text/plain": [
       "    Id        PID  MS SubClass MS Zoning  Lot Frontage  Lot Area Street Alley  \\\n",
       "0  109  533352170           60        RL           NaN     13517   Pave   NaN   \n",
       "1  544  531379050           60        RL          43.0     11492   Pave   NaN   \n",
       "2  153  535304180           20        RL          68.0      7922   Pave   NaN   \n",
       "3  318  916386060           60        RL          73.0      9802   Pave   NaN   \n",
       "4  255  906425045           50        RL          82.0     14235   Pave   NaN   \n",
       "\n",
       "  Lot Shape Land Contour    ...     Screen Porch Pool Area Pool QC Fence  \\\n",
       "0       IR1          Lvl    ...                0         0     NaN   NaN   \n",
       "1       IR1          Lvl    ...                0         0     NaN   NaN   \n",
       "2       Reg          Lvl    ...                0         0     NaN   NaN   \n",
       "3       Reg          Lvl    ...                0         0     NaN   NaN   \n",
       "4       IR1          Lvl    ...                0         0     NaN   NaN   \n",
       "\n",
       "  Misc Feature Misc Val Mo Sold Yr Sold  Sale Type  SalePrice  \n",
       "0          NaN        0       3    2010        WD      130500  \n",
       "1          NaN        0       4    2009        WD      220000  \n",
       "2          NaN        0       1    2010        WD      109000  \n",
       "3          NaN        0       4    2010        WD      174000  \n",
       "4          NaN        0       3    2010        WD      138500  \n",
       "\n",
       "[5 rows x 81 columns]"
      ]
     },
     "execution_count": 25,
     "metadata": {},
     "output_type": "execute_result"
    }
   ],
   "source": [
    "train.head()"
   ]
  },
  {
   "cell_type": "code",
   "execution_count": 26,
   "metadata": {},
   "outputs": [
    {
     "data": {
      "text/plain": [
       "Index(['Id', 'PID', 'MS SubClass', 'MS Zoning', 'Lot Frontage', 'Lot Area',\n",
       "       'Street', 'Alley', 'Lot Shape', 'Land Contour', 'Utilities',\n",
       "       'Lot Config', 'Land Slope', 'Neighborhood', 'Condition 1',\n",
       "       'Condition 2', 'Bldg Type', 'House Style', 'Overall Qual',\n",
       "       'Overall Cond', 'Year Built', 'Year Remod/Add', 'Roof Style',\n",
       "       'Roof Matl', 'Exterior 1st', 'Exterior 2nd', 'Mas Vnr Type',\n",
       "       'Mas Vnr Area', 'Exter Qual', 'Exter Cond', 'Foundation', 'Bsmt Qual',\n",
       "       'Bsmt Cond', 'Bsmt Exposure', 'BsmtFin Type 1', 'BsmtFin SF 1',\n",
       "       'BsmtFin Type 2', 'BsmtFin SF 2', 'Bsmt Unf SF', 'Total Bsmt SF',\n",
       "       'Heating', 'Heating QC', 'Central Air', 'Electrical', '1st Flr SF',\n",
       "       '2nd Flr SF', 'Low Qual Fin SF', 'Gr Liv Area', 'Bsmt Full Bath',\n",
       "       'Bsmt Half Bath', 'Full Bath', 'Half Bath', 'Bedroom AbvGr',\n",
       "       'Kitchen AbvGr', 'Kitchen Qual', 'TotRms AbvGrd', 'Functional',\n",
       "       'Fireplaces', 'Fireplace Qu', 'Garage Type', 'Garage Yr Blt',\n",
       "       'Garage Finish', 'Garage Cars', 'Garage Area', 'Garage Qual',\n",
       "       'Garage Cond', 'Paved Drive', 'Wood Deck SF', 'Open Porch SF',\n",
       "       'Enclosed Porch', '3Ssn Porch', 'Screen Porch', 'Pool Area', 'Pool QC',\n",
       "       'Fence', 'Misc Feature', 'Misc Val', 'Mo Sold', 'Yr Sold', 'Sale Type',\n",
       "       'SalePrice'],\n",
       "      dtype='object')"
      ]
     },
     "execution_count": 26,
     "metadata": {},
     "output_type": "execute_result"
    }
   ],
   "source": [
    "train.columns"
   ]
  },
  {
   "cell_type": "code",
   "execution_count": 27,
   "metadata": {},
   "outputs": [],
   "source": [
    "def descriptive_to_numbers(column):\n",
    "    columnnona = column.fillna('NA')\n",
    "    numbered = columnnona.map({'Ex':5,'Gd':4,'TA':3,'Fa':2,'Po':1,'NA':0})\n",
    "    \n",
    "    return numbered\n",
    "\n",
    "def descriptive_to_numbers_no_po(column):\n",
    "    columnnona = column.fillna('NA')\n",
    "    numbered = columnnona.map({'Ex':5,'Gd':4,'TA':3,'Fa':2,'NA':1})\n",
    "    \n",
    "    return numbered"
   ]
  },
  {
   "cell_type": "code",
   "execution_count": 28,
   "metadata": {},
   "outputs": [],
   "source": [
    "def changes_to_dataframe(df):\n",
    "    df['Basement + Liv Area'] = df['Total Bsmt SF'] + df['Gr Liv Area']\n",
    "    df['Exter Qual'] = descriptive_to_numbers(df['Exter Qual'])\n",
    "    df['Exter Cond'] = descriptive_to_numbers(df['Exter Cond'])\n",
    "    df['Bsmt Cond'] = descriptive_to_numbers(df['Bsmt Cond'])\n",
    "    df['Bsmt Qual'] = descriptive_to_numbers(df['Bsmt Qual'])\n",
    "    df['Heating QC'] = descriptive_to_numbers(df['Heating QC'])\n",
    "    df['Kitchen Qual'] = descriptive_to_numbers(df['Kitchen Qual'])\n",
    "    df['Fireplace Qu'] = descriptive_to_numbers(df['Fireplace Qu'])\n",
    "    df['Garage Qual'] = descriptive_to_numbers(df['Garage Qual'])\n",
    "    df['Garage Cond'] = descriptive_to_numbers(df['Garage Cond'])\n",
    "    df['Pool QC'] = descriptive_to_numbers_no_po(df['Pool QC'])\n",
    "    df['Garage Area'] = df['Garage Area'].fillna(0)\n",
    "    df['Garage Cars'] = df['Garage Cars'].fillna(0)\n",
    "    df['Total Bsmt SF'] = df['Total Bsmt SF'].fillna(0)\n",
    "    "
   ]
  },
  {
   "cell_type": "code",
   "execution_count": 29,
   "metadata": {},
   "outputs": [],
   "source": [
    "changes_to_dataframe(train)"
   ]
  },
  {
   "cell_type": "code",
   "execution_count": 30,
   "metadata": {},
   "outputs": [],
   "source": [
    "train = pd.concat([train,pd.get_dummies(train['Misc Feature'])], axis = 1)"
   ]
  },
  {
   "cell_type": "code",
   "execution_count": 31,
   "metadata": {},
   "outputs": [],
   "source": [
    "train = pd.concat([train,pd.get_dummies(train['Neighborhood'])], axis = 1)"
   ]
  },
  {
   "cell_type": "code",
   "execution_count": 32,
   "metadata": {},
   "outputs": [
    {
     "data": {
      "text/plain": [
       "Neighborhood\n",
       "MeadowV    100231.250000\n",
       "IDOTRR     101103.188406\n",
       "BrDale     103371.052632\n",
       "OldTown    125276.300613\n",
       "BrkSide    127022.697368\n",
       "Edwards    130493.468531\n",
       "SWISU      134758.875000\n",
       "Landmrk    137000.000000\n",
       "Sawyer     137181.909910\n",
       "NPkVill    140476.470588\n",
       "Blueste    144566.666667\n",
       "NAmes      145905.816129\n",
       "Mitchel    167656.707317\n",
       "SawyerW    187760.160920\n",
       "Greens     188666.666667\n",
       "Gilbert    189228.387931\n",
       "NWAmes     194619.022989\n",
       "Blmngtn    200417.681818\n",
       "CollgCr    202497.216667\n",
       "Crawfor    205901.211268\n",
       "ClearCr    217490.074074\n",
       "Somerst    227183.900000\n",
       "Timber     241051.354167\n",
       "Veenker    253570.588235\n",
       "GrnHill    280000.000000\n",
       "NoRidge    316294.125000\n",
       "NridgHt    322831.352459\n",
       "StoneBr    329675.736842\n",
       "Name: SalePrice, dtype: float64"
      ]
     },
     "execution_count": 32,
     "metadata": {},
     "output_type": "execute_result"
    }
   ],
   "source": [
    "avg_price_per_neigh = train['SalePrice'].groupby(train['Neighborhood']).mean().sort_values()\n",
    "avg_price_per_neigh"
   ]
  },
  {
   "cell_type": "code",
   "execution_count": 196,
   "metadata": {},
   "outputs": [],
   "source": [
    "t = train[train['Neighborhood']=='StoneBr']"
   ]
  },
  {
   "cell_type": "code",
   "execution_count": 197,
   "metadata": {},
   "outputs": [
    {
     "data": {
      "text/plain": [
       "count        38.000000\n",
       "mean     329675.736842\n",
       "std      128597.738212\n",
       "min      130000.000000\n",
       "25%      218125.000000\n",
       "50%      322450.000000\n",
       "75%      427085.000000\n",
       "max      591587.000000\n",
       "Name: SalePrice, dtype: float64"
      ]
     },
     "execution_count": 197,
     "metadata": {},
     "output_type": "execute_result"
    }
   ],
   "source": [
    "t['SalePrice'].describe()"
   ]
  },
  {
   "cell_type": "code",
   "execution_count": null,
   "metadata": {},
   "outputs": [],
   "source": []
  },
  {
   "cell_type": "code",
   "execution_count": 33,
   "metadata": {},
   "outputs": [
    {
     "data": {
      "text/plain": [
       "'MeadowV'"
      ]
     },
     "execution_count": 33,
     "metadata": {},
     "output_type": "execute_result"
    }
   ],
   "source": [
    "neigh_keys = avg_price_per_neigh.keys()\n",
    "neigh_keys[0]"
   ]
  },
  {
   "cell_type": "code",
   "execution_count": 34,
   "metadata": {},
   "outputs": [
    {
     "data": {
      "text/plain": [
       "100231.25"
      ]
     },
     "execution_count": 34,
     "metadata": {},
     "output_type": "execute_result"
    }
   ],
   "source": [
    "price_values = avg_price_per_neigh.values\n",
    "price_values[0]"
   ]
  },
  {
   "cell_type": "code",
   "execution_count": 35,
   "metadata": {},
   "outputs": [],
   "source": [
    "avg_cost_per_neigh = {}\n",
    "for x in range(0,28):\n",
    "    avg_cost_per_neigh[neigh_keys[x]] = price_values[x]"
   ]
  },
  {
   "cell_type": "code",
   "execution_count": 36,
   "metadata": {},
   "outputs": [
    {
     "data": {
      "text/plain": [
       "{'MeadowV': 100231.25,\n",
       " 'IDOTRR': 101103.1884057971,\n",
       " 'BrDale': 103371.05263157895,\n",
       " 'OldTown': 125276.30061349693,\n",
       " 'BrkSide': 127022.69736842105,\n",
       " 'Edwards': 130493.46853146853,\n",
       " 'SWISU': 134758.875,\n",
       " 'Landmrk': 137000.0,\n",
       " 'Sawyer': 137181.9099099099,\n",
       " 'NPkVill': 140476.4705882353,\n",
       " 'Blueste': 144566.66666666666,\n",
       " 'NAmes': 145905.81612903226,\n",
       " 'Mitchel': 167656.70731707316,\n",
       " 'SawyerW': 187760.16091954024,\n",
       " 'Greens': 188666.66666666666,\n",
       " 'Gilbert': 189228.3879310345,\n",
       " 'NWAmes': 194619.02298850575,\n",
       " 'Blmngtn': 200417.68181818182,\n",
       " 'CollgCr': 202497.21666666667,\n",
       " 'Crawfor': 205901.21126760563,\n",
       " 'ClearCr': 217490.07407407407,\n",
       " 'Somerst': 227183.9,\n",
       " 'Timber': 241051.35416666666,\n",
       " 'Veenker': 253570.58823529413,\n",
       " 'GrnHill': 280000.0,\n",
       " 'NoRidge': 316294.125,\n",
       " 'NridgHt': 322831.3524590164,\n",
       " 'StoneBr': 329675.7368421053}"
      ]
     },
     "execution_count": 36,
     "metadata": {},
     "output_type": "execute_result"
    }
   ],
   "source": [
    "avg_cost_per_neigh"
   ]
  },
  {
   "cell_type": "code",
   "execution_count": 37,
   "metadata": {},
   "outputs": [],
   "source": [
    "train['NeighborhoodAvgCostPerHouse'] = train['Neighborhood']\n",
    "train['NeighborhoodAvgCostPerHouse'] = train['NeighborhoodAvgCostPerHouse'].map(avg_cost_per_neigh)"
   ]
  },
  {
   "cell_type": "code",
   "execution_count": 38,
   "metadata": {
    "scrolled": true
   },
   "outputs": [
    {
     "data": {
      "text/html": [
       "<div>\n",
       "<style scoped>\n",
       "    .dataframe tbody tr th:only-of-type {\n",
       "        vertical-align: middle;\n",
       "    }\n",
       "\n",
       "    .dataframe tbody tr th {\n",
       "        vertical-align: top;\n",
       "    }\n",
       "\n",
       "    .dataframe thead th {\n",
       "        text-align: right;\n",
       "    }\n",
       "</style>\n",
       "<table border=\"1\" class=\"dataframe\">\n",
       "  <thead>\n",
       "    <tr style=\"text-align: right;\">\n",
       "      <th></th>\n",
       "      <th>Id</th>\n",
       "      <th>PID</th>\n",
       "      <th>MS SubClass</th>\n",
       "      <th>MS Zoning</th>\n",
       "      <th>Lot Frontage</th>\n",
       "      <th>Lot Area</th>\n",
       "      <th>Street</th>\n",
       "      <th>Alley</th>\n",
       "      <th>Lot Shape</th>\n",
       "      <th>Land Contour</th>\n",
       "      <th>...</th>\n",
       "      <th>NridgHt</th>\n",
       "      <th>OldTown</th>\n",
       "      <th>SWISU</th>\n",
       "      <th>Sawyer</th>\n",
       "      <th>SawyerW</th>\n",
       "      <th>Somerst</th>\n",
       "      <th>StoneBr</th>\n",
       "      <th>Timber</th>\n",
       "      <th>Veenker</th>\n",
       "      <th>NeighborhoodAvgCostPerHouse</th>\n",
       "    </tr>\n",
       "  </thead>\n",
       "  <tbody>\n",
       "    <tr>\n",
       "      <th>0</th>\n",
       "      <td>109</td>\n",
       "      <td>533352170</td>\n",
       "      <td>60</td>\n",
       "      <td>RL</td>\n",
       "      <td>NaN</td>\n",
       "      <td>13517</td>\n",
       "      <td>Pave</td>\n",
       "      <td>NaN</td>\n",
       "      <td>IR1</td>\n",
       "      <td>Lvl</td>\n",
       "      <td>...</td>\n",
       "      <td>0</td>\n",
       "      <td>0</td>\n",
       "      <td>0</td>\n",
       "      <td>1</td>\n",
       "      <td>0</td>\n",
       "      <td>0</td>\n",
       "      <td>0</td>\n",
       "      <td>0</td>\n",
       "      <td>0</td>\n",
       "      <td>137181.909910</td>\n",
       "    </tr>\n",
       "    <tr>\n",
       "      <th>1</th>\n",
       "      <td>544</td>\n",
       "      <td>531379050</td>\n",
       "      <td>60</td>\n",
       "      <td>RL</td>\n",
       "      <td>43.0</td>\n",
       "      <td>11492</td>\n",
       "      <td>Pave</td>\n",
       "      <td>NaN</td>\n",
       "      <td>IR1</td>\n",
       "      <td>Lvl</td>\n",
       "      <td>...</td>\n",
       "      <td>0</td>\n",
       "      <td>0</td>\n",
       "      <td>0</td>\n",
       "      <td>0</td>\n",
       "      <td>1</td>\n",
       "      <td>0</td>\n",
       "      <td>0</td>\n",
       "      <td>0</td>\n",
       "      <td>0</td>\n",
       "      <td>187760.160920</td>\n",
       "    </tr>\n",
       "    <tr>\n",
       "      <th>2</th>\n",
       "      <td>153</td>\n",
       "      <td>535304180</td>\n",
       "      <td>20</td>\n",
       "      <td>RL</td>\n",
       "      <td>68.0</td>\n",
       "      <td>7922</td>\n",
       "      <td>Pave</td>\n",
       "      <td>NaN</td>\n",
       "      <td>Reg</td>\n",
       "      <td>Lvl</td>\n",
       "      <td>...</td>\n",
       "      <td>0</td>\n",
       "      <td>0</td>\n",
       "      <td>0</td>\n",
       "      <td>0</td>\n",
       "      <td>0</td>\n",
       "      <td>0</td>\n",
       "      <td>0</td>\n",
       "      <td>0</td>\n",
       "      <td>0</td>\n",
       "      <td>145905.816129</td>\n",
       "    </tr>\n",
       "    <tr>\n",
       "      <th>3</th>\n",
       "      <td>318</td>\n",
       "      <td>916386060</td>\n",
       "      <td>60</td>\n",
       "      <td>RL</td>\n",
       "      <td>73.0</td>\n",
       "      <td>9802</td>\n",
       "      <td>Pave</td>\n",
       "      <td>NaN</td>\n",
       "      <td>Reg</td>\n",
       "      <td>Lvl</td>\n",
       "      <td>...</td>\n",
       "      <td>0</td>\n",
       "      <td>0</td>\n",
       "      <td>0</td>\n",
       "      <td>0</td>\n",
       "      <td>0</td>\n",
       "      <td>0</td>\n",
       "      <td>0</td>\n",
       "      <td>1</td>\n",
       "      <td>0</td>\n",
       "      <td>241051.354167</td>\n",
       "    </tr>\n",
       "    <tr>\n",
       "      <th>4</th>\n",
       "      <td>255</td>\n",
       "      <td>906425045</td>\n",
       "      <td>50</td>\n",
       "      <td>RL</td>\n",
       "      <td>82.0</td>\n",
       "      <td>14235</td>\n",
       "      <td>Pave</td>\n",
       "      <td>NaN</td>\n",
       "      <td>IR1</td>\n",
       "      <td>Lvl</td>\n",
       "      <td>...</td>\n",
       "      <td>0</td>\n",
       "      <td>0</td>\n",
       "      <td>0</td>\n",
       "      <td>0</td>\n",
       "      <td>1</td>\n",
       "      <td>0</td>\n",
       "      <td>0</td>\n",
       "      <td>0</td>\n",
       "      <td>0</td>\n",
       "      <td>187760.160920</td>\n",
       "    </tr>\n",
       "  </tbody>\n",
       "</table>\n",
       "<p>5 rows × 116 columns</p>\n",
       "</div>"
      ],
      "text/plain": [
       "    Id        PID  MS SubClass MS Zoning  Lot Frontage  Lot Area Street Alley  \\\n",
       "0  109  533352170           60        RL           NaN     13517   Pave   NaN   \n",
       "1  544  531379050           60        RL          43.0     11492   Pave   NaN   \n",
       "2  153  535304180           20        RL          68.0      7922   Pave   NaN   \n",
       "3  318  916386060           60        RL          73.0      9802   Pave   NaN   \n",
       "4  255  906425045           50        RL          82.0     14235   Pave   NaN   \n",
       "\n",
       "  Lot Shape Land Contour             ...              NridgHt OldTown SWISU  \\\n",
       "0       IR1          Lvl             ...                    0       0     0   \n",
       "1       IR1          Lvl             ...                    0       0     0   \n",
       "2       Reg          Lvl             ...                    0       0     0   \n",
       "3       Reg          Lvl             ...                    0       0     0   \n",
       "4       IR1          Lvl             ...                    0       0     0   \n",
       "\n",
       "  Sawyer SawyerW Somerst StoneBr Timber  Veenker  NeighborhoodAvgCostPerHouse  \n",
       "0      1       0       0       0      0        0                137181.909910  \n",
       "1      0       1       0       0      0        0                187760.160920  \n",
       "2      0       0       0       0      0        0                145905.816129  \n",
       "3      0       0       0       0      1        0                241051.354167  \n",
       "4      0       1       0       0      0        0                187760.160920  \n",
       "\n",
       "[5 rows x 116 columns]"
      ]
     },
     "execution_count": 38,
     "metadata": {},
     "output_type": "execute_result"
    }
   ],
   "source": [
    "train.head()"
   ]
  },
  {
   "cell_type": "code",
   "execution_count": null,
   "metadata": {},
   "outputs": [],
   "source": []
  },
  {
   "cell_type": "code",
   "execution_count": 39,
   "metadata": {},
   "outputs": [
    {
     "data": {
      "text/plain": [
       "<matplotlib.collections.PathCollection at 0x251692ff5f8>"
      ]
     },
     "execution_count": 39,
     "metadata": {},
     "output_type": "execute_result"
    },
    {
     "data": {
      "image/png": "[encoded data removed]",
      "text/plain": [
       "<Figure size 432x288 with 1 Axes>"
      ]
     },
     "metadata": {},
     "output_type": "display_data"
    }
   ],
   "source": [
    "plt.scatter(train['SalePrice'],train['Lot Area'])"
   ]
  },
  {
   "cell_type": "code",
   "execution_count": 40,
   "metadata": {
    "scrolled": true
   },
   "outputs": [
    {
     "data": {
      "text/plain": [
       "1628    12789\n",
       "183     13100\n",
       "1309    34900\n",
       "1292    35000\n",
       "1518    35311\n",
       "Name: SalePrice, dtype: int64"
      ]
     },
     "execution_count": 40,
     "metadata": {},
     "output_type": "execute_result"
    }
   ],
   "source": [
    "train['SalePrice'].sort_values().head()"
   ]
  },
  {
   "cell_type": "code",
   "execution_count": 41,
   "metadata": {},
   "outputs": [
    {
     "data": {
      "text/plain": [
       "745      57200\n",
       "960      63887\n",
       "1854     70761\n",
       "694     115149\n",
       "471     159000\n",
       "Name: Lot Area, dtype: int64"
      ]
     },
     "execution_count": 41,
     "metadata": {},
     "output_type": "execute_result"
    }
   ],
   "source": [
    "train['Lot Area'].sort_values().tail()"
   ]
  },
  {
   "cell_type": "code",
   "execution_count": 42,
   "metadata": {},
   "outputs": [
    {
     "data": {
      "text/html": [
       "<div>\n",
       "<style scoped>\n",
       "    .dataframe tbody tr th:only-of-type {\n",
       "        vertical-align: middle;\n",
       "    }\n",
       "\n",
       "    .dataframe tbody tr th {\n",
       "        vertical-align: top;\n",
       "    }\n",
       "\n",
       "    .dataframe thead th {\n",
       "        text-align: right;\n",
       "    }\n",
       "</style>\n",
       "<table border=\"1\" class=\"dataframe\">\n",
       "  <thead>\n",
       "    <tr style=\"text-align: right;\">\n",
       "      <th></th>\n",
       "      <th>Id</th>\n",
       "      <th>PID</th>\n",
       "      <th>MS SubClass</th>\n",
       "      <th>MS Zoning</th>\n",
       "      <th>Lot Frontage</th>\n",
       "      <th>Lot Area</th>\n",
       "      <th>Street</th>\n",
       "      <th>Alley</th>\n",
       "      <th>Lot Shape</th>\n",
       "      <th>Land Contour</th>\n",
       "      <th>...</th>\n",
       "      <th>3Ssn Porch</th>\n",
       "      <th>Screen Porch</th>\n",
       "      <th>Pool Area</th>\n",
       "      <th>Pool QC</th>\n",
       "      <th>Fence</th>\n",
       "      <th>Misc Feature</th>\n",
       "      <th>Misc Val</th>\n",
       "      <th>Mo Sold</th>\n",
       "      <th>Yr Sold</th>\n",
       "      <th>Sale Type</th>\n",
       "    </tr>\n",
       "  </thead>\n",
       "  <tbody>\n",
       "    <tr>\n",
       "      <th>214</th>\n",
       "      <td>957</td>\n",
       "      <td>916176125</td>\n",
       "      <td>20</td>\n",
       "      <td>RL</td>\n",
       "      <td>150.0</td>\n",
       "      <td>215245</td>\n",
       "      <td>Pave</td>\n",
       "      <td>NaN</td>\n",
       "      <td>IR3</td>\n",
       "      <td>Low</td>\n",
       "      <td>...</td>\n",
       "      <td>0</td>\n",
       "      <td>0</td>\n",
       "      <td>0</td>\n",
       "      <td>NaN</td>\n",
       "      <td>NaN</td>\n",
       "      <td>NaN</td>\n",
       "      <td>0</td>\n",
       "      <td>6</td>\n",
       "      <td>2009</td>\n",
       "      <td>WD</td>\n",
       "    </tr>\n",
       "    <tr>\n",
       "      <th>307</th>\n",
       "      <td>1571</td>\n",
       "      <td>916125425</td>\n",
       "      <td>190</td>\n",
       "      <td>RL</td>\n",
       "      <td>NaN</td>\n",
       "      <td>164660</td>\n",
       "      <td>Grvl</td>\n",
       "      <td>NaN</td>\n",
       "      <td>IR1</td>\n",
       "      <td>HLS</td>\n",
       "      <td>...</td>\n",
       "      <td>0</td>\n",
       "      <td>0</td>\n",
       "      <td>0</td>\n",
       "      <td>NaN</td>\n",
       "      <td>NaN</td>\n",
       "      <td>Shed</td>\n",
       "      <td>700</td>\n",
       "      <td>8</td>\n",
       "      <td>2008</td>\n",
       "      <td>WD</td>\n",
       "    </tr>\n",
       "  </tbody>\n",
       "</table>\n",
       "<p>2 rows × 80 columns</p>\n",
       "</div>"
      ],
      "text/plain": [
       "       Id        PID  MS SubClass MS Zoning  Lot Frontage  Lot Area Street  \\\n",
       "214   957  916176125           20        RL         150.0    215245   Pave   \n",
       "307  1571  916125425          190        RL           NaN    164660   Grvl   \n",
       "\n",
       "    Alley Lot Shape Land Contour    ...     3Ssn Porch Screen Porch Pool Area  \\\n",
       "214   NaN       IR3          Low    ...              0            0         0   \n",
       "307   NaN       IR1          HLS    ...              0            0         0   \n",
       "\n",
       "    Pool QC Fence Misc Feature Misc Val Mo Sold  Yr Sold  Sale Type  \n",
       "214     NaN   NaN          NaN        0       6     2009        WD   \n",
       "307     NaN   NaN         Shed      700       8     2008        WD   \n",
       "\n",
       "[2 rows x 80 columns]"
      ]
     },
     "execution_count": 42,
     "metadata": {},
     "output_type": "execute_result"
    }
   ],
   "source": [
    "test[test['Lot Area']> 100000]"
   ]
  },
  {
   "cell_type": "code",
   "execution_count": 43,
   "metadata": {},
   "outputs": [
    {
     "data": {
      "text/plain": [
       "1312"
      ]
     },
     "execution_count": 43,
     "metadata": {},
     "output_type": "execute_result"
    }
   ],
   "source": [
    "train.loc[307,'Gr Liv Area']"
   ]
  },
  {
   "cell_type": "code",
   "execution_count": 44,
   "metadata": {},
   "outputs": [],
   "source": [
    "train['Basement + Liv Area'] = train['Total Bsmt SF'] + train['Gr Liv Area']"
   ]
  },
  {
   "cell_type": "code",
   "execution_count": 45,
   "metadata": {
    "scrolled": true
   },
   "outputs": [
    {
     "data": {
      "text/plain": [
       "960     5642\n",
       "1885    5095\n",
       "616     3820\n",
       "1897    3672\n",
       "1035    3608\n",
       "Name: Gr Liv Area, dtype: int64"
      ]
     },
     "execution_count": 45,
     "metadata": {},
     "output_type": "execute_result"
    }
   ],
   "source": [
    "train['Gr Liv Area'].sort_values(ascending=False).head()"
   ]
  },
  {
   "cell_type": "code",
   "execution_count": 46,
   "metadata": {},
   "outputs": [],
   "source": [
    "train = train.drop(960)\n",
    "train = train.drop(1885)\n",
    "#train = train.drop(214)\n",
    "#train = train.drop(307)"
   ]
  },
  {
   "cell_type": "code",
   "execution_count": 47,
   "metadata": {},
   "outputs": [
    {
     "data": {
      "text/plain": [
       "<matplotlib.collections.PathCollection at 0x2516936d7f0>"
      ]
     },
     "execution_count": 47,
     "metadata": {},
     "output_type": "execute_result"
    },
    {
     "data": {
      "image/png": "[encoded data removed]",
      "text/plain": [
       "<Figure size 432x288 with 1 Axes>"
      ]
     },
     "metadata": {},
     "output_type": "display_data"
    }
   ],
   "source": [
    "plt.scatter(train['SalePrice'],train['Gr Liv Area'])"
   ]
  },
  {
   "cell_type": "code",
   "execution_count": 88,
   "metadata": {},
   "outputs": [
    {
     "data": {
      "text/html": [
       "<div>\n",
       "<style scoped>\n",
       "    .dataframe tbody tr th:only-of-type {\n",
       "        vertical-align: middle;\n",
       "    }\n",
       "\n",
       "    .dataframe tbody tr th {\n",
       "        vertical-align: top;\n",
       "    }\n",
       "\n",
       "    .dataframe thead th {\n",
       "        text-align: right;\n",
       "    }\n",
       "</style>\n",
       "<table border=\"1\" class=\"dataframe\">\n",
       "  <thead>\n",
       "    <tr style=\"text-align: right;\">\n",
       "      <th></th>\n",
       "      <th>Garage Yr Blt</th>\n",
       "      <th>Year Built</th>\n",
       "      <th>Garage Type</th>\n",
       "    </tr>\n",
       "  </thead>\n",
       "  <tbody>\n",
       "    <tr>\n",
       "      <th>0</th>\n",
       "      <td>1976.0</td>\n",
       "      <td>1976</td>\n",
       "      <td>Attchd</td>\n",
       "    </tr>\n",
       "    <tr>\n",
       "      <th>1</th>\n",
       "      <td>1997.0</td>\n",
       "      <td>1996</td>\n",
       "      <td>Attchd</td>\n",
       "    </tr>\n",
       "    <tr>\n",
       "      <th>2</th>\n",
       "      <td>1953.0</td>\n",
       "      <td>1953</td>\n",
       "      <td>Detchd</td>\n",
       "    </tr>\n",
       "    <tr>\n",
       "      <th>3</th>\n",
       "      <td>2007.0</td>\n",
       "      <td>2006</td>\n",
       "      <td>BuiltIn</td>\n",
       "    </tr>\n",
       "    <tr>\n",
       "      <th>4</th>\n",
       "      <td>1957.0</td>\n",
       "      <td>1900</td>\n",
       "      <td>Detchd</td>\n",
       "    </tr>\n",
       "  </tbody>\n",
       "</table>\n",
       "</div>"
      ],
      "text/plain": [
       "   Garage Yr Blt  Year Built Garage Type\n",
       "0         1976.0        1976      Attchd\n",
       "1         1997.0        1996      Attchd\n",
       "2         1953.0        1953      Detchd\n",
       "3         2007.0        2006     BuiltIn\n",
       "4         1957.0        1900      Detchd"
      ]
     },
     "execution_count": 88,
     "metadata": {},
     "output_type": "execute_result"
    }
   ],
   "source": [
    "train[['Garage Yr Blt','Year Built','Garage Type']].head()"
   ]
  },
  {
   "cell_type": "code",
   "execution_count": 93,
   "metadata": {},
   "outputs": [
    {
     "data": {
      "text/plain": [
       "2049"
      ]
     },
     "execution_count": 93,
     "metadata": {},
     "output_type": "execute_result"
    }
   ],
   "source": [
    "train['Year Built'].count()"
   ]
  },
  {
   "cell_type": "code",
   "execution_count": 91,
   "metadata": {},
   "outputs": [],
   "source": [
    "train['Garage Yr Blt'] = train['Garage Yr Blt'].fillna(train['Year Built'])"
   ]
  },
  {
   "cell_type": "code",
   "execution_count": 95,
   "metadata": {},
   "outputs": [
    {
     "data": {
      "text/html": [
       "<div>\n",
       "<style scoped>\n",
       "    .dataframe tbody tr th:only-of-type {\n",
       "        vertical-align: middle;\n",
       "    }\n",
       "\n",
       "    .dataframe tbody tr th {\n",
       "        vertical-align: top;\n",
       "    }\n",
       "\n",
       "    .dataframe thead th {\n",
       "        text-align: right;\n",
       "    }\n",
       "</style>\n",
       "<table border=\"1\" class=\"dataframe\">\n",
       "  <thead>\n",
       "    <tr style=\"text-align: right;\">\n",
       "      <th></th>\n",
       "      <th>Mas Vnr Type</th>\n",
       "      <th>Mas Vnr Area</th>\n",
       "    </tr>\n",
       "  </thead>\n",
       "  <tbody>\n",
       "    <tr>\n",
       "      <th>0</th>\n",
       "      <td>BrkFace</td>\n",
       "      <td>289.0</td>\n",
       "    </tr>\n",
       "    <tr>\n",
       "      <th>1</th>\n",
       "      <td>BrkFace</td>\n",
       "      <td>132.0</td>\n",
       "    </tr>\n",
       "    <tr>\n",
       "      <th>2</th>\n",
       "      <td>None</td>\n",
       "      <td>0.0</td>\n",
       "    </tr>\n",
       "    <tr>\n",
       "      <th>3</th>\n",
       "      <td>None</td>\n",
       "      <td>0.0</td>\n",
       "    </tr>\n",
       "    <tr>\n",
       "      <th>4</th>\n",
       "      <td>None</td>\n",
       "      <td>0.0</td>\n",
       "    </tr>\n",
       "  </tbody>\n",
       "</table>\n",
       "</div>"
      ],
      "text/plain": [
       "  Mas Vnr Type  Mas Vnr Area\n",
       "0      BrkFace         289.0\n",
       "1      BrkFace         132.0\n",
       "2         None           0.0\n",
       "3         None           0.0\n",
       "4         None           0.0"
      ]
     },
     "execution_count": 95,
     "metadata": {},
     "output_type": "execute_result"
    }
   ],
   "source": [
    "train[['Mas Vnr Type', 'Mas Vnr Area']].head()"
   ]
  },
  {
   "cell_type": "code",
   "execution_count": 112,
   "metadata": {},
   "outputs": [],
   "source": [
    "a = train[train['BsmtFin SF 1'].isnull()]"
   ]
  },
  {
   "cell_type": "code",
   "execution_count": 116,
   "metadata": {},
   "outputs": [
    {
     "data": {
      "text/plain": [
       "1327    0\n",
       "Name: Bsmt Cond, dtype: int64"
      ]
     },
     "execution_count": 116,
     "metadata": {},
     "output_type": "execute_result"
    }
   ],
   "source": [
    "a['Bsmt Cond']"
   ]
  },
  {
   "cell_type": "code",
   "execution_count": 117,
   "metadata": {},
   "outputs": [],
   "source": [
    "lots = train[['Lot Frontage', 'Lot Area']]"
   ]
  },
  {
   "cell_type": "code",
   "execution_count": 125,
   "metadata": {},
   "outputs": [
    {
     "data": {
      "text/html": [
       "<div>\n",
       "<style scoped>\n",
       "    .dataframe tbody tr th:only-of-type {\n",
       "        vertical-align: middle;\n",
       "    }\n",
       "\n",
       "    .dataframe tbody tr th {\n",
       "        vertical-align: top;\n",
       "    }\n",
       "\n",
       "    .dataframe thead th {\n",
       "        text-align: right;\n",
       "    }\n",
       "</style>\n",
       "<table border=\"1\" class=\"dataframe\">\n",
       "  <thead>\n",
       "    <tr style=\"text-align: right;\">\n",
       "      <th></th>\n",
       "      <th>Lot Frontage</th>\n",
       "      <th>Lot Area</th>\n",
       "    </tr>\n",
       "  </thead>\n",
       "  <tbody>\n",
       "    <tr>\n",
       "      <th>count</th>\n",
       "      <td>1719.000000</td>\n",
       "      <td>2049.000000</td>\n",
       "    </tr>\n",
       "    <tr>\n",
       "      <th>mean</th>\n",
       "      <td>68.878999</td>\n",
       "      <td>10024.677892</td>\n",
       "    </tr>\n",
       "    <tr>\n",
       "      <th>std</th>\n",
       "      <td>22.472112</td>\n",
       "      <td>6608.511749</td>\n",
       "    </tr>\n",
       "    <tr>\n",
       "      <th>min</th>\n",
       "      <td>21.000000</td>\n",
       "      <td>1300.000000</td>\n",
       "    </tr>\n",
       "    <tr>\n",
       "      <th>25%</th>\n",
       "      <td>58.000000</td>\n",
       "      <td>7500.000000</td>\n",
       "    </tr>\n",
       "    <tr>\n",
       "      <th>50%</th>\n",
       "      <td>68.000000</td>\n",
       "      <td>9405.000000</td>\n",
       "    </tr>\n",
       "    <tr>\n",
       "      <th>75%</th>\n",
       "      <td>80.000000</td>\n",
       "      <td>11500.000000</td>\n",
       "    </tr>\n",
       "    <tr>\n",
       "      <th>max</th>\n",
       "      <td>313.000000</td>\n",
       "      <td>159000.000000</td>\n",
       "    </tr>\n",
       "  </tbody>\n",
       "</table>\n",
       "</div>"
      ],
      "text/plain": [
       "       Lot Frontage       Lot Area\n",
       "count   1719.000000    2049.000000\n",
       "mean      68.878999   10024.677892\n",
       "std       22.472112    6608.511749\n",
       "min       21.000000    1300.000000\n",
       "25%       58.000000    7500.000000\n",
       "50%       68.000000    9405.000000\n",
       "75%       80.000000   11500.000000\n",
       "max      313.000000  159000.000000"
      ]
     },
     "execution_count": 125,
     "metadata": {},
     "output_type": "execute_result"
    }
   ],
   "source": [
    "lots.describe()"
   ]
  },
  {
   "cell_type": "code",
   "execution_count": 126,
   "metadata": {},
   "outputs": [],
   "source": [
    "train[['Lot Frontage','Lot Area']];"
   ]
  },
  {
   "cell_type": "code",
   "execution_count": 128,
   "metadata": {},
   "outputs": [
    {
     "data": {
      "text/plain": [
       "68.87899941826643"
      ]
     },
     "execution_count": 128,
     "metadata": {},
     "output_type": "execute_result"
    }
   ],
   "source": [
    "train['Lot Frontage'].mean()"
   ]
  },
  {
   "cell_type": "code",
   "execution_count": 137,
   "metadata": {},
   "outputs": [],
   "source": [
    "b = train[train['Bsmt Unf SF'].isnull()]"
   ]
  },
  {
   "cell_type": "code",
   "execution_count": 138,
   "metadata": {},
   "outputs": [
    {
     "data": {
      "text/plain": [
       "1327    0\n",
       "Name: Bsmt Qual, dtype: int64"
      ]
     },
     "execution_count": 138,
     "metadata": {},
     "output_type": "execute_result"
    }
   ],
   "source": [
    "b['Bsmt Qual']"
   ]
  },
  {
   "cell_type": "code",
   "execution_count": 141,
   "metadata": {},
   "outputs": [],
   "source": [
    "train[['BsmtFin Type 1', 'BsmtFin Type 2']];"
   ]
  },
  {
   "cell_type": "code",
   "execution_count": null,
   "metadata": {},
   "outputs": [],
   "source": [
    "train['Multiple Basement Score'] = train['BsmtFin Type 1']+train['BsmtFin Type 2']"
   ]
  },
  {
   "cell_type": "code",
   "execution_count": 143,
   "metadata": {},
   "outputs": [],
   "source": [
    "train['Total Number Of Baths Scaled'] = train['Bsmt Full Bath'] + train['Bsmt Half Bath']*.5 + train['Full Bath'] + train['Half Bath']*.5"
   ]
  },
  {
   "cell_type": "code",
   "execution_count": 147,
   "metadata": {},
   "outputs": [],
   "source": [
    "bathcount = train[['Total Number Of Baths Scaled', 'Bsmt Full Bath', \"Bsmt Half Bath\", 'Full Bath','Half Bath']]"
   ]
  },
  {
   "cell_type": "code",
   "execution_count": 152,
   "metadata": {},
   "outputs": [
    {
     "data": {
      "text/html": [
       "<div>\n",
       "<style scoped>\n",
       "    .dataframe tbody tr th:only-of-type {\n",
       "        vertical-align: middle;\n",
       "    }\n",
       "\n",
       "    .dataframe tbody tr th {\n",
       "        vertical-align: top;\n",
       "    }\n",
       "\n",
       "    .dataframe thead th {\n",
       "        text-align: right;\n",
       "    }\n",
       "</style>\n",
       "<table border=\"1\" class=\"dataframe\">\n",
       "  <thead>\n",
       "    <tr style=\"text-align: right;\">\n",
       "      <th></th>\n",
       "      <th>Total Number Of Baths Scaled</th>\n",
       "      <th>Bsmt Full Bath</th>\n",
       "      <th>Bsmt Half Bath</th>\n",
       "      <th>Full Bath</th>\n",
       "      <th>Half Bath</th>\n",
       "    </tr>\n",
       "  </thead>\n",
       "  <tbody>\n",
       "    <tr>\n",
       "      <th>616</th>\n",
       "      <td>NaN</td>\n",
       "      <td>NaN</td>\n",
       "      <td>NaN</td>\n",
       "      <td>3</td>\n",
       "      <td>1</td>\n",
       "    </tr>\n",
       "    <tr>\n",
       "      <th>1327</th>\n",
       "      <td>NaN</td>\n",
       "      <td>NaN</td>\n",
       "      <td>NaN</td>\n",
       "      <td>1</td>\n",
       "      <td>0</td>\n",
       "    </tr>\n",
       "  </tbody>\n",
       "</table>\n",
       "</div>"
      ],
      "text/plain": [
       "      Total Number Of Baths Scaled  Bsmt Full Bath  Bsmt Half Bath  Full Bath  \\\n",
       "616                            NaN             NaN             NaN          3   \n",
       "1327                           NaN             NaN             NaN          1   \n",
       "\n",
       "      Half Bath  \n",
       "616           1  \n",
       "1327          0  "
      ]
     },
     "execution_count": 152,
     "metadata": {},
     "output_type": "execute_result"
    }
   ],
   "source": [
    "bathcount[bathcount['Total Number Of Baths Scaled'].isnull()]"
   ]
  },
  {
   "cell_type": "code",
   "execution_count": 145,
   "metadata": {},
   "outputs": [],
   "source": [
    "train['Total Number Of Baths Unscaled'] = train['Bsmt Full Bath'] + train['Bsmt Half Bath'] + train['Full Bath'] + train['Half Bath']"
   ]
  },
  {
   "cell_type": "code",
   "execution_count": 153,
   "metadata": {},
   "outputs": [],
   "source": [
    "emptybsmtbath = train[['Bsmt Full Bath', 'Bsmt Qual']]"
   ]
  },
  {
   "cell_type": "code",
   "execution_count": 167,
   "metadata": {},
   "outputs": [
    {
     "data": {
      "text/plain": [
       "['Id',\n",
       " 'PID',\n",
       " 'MS SubClass',\n",
       " 'MS Zoning',\n",
       " 'Lot Frontage',\n",
       " 'Lot Area',\n",
       " 'Street',\n",
       " 'Alley',\n",
       " 'Lot Shape',\n",
       " 'Land Contour',\n",
       " 'Utilities',\n",
       " 'Lot Config',\n",
       " 'Land Slope',\n",
       " 'Neighborhood',\n",
       " 'Condition 1',\n",
       " 'Condition 2',\n",
       " 'Bldg Type',\n",
       " 'House Style',\n",
       " 'Overall Qual',\n",
       " 'Overall Cond',\n",
       " 'Year Built',\n",
       " 'Year Remod/Add',\n",
       " 'Roof Style',\n",
       " 'Roof Matl',\n",
       " 'Exterior 1st',\n",
       " 'Exterior 2nd',\n",
       " 'Mas Vnr Type',\n",
       " 'Mas Vnr Area',\n",
       " 'Exter Qual',\n",
       " 'Exter Cond',\n",
       " 'Foundation',\n",
       " 'Bsmt Qual',\n",
       " 'Bsmt Cond',\n",
       " 'Bsmt Exposure',\n",
       " 'BsmtFin Type 1',\n",
       " 'BsmtFin SF 1',\n",
       " 'BsmtFin Type 2',\n",
       " 'BsmtFin SF 2',\n",
       " 'Bsmt Unf SF',\n",
       " 'Total Bsmt SF',\n",
       " 'Heating',\n",
       " 'Heating QC',\n",
       " 'Central Air',\n",
       " 'Electrical',\n",
       " '1st Flr SF',\n",
       " '2nd Flr SF',\n",
       " 'Low Qual Fin SF',\n",
       " 'Gr Liv Area',\n",
       " 'Bsmt Full Bath',\n",
       " 'Bsmt Half Bath',\n",
       " 'Full Bath',\n",
       " 'Half Bath',\n",
       " 'Bedroom AbvGr',\n",
       " 'Kitchen AbvGr',\n",
       " 'Kitchen Qual',\n",
       " 'TotRms AbvGrd',\n",
       " 'Functional',\n",
       " 'Fireplaces',\n",
       " 'Fireplace Qu',\n",
       " 'Garage Type',\n",
       " 'Garage Yr Blt',\n",
       " 'Garage Finish',\n",
       " 'Garage Cars',\n",
       " 'Garage Area',\n",
       " 'Garage Qual',\n",
       " 'Garage Cond',\n",
       " 'Paved Drive',\n",
       " 'Wood Deck SF',\n",
       " 'Open Porch SF',\n",
       " 'Enclosed Porch',\n",
       " '3Ssn Porch',\n",
       " 'Screen Porch',\n",
       " 'Pool Area',\n",
       " 'Pool QC',\n",
       " 'Fence',\n",
       " 'Misc Feature',\n",
       " 'Misc Val',\n",
       " 'Mo Sold',\n",
       " 'Yr Sold',\n",
       " 'Sale Type',\n",
       " 'SalePrice',\n",
       " 'Basement + Liv Area',\n",
       " 'Elev',\n",
       " 'Gar2',\n",
       " 'Othr',\n",
       " 'Shed',\n",
       " 'TenC',\n",
       " 'Blmngtn',\n",
       " 'Blueste',\n",
       " 'BrDale',\n",
       " 'BrkSide',\n",
       " 'ClearCr',\n",
       " 'CollgCr',\n",
       " 'Crawfor',\n",
       " 'Edwards',\n",
       " 'Gilbert',\n",
       " 'Greens',\n",
       " 'GrnHill',\n",
       " 'IDOTRR',\n",
       " 'Landmrk',\n",
       " 'MeadowV',\n",
       " 'Mitchel',\n",
       " 'NAmes',\n",
       " 'NPkVill',\n",
       " 'NWAmes',\n",
       " 'NoRidge',\n",
       " 'NridgHt',\n",
       " 'OldTown',\n",
       " 'SWISU',\n",
       " 'Sawyer',\n",
       " 'SawyerW',\n",
       " 'Somerst',\n",
       " 'StoneBr',\n",
       " 'Timber',\n",
       " 'Veenker',\n",
       " 'NeighborhoodAvgCostPerHouse',\n",
       " 'Total Number Of Baths Scaled',\n",
       " 'Total Number Of Baths Unscaled']"
      ]
     },
     "execution_count": 167,
     "metadata": {},
     "output_type": "execute_result"
    }
   ],
   "source": [
    "train.columns.tolist()"
   ]
  },
  {
   "cell_type": "code",
   "execution_count": null,
   "metadata": {},
   "outputs": [],
   "source": [
    "for x in train[['Bedroom AbvGr','BsmtFin Type 1','BsmtFin Type 2']]"
   ]
  },
  {
   "cell_type": "code",
   "execution_count": 170,
   "metadata": {},
   "outputs": [
    {
     "data": {
      "text/html": [
       "<div>\n",
       "<style scoped>\n",
       "    .dataframe tbody tr th:only-of-type {\n",
       "        vertical-align: middle;\n",
       "    }\n",
       "\n",
       "    .dataframe tbody tr th {\n",
       "        vertical-align: top;\n",
       "    }\n",
       "\n",
       "    .dataframe thead th {\n",
       "        text-align: right;\n",
       "    }\n",
       "</style>\n",
       "<table border=\"1\" class=\"dataframe\">\n",
       "  <thead>\n",
       "    <tr style=\"text-align: right;\">\n",
       "      <th></th>\n",
       "      <th>Bedroom AbvGr</th>\n",
       "      <th>BsmtFin Type 1</th>\n",
       "      <th>BsmtFin Type 2</th>\n",
       "    </tr>\n",
       "  </thead>\n",
       "  <tbody>\n",
       "    <tr>\n",
       "      <th>0</th>\n",
       "      <td>3</td>\n",
       "      <td>GLQ</td>\n",
       "      <td>Unf</td>\n",
       "    </tr>\n",
       "    <tr>\n",
       "      <th>1</th>\n",
       "      <td>4</td>\n",
       "      <td>GLQ</td>\n",
       "      <td>Unf</td>\n",
       "    </tr>\n",
       "    <tr>\n",
       "      <th>2</th>\n",
       "      <td>3</td>\n",
       "      <td>GLQ</td>\n",
       "      <td>Unf</td>\n",
       "    </tr>\n",
       "    <tr>\n",
       "      <th>3</th>\n",
       "      <td>3</td>\n",
       "      <td>Unf</td>\n",
       "      <td>Unf</td>\n",
       "    </tr>\n",
       "    <tr>\n",
       "      <th>4</th>\n",
       "      <td>3</td>\n",
       "      <td>Unf</td>\n",
       "      <td>Unf</td>\n",
       "    </tr>\n",
       "  </tbody>\n",
       "</table>\n",
       "</div>"
      ],
      "text/plain": [
       "   Bedroom AbvGr BsmtFin Type 1 BsmtFin Type 2\n",
       "0              3            GLQ            Unf\n",
       "1              4            GLQ            Unf\n",
       "2              3            GLQ            Unf\n",
       "3              3            Unf            Unf\n",
       "4              3            Unf            Unf"
      ]
     },
     "execution_count": 170,
     "metadata": {},
     "output_type": "execute_result"
    }
   ],
   "source": [
    "train[['Bedroom AbvGr','BsmtFin Type 1','BsmtFin Type 2']].head()"
   ]
  },
  {
   "cell_type": "code",
   "execution_count": 176,
   "metadata": {},
   "outputs": [
    {
     "data": {
      "text/plain": [
       "Typ     1913\n",
       "Min1      42\n",
       "Min2      42\n",
       "Mod       29\n",
       "Maj1      12\n",
       "Maj2       7\n",
       "Sal        2\n",
       "Sev        2\n",
       "Name: Functional, dtype: int64"
      ]
     },
     "execution_count": 176,
     "metadata": {},
     "output_type": "execute_result"
    }
   ],
   "source": [
    "train['Functional'].value_counts()"
   ]
  },
  {
   "cell_type": "code",
   "execution_count": 175,
   "metadata": {
    "scrolled": true
   },
   "outputs": [
    {
     "data": {
      "text/plain": [
       "0        6\n",
       "1        8\n",
       "2        5\n",
       "3        7\n",
       "4        6\n",
       "5        6\n",
       "6        5\n",
       "7        6\n",
       "8        6\n",
       "9        9\n",
       "10       4\n",
       "11       6\n",
       "12       7\n",
       "13       7\n",
       "14       6\n",
       "15       7\n",
       "16       7\n",
       "17       5\n",
       "18       7\n",
       "19       7\n",
       "20       5\n",
       "21       5\n",
       "22       8\n",
       "23       6\n",
       "24       5\n",
       "25       6\n",
       "26       5\n",
       "27       7\n",
       "28       9\n",
       "29       6\n",
       "        ..\n",
       "2021     6\n",
       "2022     7\n",
       "2023     6\n",
       "2024     6\n",
       "2025    10\n",
       "2026     8\n",
       "2027     8\n",
       "2028     9\n",
       "2029     7\n",
       "2030     7\n",
       "2031     6\n",
       "2032     6\n",
       "2033     5\n",
       "2034     6\n",
       "2035     5\n",
       "2036     8\n",
       "2037     5\n",
       "2038     5\n",
       "2039     5\n",
       "2040     7\n",
       "2041    10\n",
       "2042     8\n",
       "2043     6\n",
       "2044     6\n",
       "2045     7\n",
       "2046     7\n",
       "2047     4\n",
       "2048     9\n",
       "2049     6\n",
       "2050     7\n",
       "Name: TotRms AbvGrd, Length: 2049, dtype: int64"
      ]
     },
     "execution_count": 175,
     "metadata": {},
     "output_type": "execute_result"
    }
   ],
   "source": [
    "train['TotRms AbvGrd']"
   ]
  },
  {
   "cell_type": "code",
   "execution_count": 181,
   "metadata": {},
   "outputs": [
    {
     "data": {
      "text/html": [
       "<div>\n",
       "<style scoped>\n",
       "    .dataframe tbody tr th:only-of-type {\n",
       "        vertical-align: middle;\n",
       "    }\n",
       "\n",
       "    .dataframe tbody tr th {\n",
       "        vertical-align: top;\n",
       "    }\n",
       "\n",
       "    .dataframe thead th {\n",
       "        text-align: right;\n",
       "    }\n",
       "</style>\n",
       "<table border=\"1\" class=\"dataframe\">\n",
       "  <thead>\n",
       "    <tr style=\"text-align: right;\">\n",
       "      <th></th>\n",
       "      <th>Id</th>\n",
       "      <th>PID</th>\n",
       "      <th>MS SubClass</th>\n",
       "      <th>MS Zoning</th>\n",
       "      <th>Lot Frontage</th>\n",
       "      <th>Lot Area</th>\n",
       "      <th>Street</th>\n",
       "      <th>Alley</th>\n",
       "      <th>Lot Shape</th>\n",
       "      <th>Land Contour</th>\n",
       "      <th>...</th>\n",
       "      <th>SWISU</th>\n",
       "      <th>Sawyer</th>\n",
       "      <th>SawyerW</th>\n",
       "      <th>Somerst</th>\n",
       "      <th>StoneBr</th>\n",
       "      <th>Timber</th>\n",
       "      <th>Veenker</th>\n",
       "      <th>NeighborhoodAvgCostPerHouse</th>\n",
       "      <th>Total Number Of Baths Scaled</th>\n",
       "      <th>Total Number Of Baths Unscaled</th>\n",
       "    </tr>\n",
       "  </thead>\n",
       "  <tbody>\n",
       "    <tr>\n",
       "      <th>0</th>\n",
       "      <td>109</td>\n",
       "      <td>533352170</td>\n",
       "      <td>60</td>\n",
       "      <td>RL</td>\n",
       "      <td>NaN</td>\n",
       "      <td>13517</td>\n",
       "      <td>Pave</td>\n",
       "      <td>NaN</td>\n",
       "      <td>IR1</td>\n",
       "      <td>Lvl</td>\n",
       "      <td>...</td>\n",
       "      <td>0</td>\n",
       "      <td>1</td>\n",
       "      <td>0</td>\n",
       "      <td>0</td>\n",
       "      <td>0</td>\n",
       "      <td>0</td>\n",
       "      <td>0</td>\n",
       "      <td>137181.909910</td>\n",
       "      <td>2.5</td>\n",
       "      <td>3.0</td>\n",
       "    </tr>\n",
       "    <tr>\n",
       "      <th>1</th>\n",
       "      <td>544</td>\n",
       "      <td>531379050</td>\n",
       "      <td>60</td>\n",
       "      <td>RL</td>\n",
       "      <td>43.0</td>\n",
       "      <td>11492</td>\n",
       "      <td>Pave</td>\n",
       "      <td>NaN</td>\n",
       "      <td>IR1</td>\n",
       "      <td>Lvl</td>\n",
       "      <td>...</td>\n",
       "      <td>0</td>\n",
       "      <td>0</td>\n",
       "      <td>1</td>\n",
       "      <td>0</td>\n",
       "      <td>0</td>\n",
       "      <td>0</td>\n",
       "      <td>0</td>\n",
       "      <td>187760.160920</td>\n",
       "      <td>3.5</td>\n",
       "      <td>4.0</td>\n",
       "    </tr>\n",
       "    <tr>\n",
       "      <th>2</th>\n",
       "      <td>153</td>\n",
       "      <td>535304180</td>\n",
       "      <td>20</td>\n",
       "      <td>RL</td>\n",
       "      <td>68.0</td>\n",
       "      <td>7922</td>\n",
       "      <td>Pave</td>\n",
       "      <td>NaN</td>\n",
       "      <td>Reg</td>\n",
       "      <td>Lvl</td>\n",
       "      <td>...</td>\n",
       "      <td>0</td>\n",
       "      <td>0</td>\n",
       "      <td>0</td>\n",
       "      <td>0</td>\n",
       "      <td>0</td>\n",
       "      <td>0</td>\n",
       "      <td>0</td>\n",
       "      <td>145905.816129</td>\n",
       "      <td>2.0</td>\n",
       "      <td>2.0</td>\n",
       "    </tr>\n",
       "    <tr>\n",
       "      <th>3</th>\n",
       "      <td>318</td>\n",
       "      <td>916386060</td>\n",
       "      <td>60</td>\n",
       "      <td>RL</td>\n",
       "      <td>73.0</td>\n",
       "      <td>9802</td>\n",
       "      <td>Pave</td>\n",
       "      <td>NaN</td>\n",
       "      <td>Reg</td>\n",
       "      <td>Lvl</td>\n",
       "      <td>...</td>\n",
       "      <td>0</td>\n",
       "      <td>0</td>\n",
       "      <td>0</td>\n",
       "      <td>0</td>\n",
       "      <td>0</td>\n",
       "      <td>1</td>\n",
       "      <td>0</td>\n",
       "      <td>241051.354167</td>\n",
       "      <td>2.5</td>\n",
       "      <td>3.0</td>\n",
       "    </tr>\n",
       "    <tr>\n",
       "      <th>4</th>\n",
       "      <td>255</td>\n",
       "      <td>906425045</td>\n",
       "      <td>50</td>\n",
       "      <td>RL</td>\n",
       "      <td>82.0</td>\n",
       "      <td>14235</td>\n",
       "      <td>Pave</td>\n",
       "      <td>NaN</td>\n",
       "      <td>IR1</td>\n",
       "      <td>Lvl</td>\n",
       "      <td>...</td>\n",
       "      <td>0</td>\n",
       "      <td>0</td>\n",
       "      <td>1</td>\n",
       "      <td>0</td>\n",
       "      <td>0</td>\n",
       "      <td>0</td>\n",
       "      <td>0</td>\n",
       "      <td>187760.160920</td>\n",
       "      <td>2.0</td>\n",
       "      <td>2.0</td>\n",
       "    </tr>\n",
       "  </tbody>\n",
       "</table>\n",
       "<p>5 rows × 118 columns</p>\n",
       "</div>"
      ],
      "text/plain": [
       "    Id        PID  MS SubClass MS Zoning  Lot Frontage  Lot Area Street Alley  \\\n",
       "0  109  533352170           60        RL           NaN     13517   Pave   NaN   \n",
       "1  544  531379050           60        RL          43.0     11492   Pave   NaN   \n",
       "2  153  535304180           20        RL          68.0      7922   Pave   NaN   \n",
       "3  318  916386060           60        RL          73.0      9802   Pave   NaN   \n",
       "4  255  906425045           50        RL          82.0     14235   Pave   NaN   \n",
       "\n",
       "  Lot Shape Land Contour               ...               SWISU Sawyer SawyerW  \\\n",
       "0       IR1          Lvl               ...                   0      1       0   \n",
       "1       IR1          Lvl               ...                   0      0       1   \n",
       "2       Reg          Lvl               ...                   0      0       0   \n",
       "3       Reg          Lvl               ...                   0      0       0   \n",
       "4       IR1          Lvl               ...                   0      0       1   \n",
       "\n",
       "  Somerst StoneBr Timber Veenker NeighborhoodAvgCostPerHouse  \\\n",
       "0       0       0      0       0               137181.909910   \n",
       "1       0       0      0       0               187760.160920   \n",
       "2       0       0      0       0               145905.816129   \n",
       "3       0       0      1       0               241051.354167   \n",
       "4       0       0      0       0               187760.160920   \n",
       "\n",
       "   Total Number Of Baths Scaled  Total Number Of Baths Unscaled  \n",
       "0                           2.5                             3.0  \n",
       "1                           3.5                             4.0  \n",
       "2                           2.0                             2.0  \n",
       "3                           2.5                             3.0  \n",
       "4                           2.0                             2.0  \n",
       "\n",
       "[5 rows x 118 columns]"
      ]
     },
     "execution_count": 181,
     "metadata": {},
     "output_type": "execute_result"
    }
   ],
   "source": [
    "train.head()"
   ]
  },
  {
   "cell_type": "code",
   "execution_count": 146,
   "metadata": {
    "scrolled": true
   },
   "outputs": [
    {
     "data": {
      "text/plain": [
       "<matplotlib.axes._subplots.AxesSubplot at 0x2516a1f0128>"
      ]
     },
     "execution_count": 146,
     "metadata": {},
     "output_type": "execute_result"
    },
    {
     "data": {
      "image/png": "[encoded data removed]",
      "text/plain": [
       "<Figure size 576x1440 with 2 Axes>"
      ]
     },
     "metadata": {},
     "output_type": "display_data"
    }
   ],
   "source": [
    "train_corr = train.corrwith(train['SalePrice']).sort_values(ascending=False)[1:]\n",
    "train.corrwith(train['SalePrice']).sort_values(ascending=False)\n",
    "fig, ax = plt.subplots(figsize=(8,20))\n",
    "sns.heatmap(train_corr.to_frame(), center=0, cmap='coolwarm', annot=True)"
   ]
  },
  {
   "cell_type": "code",
   "execution_count": 49,
   "metadata": {},
   "outputs": [
    {
     "data": {
      "text/plain": [
       "Basement + Liv Area              0\n",
       "Overall Qual                     0\n",
       "NeighborhoodAvgCostPerHouse      0\n",
       "Gr Liv Area                      0\n",
       "Exter Qual                       0\n",
       "Kitchen Qual                     0\n",
       "Total Bsmt SF                    0\n",
       "Garage Area                      0\n",
       "1st Flr SF                       0\n",
       "Garage Cars                      0\n",
       "Bsmt Qual                        0\n",
       "Year Built                       0\n",
       "Year Remod/Add                   0\n",
       "Fireplace Qu                     0\n",
       "Full Bath                        0\n",
       "Garage Yr Blt                  114\n",
       "Mas Vnr Area                    22\n",
       "TotRms AbvGrd                    0\n",
       "Fireplaces                       0\n",
       "Heating QC                       0\n",
       "NridgHt                          0\n",
       "BsmtFin SF 1                     1\n",
       "Lot Frontage                   330\n",
       "Open Porch SF                    0\n",
       "Wood Deck SF                     0\n",
       "Lot Area                         0\n",
       "Garage Qual                      0\n",
       "Bsmt Full Bath                   2\n",
       "Half Bath                        0\n",
       "Garage Cond                      0\n",
       "dtype: int64"
      ]
     },
     "execution_count": 49,
     "metadata": {},
     "output_type": "execute_result"
    }
   ],
   "source": [
    "train[list(train_corr.index[0:30])].isnull().sum()"
   ]
  },
  {
   "cell_type": "code",
   "execution_count": 50,
   "metadata": {},
   "outputs": [],
   "source": [
    "features = list(train_corr.index[0:15])\n",
    "X = train[features]\n",
    "y = train['SalePrice']"
   ]
  },
  {
   "cell_type": "markdown",
   "metadata": {},
   "source": [
    "## Model Prep: Train/test split\n",
    "\n",
    "We always want to have a holdout set to test our model. Use the `train_test_split` function to split our `X` and `y` variables into a training set and a holdout set."
   ]
  },
  {
   "cell_type": "code",
   "execution_count": 51,
   "metadata": {},
   "outputs": [],
   "source": [
    "X_train, X_test, y_train, y_test = train_test_split(X, y)"
   ]
  },
  {
   "cell_type": "markdown",
   "metadata": {},
   "source": [
    "## Model Prep: Scaling\n",
    "\n",
    "Since we're using `Lasso` and `Ridge`, we'll want to scale our features. In the cell below, fit a `StandardScaler` to `X_train` and use it to transform both `X_train` and `X_test`."
   ]
  },
  {
   "cell_type": "code",
   "execution_count": 52,
   "metadata": {},
   "outputs": [],
   "source": [
    "ss = StandardScaler()\n",
    "X_train_sc = ss.fit_transform(X_train)\n",
    "X_test_sc = ss.transform(X_test)"
   ]
  },
  {
   "cell_type": "markdown",
   "metadata": {},
   "source": [
    "## Model Prep: Instantiate our models\n",
    "\n",
    "We'll be evaluating `LinearRegression`, `LassoCV` and `RidgeCV`, so we'll need to create instances of all three models."
   ]
  },
  {
   "cell_type": "code",
   "execution_count": 53,
   "metadata": {},
   "outputs": [],
   "source": [
    "lr = LinearRegression()\n",
    "lasso = LassoCV()\n",
    "ridge = RidgeCV()"
   ]
  },
  {
   "cell_type": "markdown",
   "metadata": {},
   "source": []
  },
  {
   "cell_type": "code",
   "execution_count": 54,
   "metadata": {},
   "outputs": [
    {
     "data": {
      "text/plain": [
       "10.0"
      ]
     },
     "execution_count": 54,
     "metadata": {},
     "output_type": "execute_result"
    }
   ],
   "source": [
    "ridge = RidgeCV()\n",
    "ridge.fit(X_train_sc, y_train)\n",
    "r_alpha = ridge.alpha_\n",
    "r_alpha"
   ]
  },
  {
   "cell_type": "code",
   "execution_count": 55,
   "metadata": {},
   "outputs": [
    {
     "data": {
      "text/plain": [
       "66.26207559444161"
      ]
     },
     "execution_count": 55,
     "metadata": {},
     "output_type": "execute_result"
    }
   ],
   "source": [
    "lasso = LassoCV()\n",
    "lasso.fit(X_train_sc, y_train)\n",
    "l_alpha = lasso.alpha_\n",
    "l_alpha"
   ]
  },
  {
   "cell_type": "code",
   "execution_count": 56,
   "metadata": {},
   "outputs": [
    {
     "name": "stdout",
     "output_type": "stream",
     "text": [
      "Linear Regresion CV Score: 0.8580076793300603\n",
      "Lasso CV Score: 0.8579680597802773\n",
      "Ridge CV Score: 0.8581014538900561\n"
     ]
    }
   ],
   "source": [
    "lr_scores = cross_val_score(lr, X_train_sc, y_train, cv=3).mean()\n",
    "lasso_scores = cross_val_score(Lasso(alpha=l_alpha), X_train_sc, y_train, cv=3).mean()\n",
    "ridge_scores = cross_val_score(Ridge(alpha=r_alpha), X_train_sc, y_train, cv=3).mean()\n",
    "\n",
    "print(f'Linear Regresion CV Score: {lr_scores}')\n",
    "print(f'Lasso CV Score: {lasso_scores}')\n",
    "print(f'Ridge CV Score: {ridge_scores}')"
   ]
  },
  {
   "cell_type": "code",
   "execution_count": 57,
   "metadata": {},
   "outputs": [
    {
     "name": "stdout",
     "output_type": "stream",
     "text": [
      "Linear Regresion R2: 0.8649871053602735\n",
      "Lasso R2 Score: 0.8649795159404526\n",
      "Ridge R2 Score: 0.8650699292232482\n"
     ]
    }
   ],
   "source": [
    "lr.fit(X_train_sc, y_train)\n",
    "lasso.fit(X_train_sc, y_train)\n",
    "ridge.fit(X_train_sc, y_train)\n",
    "\n",
    "lr_predict = lr.predict(X_test_sc)\n",
    "lasso_predict = lasso.predict(X_test_sc)\n",
    "ridge_predict = ridge.predict(X_test_sc)\n",
    "\n",
    "lr_r2 = r2_score(y_test, lr_predict)\n",
    "lasso_r2 = r2_score(y_test, lasso_predict)\n",
    "ridge_r2 = r2_score(y_test, ridge_predict)\n",
    "\n",
    "print(f'Linear Regresion R2: {lr_r2}')\n",
    "print(f'Lasso R2 Score: {lasso_r2}')\n",
    "print(f'Ridge R2 Score: {ridge_r2}')"
   ]
  },
  {
   "cell_type": "markdown",
   "metadata": {},
   "source": []
  },
  {
   "cell_type": "code",
   "execution_count": 58,
   "metadata": {},
   "outputs": [
    {
     "name": "stdout",
     "output_type": "stream",
     "text": [
      "Linear Regresion Score on Train: 0.861449449007291\n",
      "Linear Regresion Score on Test: 0.8649871053602735\n",
      "\n",
      "Lasso Score on Train: 0.8614281669697815\n",
      "Lasso Score on Test: 0.8649795159404526\n",
      "\n",
      "Ridge Score on Train: 0.8614362997234204\n",
      "Ridge Score on Test: 0.8650699292232481\n"
     ]
    }
   ],
   "source": [
    "lrscoretrain = lr.score(X_train_sc,y_train)\n",
    "lrscoretest = lr.score(X_test_sc, y_test)\n",
    "lassoscoretrain = lasso.score(X_train_sc,y_train)\n",
    "lassoscoretest = lasso.score(X_test_sc, y_test)\n",
    "ridgescoretrain = ridge.score(X_train_sc,y_train)\n",
    "ridgescoretest = ridge.score(X_test_sc, y_test)\n",
    "\n",
    "print(f'Linear Regresion Score on Train: {lrscoretrain}')\n",
    "print(f'Linear Regresion Score on Test: {lrscoretest}')\n",
    "print('')\n",
    "print(f'Lasso Score on Train: {lassoscoretrain}')\n",
    "print(f'Lasso Score on Test: {lassoscoretest}')\n",
    "print('')\n",
    "print(f'Ridge Score on Train: {ridgescoretrain}')\n",
    "print(f'Ridge Score on Test: {ridgescoretest}')"
   ]
  },
  {
   "cell_type": "markdown",
   "metadata": {},
   "source": [
    "## Reset X and y\n",
    "----"
   ]
  },
  {
   "cell_type": "code",
   "execution_count": 59,
   "metadata": {},
   "outputs": [
    {
     "data": {
      "text/plain": [
       "(      Basement + Liv Area  Overall Qual  NeighborhoodAvgCostPerHouse  \\\n",
       " 0                  2204.0             6                137181.909910   \n",
       " 1                  3035.0             7                187760.160920   \n",
       " 2                  2114.0             5                145905.816129   \n",
       " 3                  1828.0             5                241051.354167   \n",
       " 4                  2121.0             6                187760.160920   \n",
       " 5                  3405.0             6                145905.816129   \n",
       " 6                  1619.0             6                130493.468531   \n",
       " 7                  2376.0             5                145905.816129   \n",
       " 8                  1848.0             5                125276.300613   \n",
       " 9                  3120.0             5                145905.816129   \n",
       " 10                 1470.0             6                103371.052632   \n",
       " 11                 2416.0             7                202497.216667   \n",
       " 12                 2016.0             5                187760.160920   \n",
       " 13                 2567.0             8                227183.900000   \n",
       " 14                 2712.0             7                202497.216667   \n",
       " 15                 2860.0             5                167656.707317   \n",
       " 16                 1968.0             5                125276.300613   \n",
       " 17                 2242.0             5                137181.909910   \n",
       " 18                 1945.0             6                137181.909910   \n",
       " 19                 2303.0             7                227183.900000   \n",
       " 20                 1788.0             5                137181.909910   \n",
       " 21                 3160.0             8                329675.736842   \n",
       " 22                 3462.0             8                322831.352459   \n",
       " 23                 2355.0             6                189228.387931   \n",
       " 24                 2112.0             5                189228.387931   \n",
       " 25                 2906.0             6                145905.816129   \n",
       " 26                 1788.0             5                137181.909910   \n",
       " 27                 2880.0             5                205901.211268   \n",
       " 28                 2948.0             5                101103.188406   \n",
       " 29                 1596.0             5                145905.816129   \n",
       " ...                   ...           ...                          ...   \n",
       " 2021               2395.0             7                202497.216667   \n",
       " 2022               3688.0             6                205901.211268   \n",
       " 2023               2734.0             7                322831.352459   \n",
       " 2024               2264.0             7                194619.022989   \n",
       " 2025               3443.0             8                322831.352459   \n",
       " 2026               2569.0             7                205901.211268   \n",
       " 2027               3112.0             5                145905.816129   \n",
       " 2028               3724.0             7                194619.022989   \n",
       " 2029               3956.0             9                241051.354167   \n",
       " 2030               2037.0             4                101103.188406   \n",
       " 2031               2156.0             5                145905.816129   \n",
       " 2032               2528.0             6                167656.707317   \n",
       " 2033               2382.0             8                144566.666667   \n",
       " 2034               2973.0             6                202497.216667   \n",
       " 2035               1880.0             4                205901.211268   \n",
       " 2036               2695.0             8                227183.900000   \n",
       " 2037               1758.0             5                137181.909910   \n",
       " 2038               2084.0             6                145905.816129   \n",
       " 2039               1638.0             4                100231.250000   \n",
       " 2040               3591.0             7                217490.074074   \n",
       " 2041               4240.0             9                322831.352459   \n",
       " 2042               2278.0             4                130493.468531   \n",
       " 2043               1832.0             6                127022.697368   \n",
       " 2044               2363.0             6                187760.160920   \n",
       " 2045               3864.0             8                322831.352459   \n",
       " 2046               3612.0             8                241051.354167   \n",
       " 2047               1722.0             4                130493.468531   \n",
       " 2048               2809.0             6                205901.211268   \n",
       " 2049               2400.0             4                145905.816129   \n",
       " 2050               2798.0             7                189228.387931   \n",
       " \n",
       "       Gr Liv Area  Exter Qual  Kitchen Qual  Total Bsmt SF  Garage Area  \\\n",
       " 0            1479           4             4          725.0        475.0   \n",
       " 1            2122           4             4          913.0        559.0   \n",
       " 2            1057           3             4         1057.0        246.0   \n",
       " 3            1444           3             3          384.0        400.0   \n",
       " 4            1445           3             3          676.0        484.0   \n",
       " 5            1888           4             4         1517.0        578.0   \n",
       " 6            1072           3             3          547.0        525.0   \n",
       " 7            1188           3             3         1188.0        531.0   \n",
       " 8             924           3             3          924.0        420.0   \n",
       " 9            2080           3             2         1040.0        504.0   \n",
       " 10            987           3             3          483.0        264.0   \n",
       " 11           1208           4             4         1208.0        632.0   \n",
       " 12           2016           4             3            0.0        576.0   \n",
       " 13           1607           4             4          960.0        480.0   \n",
       " 14           1361           4             4         1351.0        610.0   \n",
       " 15           1430           3             4         1430.0        624.0   \n",
       " 16           1344           3             3          624.0        513.0   \n",
       " 17           1121           3             3         1121.0        480.0   \n",
       " 18           1285           3             3          660.0        528.0   \n",
       " 19           1547           3             4          756.0        614.0   \n",
       " 20            894           3             3          894.0        450.0   \n",
       " 21           1659           4             5         1501.0        499.0   \n",
       " 22           2253           4             5         1209.0        575.0   \n",
       " 23           1187           3             3         1168.0        420.0   \n",
       " 24           1056           3             3         1056.0        572.0   \n",
       " 25           1453           3             3         1453.0        530.0   \n",
       " 26            894           3             3          894.0        336.0   \n",
       " 27           1938           3             4          942.0        240.0   \n",
       " 28           1991           3             3          957.0          0.0   \n",
       " 29            924           3             3          672.0        576.0   \n",
       " ...           ...         ...           ...            ...          ...   \n",
       " 2021         1611           4             4          784.0        572.0   \n",
       " 2022         1844           4             4         1844.0        540.0   \n",
       " 2023         1367           4             4         1367.0        484.0   \n",
       " 2024         1725           3             3          539.0        550.0   \n",
       " 2025         2389           4             4         1054.0        672.0   \n",
       " 2026         1718           3             4          851.0        264.0   \n",
       " 2027         1556           3             3         1556.0          0.0   \n",
       " 2028         2156           3             3         1568.0        508.0   \n",
       " 2029         1978           5             5         1978.0        920.0   \n",
       " 2030         1178           3             3          859.0        384.0   \n",
       " 2031         1078           3             3         1078.0        500.0   \n",
       " 2032         1285           3             4         1243.0        473.0   \n",
       " 2033         1191           4             4         1191.0        531.0   \n",
       " 2034         1494           3             4         1479.0        576.0   \n",
       " 2035         1180           3             2          700.0        252.0   \n",
       " 2036         1795           4             4          900.0        782.0   \n",
       " 2037          894           3             3          864.0        440.0   \n",
       " 2038         1042           3             3         1042.0        440.0   \n",
       " 2039         1092           3             3          546.0          0.0   \n",
       " 2040         2287           4             3         1304.0        667.0   \n",
       " 2041         2668           4             5         1572.0        726.0   \n",
       " 2042         1414           3             3          864.0          0.0   \n",
       " 2043         1232           3             3          600.0        217.0   \n",
       " 2044         1609           4             4          754.0        525.0   \n",
       " 2045         1932           5             5         1932.0        774.0   \n",
       " 2046         1728           4             4         1884.0        520.0   \n",
       " 2047          861           3             3          861.0        539.0   \n",
       " 2048         1913           3             3          896.0        342.0   \n",
       " 2049         1200           3             3         1200.0        294.0   \n",
       " 2050         1804           3             4          994.0        442.0   \n",
       " \n",
       "       1st Flr SF  Garage Cars  Bsmt Qual  Year Built  Year Remod/Add  \\\n",
       " 0            725          2.0          3        1976            2005   \n",
       " 1            913          2.0          4        1996            1997   \n",
       " 2           1057          1.0          3        1953            2007   \n",
       " 3            744          2.0          4        2006            2007   \n",
       " 4            831          2.0          2        1900            1993   \n",
       " 5           1888          2.0          3        1966            2002   \n",
       " 6           1072          2.0          4        2005            2006   \n",
       " 7           1188          2.0          3        1959            1959   \n",
       " 8            924          1.0          3        1952            1952   \n",
       " 9           1040          2.0          4        1969            1969   \n",
       " 10           483          1.0          3        1971            1971   \n",
       " 11          1208          2.0          4        2005            2005   \n",
       " 12          1288          2.0          0        1880            2007   \n",
       " 13           962          2.0          4        1999            2000   \n",
       " 14          1361          2.0          4        2007            2007   \n",
       " 15          1430          2.0          5        2004            2005   \n",
       " 16           624          3.0          3        1916            1950   \n",
       " 17          1121          2.0          3        1963            1963   \n",
       " 18          1285          2.0          3        1977            1977   \n",
       " 19           764          2.0          4        2009            2009   \n",
       " 20           894          2.0          4        1968            1968   \n",
       " 21          1659          2.0          4        2000            2000   \n",
       " 22          1209          2.0          5        2005            2006   \n",
       " 23          1187          2.0          4        1992            2007   \n",
       " 24          1056          2.0          3        1955            1955   \n",
       " 25          1453          2.0          3        1961            1961   \n",
       " 26           894          1.0          3        1965            2009   \n",
       " 27          1265          1.0          3        1937            1995   \n",
       " 28          1034          0.0          3        1895            2006   \n",
       " 29           672          2.0          3        1949            2006   \n",
       " ...          ...          ...        ...         ...             ...   \n",
       " 2021         784          2.0          4        2005            2005   \n",
       " 2022        1844          2.0          3        1969            1969   \n",
       " 2023        1367          2.0          4        2005            2005   \n",
       " 2024        1040          2.0          3        1979            1979   \n",
       " 2025        1054          3.0          5        2006            2006   \n",
       " 2026         867          2.0          3        1927            1992   \n",
       " 2027        1556          0.0          3        1960            1960   \n",
       " 2028        2156          2.0          3        1968            2003   \n",
       " 2029        1978          3.0          5        2007            2007   \n",
       " 2030         859          1.0          3        1900            1950   \n",
       " 2031        1078          2.0          3        1971            2008   \n",
       " 2032        1285          2.0          3        1977            1977   \n",
       " 2033        1191          2.0          4        1989            1989   \n",
       " 2034        1494          2.0          4        1997            1997   \n",
       " 2035        1180          1.0          2        1922            1950   \n",
       " 2036         909          3.0          5        2006            2006   \n",
       " 2037         894          2.0          3        1974            1974   \n",
       " 2038        1042          2.0          3        1965            1965   \n",
       " 2039         546          0.0          3        1970            1970   \n",
       " 2040        1304          2.0          3        1953            1953   \n",
       " 2041        1572          3.0          5        2003            2004   \n",
       " 2042         964          0.0          3        1922            1950   \n",
       " 2043         608          1.0          3        1939            1950   \n",
       " 2044         754          2.0          4        1995            1995   \n",
       " 2045        1932          3.0          5        2008            2008   \n",
       " 2046        1728          2.0          4        2007            2007   \n",
       " 2047         861          2.0          3        1940            1950   \n",
       " 2048        1172          2.0          3        1928            1950   \n",
       " 2049        1200          1.0          3        1956            1956   \n",
       " 2050        1028          2.0          3        1999            1999   \n",
       " \n",
       "       Fireplace Qu  Full Bath  \n",
       " 0                0          2  \n",
       " 1                3          2  \n",
       " 2                0          1  \n",
       " 3                0          2  \n",
       " 4                0          2  \n",
       " 5                4          2  \n",
       " 6                0          2  \n",
       " 7                0          1  \n",
       " 8                0          1  \n",
       " 9                3          1  \n",
       " 10               0          1  \n",
       " 11               0          2  \n",
       " 12               3          1  \n",
       " 13               0          2  \n",
       " 14               0          2  \n",
       " 15               0          2  \n",
       " 16               0          1  \n",
       " 17               0          1  \n",
       " 18               3          1  \n",
       " 19               0          2  \n",
       " 20               1          1  \n",
       " 21               5          2  \n",
       " 22               4          2  \n",
       " 23               0          2  \n",
       " 24               0          1  \n",
       " 25               3          2  \n",
       " 26               4          1  \n",
       " 27               4          2  \n",
       " 28               0          2  \n",
       " 29               1          1  \n",
       " ...            ...        ...  \n",
       " 2021             0          2  \n",
       " 2022             3          2  \n",
       " 2023             4          2  \n",
       " 2024             3          2  \n",
       " 2025             4          2  \n",
       " 2026             3          2  \n",
       " 2027             0          2  \n",
       " 2028             4          2  \n",
       " 2029             4          2  \n",
       " 2030             0          1  \n",
       " 2031             2          1  \n",
       " 2032             2          2  \n",
       " 2033             3          2  \n",
       " 2034             0          2  \n",
       " 2035             4          1  \n",
       " 2036             4          2  \n",
       " 2037             2          1  \n",
       " 2038             0          2  \n",
       " 2039             0          1  \n",
       " 2040             3          2  \n",
       " 2041             4          2  \n",
       " 2042             4          1  \n",
       " 2043             3          1  \n",
       " 2044             0          2  \n",
       " 2045             4          2  \n",
       " 2046             4          2  \n",
       " 2047             0          1  \n",
       " 2048             3          1  \n",
       " 2049             4          1  \n",
       " 2050             3          2  \n",
       " \n",
       " [2049 rows x 15 columns], 0       130500\n",
       " 1       220000\n",
       " 2       109000\n",
       " 3       174000\n",
       " 4       138500\n",
       " 5       190000\n",
       " 6       140000\n",
       " 7       142000\n",
       " 8       112500\n",
       " 9       135000\n",
       " 10       85400\n",
       " 11      183600\n",
       " 12      131000\n",
       " 13      200000\n",
       " 14      193000\n",
       " 15      173500\n",
       " 16       98000\n",
       " 17      139000\n",
       " 18      143500\n",
       " 19      215200\n",
       " 20      129000\n",
       " 21      278000\n",
       " 22      344133\n",
       " 23      185000\n",
       " 24      145000\n",
       " 25      187500\n",
       " 26      138500\n",
       " 27      198000\n",
       " 28      119600\n",
       " 29      122900\n",
       "          ...  \n",
       " 2021    195800\n",
       " 2022    223000\n",
       " 2023    192000\n",
       " 2024    197000\n",
       " 2025    298236\n",
       " 2026    238000\n",
       " 2027    119000\n",
       " 2028    262500\n",
       " 2029    425000\n",
       " 2030    102776\n",
       " 2031    149900\n",
       " 2032    190000\n",
       " 2033    162500\n",
       " 2034    217000\n",
       " 2035    137500\n",
       " 2036    270000\n",
       " 2037    142500\n",
       " 2038    161000\n",
       " 2039     93900\n",
       " 2040    225000\n",
       " 2041    412500\n",
       " 2042     83000\n",
       " 2043    128000\n",
       " 2044    182000\n",
       " 2045    394617\n",
       " 2046    298751\n",
       " 2047     82500\n",
       " 2048    177000\n",
       " 2049    144000\n",
       " 2050    189000\n",
       " Name: SalePrice, Length: 2049, dtype: int64)"
      ]
     },
     "execution_count": 59,
     "metadata": {},
     "output_type": "execute_result"
    }
   ],
   "source": [
    "X, y"
   ]
  },
  {
   "cell_type": "code",
   "execution_count": 60,
   "metadata": {},
   "outputs": [],
   "source": [
    "\n",
    "\n",
    "X_sc = ss.transform(X)"
   ]
  },
  {
   "cell_type": "code",
   "execution_count": 61,
   "metadata": {},
   "outputs": [
    {
     "data": {
      "text/plain": [
       "array([[-0.4599721 , -0.07027352, -0.72663251, ...,  1.00704469,\n",
       "        -0.97411452,  0.76992763],\n",
       "       [ 0.62203954,  0.63063644,  0.10988732, ...,  0.62695546,\n",
       "         0.68775875,  0.76992763],\n",
       "       [-0.57715747, -0.77118348, -0.58234677, ...,  1.102067  ,\n",
       "        -0.97411452, -1.02190395],\n",
       "       ...,\n",
       "       [ 0.32777404, -0.07027352,  0.40992435, ..., -1.60606878,\n",
       "         0.68775875, -1.02190395],\n",
       "       [-0.20476839, -1.47209344, -0.58234677, ..., -1.32100186,\n",
       "         1.24171651, -1.02190395],\n",
       "       [ 0.31345138,  0.63063644,  0.1341705 , ...,  0.72197776,\n",
       "         0.68775875,  0.76992763]])"
      ]
     },
     "execution_count": 61,
     "metadata": {},
     "output_type": "execute_result"
    }
   ],
   "source": [
    "X_sc"
   ]
  },
  {
   "cell_type": "code",
   "execution_count": 62,
   "metadata": {},
   "outputs": [],
   "source": [
    "ridge = RidgeCV()\n",
    "ridge_model = ridge.fit(X_sc, y)"
   ]
  },
  {
   "cell_type": "code",
   "execution_count": 63,
   "metadata": {
    "scrolled": true
   },
   "outputs": [],
   "source": [
    "l_alphas = np.arange(0.15,1,0.01)\n",
    "lasso_model = LassoCV(alphas=l_alphas)\n",
    "lasso_model = lasso.fit(X_sc, y)\n"
   ]
  },
  {
   "cell_type": "code",
   "execution_count": 64,
   "metadata": {},
   "outputs": [
    {
     "data": {
      "text/plain": [
       "65.36378301649589"
      ]
     },
     "execution_count": 64,
     "metadata": {},
     "output_type": "execute_result"
    }
   ],
   "source": [
    "best_alpha = lasso_model.alpha_\n",
    "best_alpha"
   ]
  },
  {
   "cell_type": "code",
   "execution_count": 65,
   "metadata": {},
   "outputs": [
    {
     "data": {
      "text/plain": [
       "0.8625547147642726"
      ]
     },
     "execution_count": 65,
     "metadata": {},
     "output_type": "execute_result"
    }
   ],
   "source": [
    "lasso_model.score(X_sc,y)"
   ]
  },
  {
   "cell_type": "code",
   "execution_count": 66,
   "metadata": {},
   "outputs": [
    {
     "data": {
      "text/plain": [
       "0.8625689357901694"
      ]
     },
     "execution_count": 66,
     "metadata": {},
     "output_type": "execute_result"
    }
   ],
   "source": [
    "ridge_model.score(X_sc,y)"
   ]
  },
  {
   "cell_type": "markdown",
   "metadata": {},
   "source": [
    "## Submitting Our Model\n",
    "\n",
    "----"
   ]
  },
  {
   "cell_type": "code",
   "execution_count": 67,
   "metadata": {},
   "outputs": [],
   "source": [
    "test = pd.read_csv('datasets/test.csv')"
   ]
  },
  {
   "cell_type": "code",
   "execution_count": 68,
   "metadata": {},
   "outputs": [],
   "source": [
    "changes_to_dataframe(test)"
   ]
  },
  {
   "cell_type": "code",
   "execution_count": 69,
   "metadata": {},
   "outputs": [],
   "source": [
    "test['NeighborhoodAvgCostPerHouse'] = test['Neighborhood']\n",
    "test['NeighborhoodAvgCostPerHouse'] = test['NeighborhoodAvgCostPerHouse'].map(avg_cost_per_neigh)"
   ]
  },
  {
   "cell_type": "code",
   "execution_count": 70,
   "metadata": {},
   "outputs": [],
   "source": [
    "X_test = test[features]"
   ]
  },
  {
   "cell_type": "code",
   "execution_count": 71,
   "metadata": {},
   "outputs": [],
   "source": [
    "X_test_sc = ss.transform(X_test)"
   ]
  },
  {
   "cell_type": "code",
   "execution_count": 72,
   "metadata": {},
   "outputs": [
    {
     "data": {
      "text/plain": [
       "array([[ 0.50876034, -0.07027352, -0.92354083, ..., -1.60606878,\n",
       "        -0.97411452,  0.76992763],\n",
       "       [ 1.79259123, -0.77118348, -0.72663251, ..., -0.32326762,\n",
       "        -0.97411452,  0.76992763],\n",
       "       [-0.53028332,  0.63063644,  0.1341705 , ...,  1.05455584,\n",
       "         1.24171651,  0.76992763],\n",
       "       ...,\n",
       "       [-0.51335654, -0.77118348, -0.72663251, ..., -0.75086801,\n",
       "         0.68775875, -1.02190395],\n",
       "       [-1.07975253, -1.47209344, -0.58234677, ..., -0.60833455,\n",
       "        -0.97411452, -1.02190395],\n",
       "       [-0.92350536, -0.77118348, -0.58234677, ..., -1.36851301,\n",
       "         0.68775875, -1.02190395]])"
      ]
     },
     "execution_count": 72,
     "metadata": {},
     "output_type": "execute_result"
    }
   ],
   "source": [
    "X_test_sc"
   ]
  },
  {
   "cell_type": "code",
   "execution_count": 73,
   "metadata": {},
   "outputs": [],
   "source": [
    "predictions = ridge_model.predict(X_test_sc)"
   ]
  },
  {
   "cell_type": "code",
   "execution_count": 74,
   "metadata": {},
   "outputs": [
    {
     "data": {
      "text/plain": [
       "array([140113.9937883 , 205205.24858556, 192758.64068297, 126195.40721707,\n",
       "       180236.13549465,  83125.74288054, 110020.69717696, 168403.57843603,\n",
       "       213402.41567373, 154246.06636893, 179452.78562563, 115337.7411951 ,\n",
       "       167064.07359593, 243911.97472515, 168131.96100273, 115485.81398087,\n",
       "       155042.83803462, 117984.93449019, 186521.76191458, 204872.27665698,\n",
       "       142293.26507208, 116381.49220796, 223918.49336392, 154424.50030879,\n",
       "       206934.9165663 , 119012.75831666, 147892.91595949, 155016.43587596,\n",
       "       141782.72869788,  26489.30403753, 112513.77167328, 100956.53490381,\n",
       "       270550.10924699, 170410.00650575, 233344.23808095, 167081.00023023,\n",
       "       129339.65818642,  58731.41216784, 116365.45698163, 218130.48032072,\n",
       "       170429.870484  , 219452.21101754, 165964.94944678, 163063.8223084 ,\n",
       "       235008.25870495, 103957.00582122, 225573.08247713, 117749.12504384,\n",
       "       113634.9455757 , 116477.89754025, 107820.06973639, 199092.91680657,\n",
       "       265963.73283917, 128758.06333603,  98326.94665309, 146390.22272805,\n",
       "       154668.33327222, 157927.96515143, 167051.93091998, 239094.37843908,\n",
       "       324414.15980935, 124391.78785501, 144106.74069964, 179559.24870033,\n",
       "       181845.22061461, 325497.98714753,  83900.49834614, 248926.53790154,\n",
       "        71808.30574279, 168204.86071157,  74098.17738579, 338101.95851261,\n",
       "       204590.29395465, 180549.85694871, 125651.19112452, 220233.40691126,\n",
       "       500802.22169177, 150073.65771058, 141837.50622537,  72105.66976887,\n",
       "       340288.27156727, 229599.76160664, 119851.65022275, 143492.17330781,\n",
       "       113384.93095964, 181105.74217249, 383041.59271548, 122405.78751814,\n",
       "       172687.66237041, 249389.64808129, 158809.05991767, 127406.03192731,\n",
       "       107447.74281595, 117077.38675866, 240299.45118429, 102255.86793374,\n",
       "       154112.95364683, 176596.04474618, 279385.93891122, 196153.67414754,\n",
       "       209895.20044865, 298744.26385407, 183941.5340075 , 114162.99822256,\n",
       "       421927.57445042, 157453.51885056,  98177.44982827, 167848.99515913,\n",
       "       197735.40226581, 203711.18247188, 146880.37340702, 173070.7535676 ,\n",
       "       248877.6562028 ,  99876.89359145, 134313.52235968, 222001.08944758,\n",
       "       406600.32093492, 157583.47118449,  99391.71864957, 310575.60357502,\n",
       "       184929.7541735 , 358826.57559144, 295836.68387441, 302423.37339378,\n",
       "       149231.12322739, 172057.62955498, 350800.51994382, 115963.10214665,\n",
       "       128988.56970345, 119370.01614163, 278694.54961938, 129845.90060124,\n",
       "       176485.58837125, 137873.7066825 , 164208.71001555, 162708.98689494,\n",
       "       244627.46253684, 220208.74744727, 197034.56741408, 248926.53790154,\n",
       "       108658.96160702, 204352.89387876, 133673.99608698, 123655.5536002 ,\n",
       "       193860.55195634,  76168.17188493, 144719.85820322, 152860.45534446,\n",
       "       149820.1171198 ,  45535.32005221, 261135.89100966, 209692.9959062 ,\n",
       "       162309.03238219, 119417.39130671, 107731.07636036, 113874.71886038,\n",
       "       119600.1169232 ,  73041.66005487, 134514.56667416, 251479.35411169,\n",
       "       278289.46607725, 206745.55567831, 112169.43374641, 122720.76877738,\n",
       "       427024.98637221, 302444.31067052, 249915.40800967, 175968.02249049,\n",
       "       185883.39448833, 262876.94897653, 214553.26872271, 481772.13321464,\n",
       "       140873.40951821, 168514.51400016, 174508.43591771, 215332.41534413,\n",
       "       188116.77313293,  92348.0558402 , 200431.48660497,  82689.88407478,\n",
       "       136735.90419554, 138225.58131143, 197596.84665684, 265507.88144428,\n",
       "       184893.37940794, 167831.70360678, 113339.4349935 , 195840.26311128,\n",
       "       217381.25890916, 111248.72018863,  48814.32086628, 181558.62555599,\n",
       "       105648.44123328,  93217.82988324, 102503.58452778, 186487.82509936,\n",
       "       139263.91491668, 259116.10884381, 126778.4661241 , 135454.55316669,\n",
       "       124402.56023765, 338491.28860188, 186453.41145937, 117076.06432262,\n",
       "       190509.13452687, 141289.39166109,  73695.90823861, 147712.58828575,\n",
       "       134649.07953032, 255965.24484957, 231193.48126556, 179288.78434479,\n",
       "       206521.81074812, 124739.93328814, 260487.81126454, 268158.09906841,\n",
       "       201064.70178188, 246449.1560295 , 146170.77710137,  84579.93288089,\n",
       "       134118.09598874, 191341.4263195 , 147320.59508014, 171746.64521759,\n",
       "       186440.37727031, 116621.2632984 , 108571.74096277, 279860.43504342,\n",
       "       229831.30804843, 151915.40707162, 300983.93463415, 153235.64053274,\n",
       "        56932.90067188, 141809.92799993,  87589.46421748, 309745.04973912,\n",
       "       155879.27635267,  86999.96676864, 377662.27270651, 355212.71965152,\n",
       "       226910.63891108, 255221.97114883, 162068.20326808, 315216.09845013,\n",
       "       250489.26617801, 340956.85209703, 269315.6639047 , 117536.10686067,\n",
       "        98537.96565848, 186643.47932405, 343332.22262987, 252743.22605805,\n",
       "       164992.55352739, 243556.87418862, 249875.28338079, 208936.94150795,\n",
       "        94713.55271618,  85877.01123317, 388698.18029541, 225175.14728506,\n",
       "       241468.94822702, 180097.14887304, 129482.32704537, 112590.41450536,\n",
       "       143251.51153295, 231168.02812666, 164011.21076033, 141150.83170116,\n",
       "       208506.88583588, 159496.54682762, 134084.35969763, 201126.3354482 ,\n",
       "       207178.31616414, 169336.34107337, 319400.41639551, 103711.14066401,\n",
       "       134502.23727366, 159359.9028593 , 211985.48443633,  83351.22091916,\n",
       "       118934.42585385, 240366.92048131, 112767.2816495 , 116202.31194612,\n",
       "        91894.21447239, 132753.49259826, 250526.23151666, 205550.84692588,\n",
       "        93412.45165466, 104121.13515255, 136591.54785246, 101733.85071535,\n",
       "       125784.17769804,  83997.46049207,  75724.1915743 , 166835.1231382 ,\n",
       "       168204.86071157, 202773.01361529, 271398.49516598, 243213.77711382,\n",
       "       175978.24020311, 179289.28615069, 346568.56921906, 118520.33495501,\n",
       "       155329.51523244,  71119.4278343 , 101841.02230185, 205341.41800557,\n",
       "       221829.44779533, 118746.48105212, 115469.70255847, 208033.64267106,\n",
       "       246659.50647869, 251574.7374624 , 267346.03803836, 120350.22455094,\n",
       "       352226.15242276, 345582.90312133, 296316.7142198 , 241736.09769249,\n",
       "       133248.18022412,  44579.84613031, 122963.97588483, 155974.02002571,\n",
       "       275278.21210431, 129557.84983727, 117091.33928662, 161267.93585166,\n",
       "       185677.44630873, 194812.85943817, 153445.22973126, 186381.77081424,\n",
       "       174737.24379072, 145371.77854549, 204652.6480252 ,  81418.89929318,\n",
       "       178790.6950365 ,  89985.85092387, 114379.60389676, 136576.20272165,\n",
       "       174427.51306152, 207680.92661139, 104808.00282938, 144447.76047351,\n",
       "       181389.88348678, 299829.96005337, 244314.69003082, 176781.23317813,\n",
       "       102954.91807254, 195509.97848585, 134645.99037707, 151486.25758828,\n",
       "       145299.56920954, 112372.48510248, 265305.39649535, 140004.7136456 ,\n",
       "       283831.47802065, 156684.11787764, 221539.64666484, 244184.66771066,\n",
       "        96084.02012393, 138288.36543336, 166518.82406747,  99012.1643258 ,\n",
       "       188611.55085124, 209382.19763997, 254792.21379727, 220734.69885632,\n",
       "       208539.6765911 , 233798.89056956, 107758.34272078, 223190.56614787,\n",
       "        97387.79948554, 169325.56531964, 365947.92992686, 109279.82676179,\n",
       "       284078.76922149, 195932.51594059, 257018.33317444, 248918.81828957,\n",
       "       134648.63990459, 156151.93046966, 164844.96561737, 344389.26977672,\n",
       "       325733.09157527, 224831.1610332 , 194525.79496303, 196785.32248229,\n",
       "       189707.53349225, 136508.83009891, 125744.02835981,  93499.41840876,\n",
       "       295235.45718792, 161200.31892619, 150818.21416753, 193031.00498593,\n",
       "        74980.13739824, 205563.62423333, 161437.22567898, 116418.05931931,\n",
       "        98229.743224  , 198253.32684395, 250274.91856852, 136685.28563743,\n",
       "       306759.21801662, 144173.22787635, 116576.01828974, 140209.22560066,\n",
       "       229113.24436987, 293792.03757092, 129208.99055119, 120900.52333557,\n",
       "       143712.66318534, 259015.31376495, 133137.58383456, 258181.96208881,\n",
       "       313005.17335322, 113709.41831331, 253759.18213426, 103929.07006689,\n",
       "       177362.12173818, 257734.18697169, 117715.51083715, 246829.8868956 ,\n",
       "       114825.89710806, 245124.47074021, 375697.57481253, 215549.62906636,\n",
       "       208001.11992409, 133982.9732327 , 267217.52675752,  89282.90905374,\n",
       "       127012.52998078, 128809.70073783, 205118.81478918, 118172.58672937,\n",
       "       304869.24673255, 246113.707613  , 161630.42700836, 166183.4331371 ,\n",
       "       174353.74057945, 207231.9076347 , 130795.01754189, 105670.97788088,\n",
       "       200554.6057746 , 166053.43025387, 219721.08030605,  56283.48342493,\n",
       "        81866.48360206, 305511.11699178, 152603.37462279, 201075.90088642,\n",
       "       278290.83527898, 246559.40038388, 164374.44818564, 205294.86954353,\n",
       "       244352.6380021 , 221221.1718831 , 102491.15400487, 230842.79769216,\n",
       "       105157.94226324, 150000.03633018, 123503.32103329, 137279.68195808,\n",
       "       493444.42022443, 115919.76502653, 223722.86169899, 234102.89281542,\n",
       "       256513.42667222, 116454.28426188, 105005.9254686 , 137157.10463786,\n",
       "       245005.97461648, 168697.68870183, 102084.05025283, 243976.19261207,\n",
       "       252791.1021627 , 102572.75286675, 142303.91408064, 121174.50613197,\n",
       "       199258.57894177,  56481.41945777, 236486.93235747,  88596.08666282,\n",
       "       182970.78764442, 287760.23227656, 151736.83313519, 171080.53686136,\n",
       "       167197.91400744, 222194.10132998, 123655.15604282, 175987.88872806,\n",
       "       229540.98561928, 182465.36997801, 211250.05654393, 329803.58313527,\n",
       "       215601.74499736, 112557.96265404, 126737.32526091, 166702.02141153,\n",
       "       124768.24917786, 184434.50673478, 257903.19689494, 174280.56840136,\n",
       "       180456.0242926 , 254529.45208232, 135064.4494409 , 277511.78979448,\n",
       "       104412.19150607, 113205.87652926, 275248.51943712, 123816.67545616,\n",
       "       136242.72171705, 135621.31215325, 134269.58151806,  25710.78103447,\n",
       "       181500.27214117, 158982.63952317, 212026.19857588, 282088.20256418,\n",
       "       297283.17527362, 109348.06558392, 142165.86526808, 124383.3503074 ,\n",
       "       107069.33652476, 226803.50543592, 401972.22274567, 198183.56093636,\n",
       "       102270.7926388 , 134678.61938812,  24533.88588117, 121619.54242194,\n",
       "       190381.39362279, 139260.22823429, 202643.72273625, 179201.14147754,\n",
       "       154620.62262584,  73041.66005487, 223977.02943657, 156344.51275208,\n",
       "       193173.20342933, 147427.5532721 ,  93586.40786755,  66145.26588602,\n",
       "       150411.92363661, 229619.31926223, 319590.56278259, 235032.42949353,\n",
       "       106282.23867007,  97213.81946533, 283330.38157731, 123781.87202331,\n",
       "       285378.18247413,  60712.36295318, 187810.51571656, 234561.00639425,\n",
       "        85499.02315417, 118634.11254103, 149375.00834192, 106471.82916034,\n",
       "       179449.70917583, 110682.50738765, 185483.89525478, 183793.64422628,\n",
       "       140772.63462999, 127327.3918406 , 128382.70678876, 147442.73065831,\n",
       "       252936.81195793, 124773.01442738, 149611.31228783, 177026.30964326,\n",
       "       121884.40736821,  90789.41187738, 141503.9776053 , 181236.57519938,\n",
       "       102785.35191988, 183577.2617139 , 159577.83226218, 205530.53692702,\n",
       "       104357.46270624, 184846.20652442, 158867.40328689, 282813.80796755,\n",
       "        97882.08085775, 159869.33737926, 156972.28739576, 150403.03288588,\n",
       "       108089.32268255, 277443.75650077, 241294.1106249 , 121869.64188926,\n",
       "        95638.83682654, 130418.99301052, 130863.43550357, 325407.15662612,\n",
       "       227539.76848894, 136184.33845257, 130264.84513013,  85962.52745747,\n",
       "       339280.21644382, 140857.0579579 , 222001.02815544, 125118.06786961,\n",
       "       168176.71242477, 232204.73669148,  98598.83964381, 113686.91089436,\n",
       "       102905.50641453, 157456.66271041, 124149.03051839, 114048.99625079,\n",
       "       320301.9755873 , 211818.78198313, 119301.7806394 , 127085.15018794,\n",
       "        17995.28665507, 199286.75528569, 260311.02698284,  44992.15873804,\n",
       "       156459.61139358, 203702.53306498, 120800.26672065, 165875.30587761,\n",
       "       104029.54029642, 156909.38459023, 172147.36202673, 192558.09226083,\n",
       "       123309.30241991, 361206.67169964, 158451.1368951 , 186745.46167985,\n",
       "       216071.88036118, 124096.99832906,  70097.45439628, 151778.31015032,\n",
       "       184540.54980468, 180028.71194357, 182499.34764054, 135466.69101493,\n",
       "       147573.72651214, 304237.7625029 , 110418.47912375, 230860.28419797,\n",
       "       263703.39656009, 148478.15613138,  45424.11644832, 273312.97093069,\n",
       "       188303.22905142, 133944.57102215, 176804.95772539, 134333.14239539,\n",
       "       111995.6230943 , 118854.80706027, 136781.71693395,  36434.48301443,\n",
       "       139904.33206564, 224857.64691813, 146322.93995899, 274239.22311483,\n",
       "       189797.46954268, 150646.48186945, 193197.1667589 , 216858.36094517,\n",
       "       232863.912418  , 382119.248104  , 245249.90509642, 225254.24419898,\n",
       "       167218.23603144, 161581.41779317, 289838.19403341, 228719.63017173,\n",
       "       311919.77940216, 247272.0814195 , 144720.48308083, 114591.99886437,\n",
       "       132128.56714921, 160141.76649353,  83343.67228342, 163581.6034082 ,\n",
       "       111431.47593204, 342747.37352999, 207316.85706192, 176832.58194839,\n",
       "       265567.45802259, 198172.32299443, 163567.79658023, 214515.77864816,\n",
       "       355188.08292942, 151534.7668618 , 187715.75520624,  74918.61499744,\n",
       "       117404.1434859 , 263438.36646257, 121459.64011693, 220757.44475937,\n",
       "       164067.90295534, 213042.83645008, 337464.34672873,  94476.37586732,\n",
       "       253478.32059653, 171080.53686136, 141107.8016232 , 156477.60069049,\n",
       "       124752.01013206, 307324.45592647, 273444.14756666, 155447.98880227,\n",
       "       145465.54956968, 114878.10443415, 317135.4266435 , 235273.37214785,\n",
       "        95278.12759184, 126669.4091003 , 124329.00606872, 123433.08533811,\n",
       "       200893.84784142, 284271.98003468, 224791.18957629, 195642.65133344,\n",
       "       237958.87060277, 214408.1007544 , 264458.81149737, 134642.03690345,\n",
       "        95420.94997764, 295984.14155759, 200661.9252715 , 188790.66070963,\n",
       "       123031.15404683, 292802.04031288,  81529.6184156 , 221951.13921255,\n",
       "       183855.06792038, 262027.48279131, 140227.96166913, 213169.17453097,\n",
       "       144195.99635253, 150122.40006897, 159351.54736846, 131410.29895466,\n",
       "       132697.04323881, 230025.90575007, 182716.2867791 , 170929.51294509,\n",
       "       120647.20785411, 177441.3439686 , 207105.84000843, 190771.90398151,\n",
       "       215328.02311802, 121604.6666682 , 311955.15369419, 272563.85225236,\n",
       "       146408.48373223, 147195.42953839, 174834.75719348, 126832.9345277 ,\n",
       "       135573.0782929 , 418881.0443075 ,  66772.36399233, 128379.98525606,\n",
       "       254958.5481357 , 135183.89839107, 245770.77749044, 138980.25190755,\n",
       "       220674.04517983, 169389.78436627, 296260.02240471, 168353.29461805,\n",
       "       196422.2607147 , 295458.57103622, 171890.30003091, 250186.18087654,\n",
       "       147747.6734308 , 172400.2347989 , 214017.54596878, 135327.37629576,\n",
       "       176343.05672633, 211877.51272887, 124436.32995781, 126190.71668691,\n",
       "       178425.34745674, 193167.57825407, 348163.44758783,  87709.6106684 ,\n",
       "       120213.62988361, 100231.76714379, 162603.18769175, 269315.6639047 ,\n",
       "       125097.17767783, 280940.69531996, 163965.73684889, 178646.34123224,\n",
       "       249490.31291919, 190223.03886701, 302313.10066877, 192033.90441164,\n",
       "       222617.63981628, 157760.77533463, 255537.53162216, 249895.78339611,\n",
       "       207973.96403054, 137508.6760081 , 108211.24866359, 153283.08403173,\n",
       "       123266.12346245, 233446.70957183, 108314.52757089, 113300.8848585 ,\n",
       "       191580.64818474, 149058.92670967, 112499.61096608, 137513.03086584,\n",
       "       314206.12199615, 132223.57166013, 164622.95239155, 245940.44635573,\n",
       "       220432.93624157, 223554.85926471,  89358.79024423, 105015.16897682,\n",
       "       142324.77976109, 177873.55399332, 107576.16163942, 361204.39150886,\n",
       "       141024.3894449 , 186037.01524422, 228169.24646731, 349866.49067223,\n",
       "       139768.31359556, 195512.89565499, 141071.06569676, 195401.92325385,\n",
       "       157053.18112245, 275266.60357469, 256722.89732216, 153034.42254417,\n",
       "       123672.20443511, 304473.66637938, 151594.17485223, 131849.01705943,\n",
       "       117946.03586462, 209543.09740163, 223174.18021221, 246858.81860119,\n",
       "       119300.54501804, 155776.08662264, 172266.10730768, 253509.00454575,\n",
       "       225664.47699275, 121185.56216573, 157477.7613309 , 152165.352267  ,\n",
       "       171256.33316042, 121294.48536917, 135124.6581238 , 160431.90254558,\n",
       "       111899.95653781, 229898.78198178,  82109.83539508, 202957.39508956,\n",
       "        98594.11611506, 339770.4690038 , 124856.70745727, 118346.24931504,\n",
       "       177881.22160997, 192377.20994063, 207999.25758527, 221705.88532801,\n",
       "       274299.83397471, 184861.08385179, 173755.15872817, 234454.18878511,\n",
       "       335050.29791211, 212945.22024936, 187440.44767393, 211715.64280702,\n",
       "       136367.30232101, 101641.82793939, 118762.15408448])"
      ]
     },
     "execution_count": 74,
     "metadata": {},
     "output_type": "execute_result"
    }
   ],
   "source": [
    "predictions"
   ]
  },
  {
   "cell_type": "code",
   "execution_count": 75,
   "metadata": {},
   "outputs": [],
   "source": [
    "test['SalePrice'] = predictions"
   ]
  },
  {
   "cell_type": "code",
   "execution_count": 76,
   "metadata": {},
   "outputs": [],
   "source": [
    "submission = test[['Id','SalePrice']]"
   ]
  },
  {
   "cell_type": "code",
   "execution_count": 77,
   "metadata": {},
   "outputs": [
    {
     "data": {
      "text/html": [
       "<div>\n",
       "<style scoped>\n",
       "    .dataframe tbody tr th:only-of-type {\n",
       "        vertical-align: middle;\n",
       "    }\n",
       "\n",
       "    .dataframe tbody tr th {\n",
       "        vertical-align: top;\n",
       "    }\n",
       "\n",
       "    .dataframe thead th {\n",
       "        text-align: right;\n",
       "    }\n",
       "</style>\n",
       "<table border=\"1\" class=\"dataframe\">\n",
       "  <thead>\n",
       "    <tr style=\"text-align: right;\">\n",
       "      <th></th>\n",
       "      <th>Id</th>\n",
       "      <th>SalePrice</th>\n",
       "    </tr>\n",
       "  </thead>\n",
       "  <tbody>\n",
       "    <tr>\n",
       "      <th>0</th>\n",
       "      <td>2658</td>\n",
       "      <td>140113.993788</td>\n",
       "    </tr>\n",
       "    <tr>\n",
       "      <th>1</th>\n",
       "      <td>2718</td>\n",
       "      <td>205205.248586</td>\n",
       "    </tr>\n",
       "    <tr>\n",
       "      <th>2</th>\n",
       "      <td>2414</td>\n",
       "      <td>192758.640683</td>\n",
       "    </tr>\n",
       "    <tr>\n",
       "      <th>3</th>\n",
       "      <td>1989</td>\n",
       "      <td>126195.407217</td>\n",
       "    </tr>\n",
       "    <tr>\n",
       "      <th>4</th>\n",
       "      <td>625</td>\n",
       "      <td>180236.135495</td>\n",
       "    </tr>\n",
       "  </tbody>\n",
       "</table>\n",
       "</div>"
      ],
      "text/plain": [
       "     Id      SalePrice\n",
       "0  2658  140113.993788\n",
       "1  2718  205205.248586\n",
       "2  2414  192758.640683\n",
       "3  1989  126195.407217\n",
       "4   625  180236.135495"
      ]
     },
     "execution_count": 77,
     "metadata": {},
     "output_type": "execute_result"
    }
   ],
   "source": [
    "submission.head()"
   ]
  },
  {
   "cell_type": "code",
   "execution_count": 78,
   "metadata": {},
   "outputs": [],
   "source": [
    "#submission.to_csv('javier_ames_12_04_4.csv', index=False)"
   ]
  },
  {
   "cell_type": "code",
   "execution_count": null,
   "metadata": {},
   "outputs": [],
   "source": []
  }
 ],
 "metadata": {
  "kernelspec": {
   "display_name": "Python 3",
   "language": "python",
   "name": "python3"
  },
  "language_info": {
   "codemirror_mode": {
    "name": "ipython",
    "version": 3
   },
   "file_extension": ".py",
   "mimetype": "text/x-python",
   "name": "python",
   "nbconvert_exporter": "python",
   "pygments_lexer": "ipython3",
   "version": "3.6.5"
  }
 },
 "nbformat": 4,
 "nbformat_minor": 2
}
