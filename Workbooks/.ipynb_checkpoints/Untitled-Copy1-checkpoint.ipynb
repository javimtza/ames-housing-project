{
 "cells": [
  {
   "cell_type": "code",
   "execution_count": 111,
   "metadata": {},
   "outputs": [],
   "source": [
    "import pandas as pd\n",
    "import numpy as np\n",
    "import seaborn as sns\n",
    "import matplotlib.pyplot as plt\n",
    "from sklearn.linear_model import LinearRegression, LassoCV, RidgeCV, Ridge, Lasso\n",
    "from sklearn.preprocessing import PolynomialFeatures, StandardScaler\n",
    "from sklearn.model_selection import train_test_split, cross_val_score, cross_val_predict\n",
    "from sklearn.metrics import r2_score\n",
    "\n",
    "%matplotlib inline"
   ]
  },
  {
   "cell_type": "code",
   "execution_count": 112,
   "metadata": {},
   "outputs": [],
   "source": [
    "\n",
    "train = pd.read_csv('datasets/train.csv')"
   ]
  },
  {
   "cell_type": "code",
   "execution_count": 113,
   "metadata": {
    "scrolled": true
   },
   "outputs": [
    {
     "data": {
      "text/plain": [
       "(2051, 81)"
      ]
     },
     "execution_count": 113,
     "metadata": {},
     "output_type": "execute_result"
    }
   ],
   "source": [
    "train.shape"
   ]
  },
  {
   "cell_type": "code",
   "execution_count": 114,
   "metadata": {},
   "outputs": [
    {
     "data": {
      "text/html": [
       "<div>\n",
       "<style scoped>\n",
       "    .dataframe tbody tr th:only-of-type {\n",
       "        vertical-align: middle;\n",
       "    }\n",
       "\n",
       "    .dataframe tbody tr th {\n",
       "        vertical-align: top;\n",
       "    }\n",
       "\n",
       "    .dataframe thead th {\n",
       "        text-align: right;\n",
       "    }\n",
       "</style>\n",
       "<table border=\"1\" class=\"dataframe\">\n",
       "  <thead>\n",
       "    <tr style=\"text-align: right;\">\n",
       "      <th></th>\n",
       "      <th>Id</th>\n",
       "      <th>PID</th>\n",
       "      <th>MS SubClass</th>\n",
       "      <th>MS Zoning</th>\n",
       "      <th>Lot Frontage</th>\n",
       "      <th>Lot Area</th>\n",
       "      <th>Street</th>\n",
       "      <th>Alley</th>\n",
       "      <th>Lot Shape</th>\n",
       "      <th>Land Contour</th>\n",
       "      <th>...</th>\n",
       "      <th>Screen Porch</th>\n",
       "      <th>Pool Area</th>\n",
       "      <th>Pool QC</th>\n",
       "      <th>Fence</th>\n",
       "      <th>Misc Feature</th>\n",
       "      <th>Misc Val</th>\n",
       "      <th>Mo Sold</th>\n",
       "      <th>Yr Sold</th>\n",
       "      <th>Sale Type</th>\n",
       "      <th>SalePrice</th>\n",
       "    </tr>\n",
       "  </thead>\n",
       "  <tbody>\n",
       "    <tr>\n",
       "      <th>0</th>\n",
       "      <td>109</td>\n",
       "      <td>533352170</td>\n",
       "      <td>60</td>\n",
       "      <td>RL</td>\n",
       "      <td>NaN</td>\n",
       "      <td>13517</td>\n",
       "      <td>Pave</td>\n",
       "      <td>NaN</td>\n",
       "      <td>IR1</td>\n",
       "      <td>Lvl</td>\n",
       "      <td>...</td>\n",
       "      <td>0</td>\n",
       "      <td>0</td>\n",
       "      <td>NaN</td>\n",
       "      <td>NaN</td>\n",
       "      <td>NaN</td>\n",
       "      <td>0</td>\n",
       "      <td>3</td>\n",
       "      <td>2010</td>\n",
       "      <td>WD</td>\n",
       "      <td>130500</td>\n",
       "    </tr>\n",
       "    <tr>\n",
       "      <th>1</th>\n",
       "      <td>544</td>\n",
       "      <td>531379050</td>\n",
       "      <td>60</td>\n",
       "      <td>RL</td>\n",
       "      <td>43.0</td>\n",
       "      <td>11492</td>\n",
       "      <td>Pave</td>\n",
       "      <td>NaN</td>\n",
       "      <td>IR1</td>\n",
       "      <td>Lvl</td>\n",
       "      <td>...</td>\n",
       "      <td>0</td>\n",
       "      <td>0</td>\n",
       "      <td>NaN</td>\n",
       "      <td>NaN</td>\n",
       "      <td>NaN</td>\n",
       "      <td>0</td>\n",
       "      <td>4</td>\n",
       "      <td>2009</td>\n",
       "      <td>WD</td>\n",
       "      <td>220000</td>\n",
       "    </tr>\n",
       "    <tr>\n",
       "      <th>2</th>\n",
       "      <td>153</td>\n",
       "      <td>535304180</td>\n",
       "      <td>20</td>\n",
       "      <td>RL</td>\n",
       "      <td>68.0</td>\n",
       "      <td>7922</td>\n",
       "      <td>Pave</td>\n",
       "      <td>NaN</td>\n",
       "      <td>Reg</td>\n",
       "      <td>Lvl</td>\n",
       "      <td>...</td>\n",
       "      <td>0</td>\n",
       "      <td>0</td>\n",
       "      <td>NaN</td>\n",
       "      <td>NaN</td>\n",
       "      <td>NaN</td>\n",
       "      <td>0</td>\n",
       "      <td>1</td>\n",
       "      <td>2010</td>\n",
       "      <td>WD</td>\n",
       "      <td>109000</td>\n",
       "    </tr>\n",
       "    <tr>\n",
       "      <th>3</th>\n",
       "      <td>318</td>\n",
       "      <td>916386060</td>\n",
       "      <td>60</td>\n",
       "      <td>RL</td>\n",
       "      <td>73.0</td>\n",
       "      <td>9802</td>\n",
       "      <td>Pave</td>\n",
       "      <td>NaN</td>\n",
       "      <td>Reg</td>\n",
       "      <td>Lvl</td>\n",
       "      <td>...</td>\n",
       "      <td>0</td>\n",
       "      <td>0</td>\n",
       "      <td>NaN</td>\n",
       "      <td>NaN</td>\n",
       "      <td>NaN</td>\n",
       "      <td>0</td>\n",
       "      <td>4</td>\n",
       "      <td>2010</td>\n",
       "      <td>WD</td>\n",
       "      <td>174000</td>\n",
       "    </tr>\n",
       "    <tr>\n",
       "      <th>4</th>\n",
       "      <td>255</td>\n",
       "      <td>906425045</td>\n",
       "      <td>50</td>\n",
       "      <td>RL</td>\n",
       "      <td>82.0</td>\n",
       "      <td>14235</td>\n",
       "      <td>Pave</td>\n",
       "      <td>NaN</td>\n",
       "      <td>IR1</td>\n",
       "      <td>Lvl</td>\n",
       "      <td>...</td>\n",
       "      <td>0</td>\n",
       "      <td>0</td>\n",
       "      <td>NaN</td>\n",
       "      <td>NaN</td>\n",
       "      <td>NaN</td>\n",
       "      <td>0</td>\n",
       "      <td>3</td>\n",
       "      <td>2010</td>\n",
       "      <td>WD</td>\n",
       "      <td>138500</td>\n",
       "    </tr>\n",
       "  </tbody>\n",
       "</table>\n",
       "<p>5 rows × 81 columns</p>\n",
       "</div>"
      ],
      "text/plain": [
       "    Id        PID  MS SubClass MS Zoning  Lot Frontage  Lot Area Street Alley  \\\n",
       "0  109  533352170           60        RL           NaN     13517   Pave   NaN   \n",
       "1  544  531379050           60        RL          43.0     11492   Pave   NaN   \n",
       "2  153  535304180           20        RL          68.0      7922   Pave   NaN   \n",
       "3  318  916386060           60        RL          73.0      9802   Pave   NaN   \n",
       "4  255  906425045           50        RL          82.0     14235   Pave   NaN   \n",
       "\n",
       "  Lot Shape Land Contour    ...     Screen Porch Pool Area Pool QC Fence  \\\n",
       "0       IR1          Lvl    ...                0         0     NaN   NaN   \n",
       "1       IR1          Lvl    ...                0         0     NaN   NaN   \n",
       "2       Reg          Lvl    ...                0         0     NaN   NaN   \n",
       "3       Reg          Lvl    ...                0         0     NaN   NaN   \n",
       "4       IR1          Lvl    ...                0         0     NaN   NaN   \n",
       "\n",
       "  Misc Feature Misc Val Mo Sold Yr Sold  Sale Type  SalePrice  \n",
       "0          NaN        0       3    2010        WD      130500  \n",
       "1          NaN        0       4    2009        WD      220000  \n",
       "2          NaN        0       1    2010        WD      109000  \n",
       "3          NaN        0       4    2010        WD      174000  \n",
       "4          NaN        0       3    2010        WD      138500  \n",
       "\n",
       "[5 rows x 81 columns]"
      ]
     },
     "execution_count": 114,
     "metadata": {},
     "output_type": "execute_result"
    }
   ],
   "source": [
    "train.head()"
   ]
  },
  {
   "cell_type": "code",
   "execution_count": 115,
   "metadata": {
    "scrolled": true
   },
   "outputs": [],
   "source": [
    "train_corr = train.corrwith(train['SalePrice']).sort_values(ascending=False)"
   ]
  },
  {
   "cell_type": "code",
   "execution_count": 116,
   "metadata": {},
   "outputs": [
    {
     "data": {
      "text/plain": [
       "<matplotlib.axes._subplots.AxesSubplot at 0x1800122ba90>"
      ]
     },
     "execution_count": 116,
     "metadata": {},
     "output_type": "execute_result"
    },
    {
     "data": {
      "image/png": "[encoded data removed]",
      "text/plain": [
       "<Figure size 576x864 with 2 Axes>"
      ]
     },
     "metadata": {},
     "output_type": "display_data"
    }
   ],
   "source": [
    "train.corrwith(train['SalePrice']).sort_values(ascending=False)\n",
    "fig, ax = plt.subplots(figsize=(8,12))\n",
    "sns.heatmap(train_corr.to_frame(), center=0, cmap='coolwarm', annot=True)"
   ]
  },
  {
   "cell_type": "code",
   "execution_count": 117,
   "metadata": {},
   "outputs": [],
   "source": [
    "features = ['Overall Qual', 'Gr Liv Area']\n",
    "X_train = train[features]\n",
    "y_train = train['SalePrice']"
   ]
  },
  {
   "cell_type": "code",
   "execution_count": 118,
   "metadata": {},
   "outputs": [
    {
     "name": "stdout",
     "output_type": "stream",
     "text": [
      "[33157.45255806    56.84151614] -106417.49947756075\n"
     ]
    }
   ],
   "source": [
    "ridge = Ridge()\n",
    "\n",
    "ridge.fit(X_train,y_train)\n",
    "ridgecoef = ridge.coef_\n",
    "ridgeint = ridge.intercept_\n",
    "print(ridgecoef, ridgeint)"
   ]
  },
  {
   "cell_type": "code",
   "execution_count": 119,
   "metadata": {},
   "outputs": [],
   "source": [
    "test = pd.read_csv('datasets/test.csv')"
   ]
  },
  {
   "cell_type": "code",
   "execution_count": 120,
   "metadata": {},
   "outputs": [
    {
     "data": {
      "text/plain": [
       "(879, 80)"
      ]
     },
     "execution_count": 120,
     "metadata": {},
     "output_type": "execute_result"
    }
   ],
   "source": [
    "test.shape"
   ]
  },
  {
   "cell_type": "code",
   "execution_count": 121,
   "metadata": {},
   "outputs": [],
   "source": [
    "X_test = test[features]"
   ]
  },
  {
   "cell_type": "code",
   "execution_count": 122,
   "metadata": {},
   "outputs": [],
   "source": [
    "predictions = ridge.predict(X_test)\n"
   ]
  },
  {
   "cell_type": "code",
   "execution_count": 123,
   "metadata": {},
   "outputs": [
    {
     "data": {
      "text/plain": [
       "0.7258126457851541"
      ]
     },
     "execution_count": 123,
     "metadata": {},
     "output_type": "execute_result"
    }
   ],
   "source": [
    "cross_val_score(ridge, X_train, y_train, cv = 3).mean()"
   ]
  },
  {
   "cell_type": "code",
   "execution_count": 124,
   "metadata": {},
   "outputs": [
    {
     "data": {
      "text/plain": [
       "(879,)"
      ]
     },
     "execution_count": 124,
     "metadata": {},
     "output_type": "execute_result"
    }
   ],
   "source": [
    "predictions.shape"
   ]
  },
  {
   "cell_type": "code",
   "execution_count": 125,
   "metadata": {},
   "outputs": [],
   "source": [
    "test['SalePrice'] = predictions"
   ]
  },
  {
   "cell_type": "code",
   "execution_count": 126,
   "metadata": {},
   "outputs": [],
   "source": [
    "submission = test[['Id','SalePrice']]\n",
    "submission.to_csv('j_ames_11_30.csv', index=False)"
   ]
  },
  {
   "cell_type": "markdown",
   "metadata": {},
   "source": [
    "-----"
   ]
  },
  {
   "cell_type": "markdown",
   "metadata": {},
   "source": [
    "-----"
   ]
  },
  {
   "cell_type": "code",
   "execution_count": 127,
   "metadata": {},
   "outputs": [],
   "source": [
    "import pandas as pd \n",
    "from sklearn.linear_model import Ridge\n",
    "from sklearn.cross_validation import cross_val_score\n",
    "\n",
    "train = pd.read_csv('datasets/train.csv')"
   ]
  },
  {
   "cell_type": "code",
   "execution_count": 128,
   "metadata": {},
   "outputs": [
    {
     "data": {
      "text/html": [
       "<div>\n",
       "<style scoped>\n",
       "    .dataframe tbody tr th:only-of-type {\n",
       "        vertical-align: middle;\n",
       "    }\n",
       "\n",
       "    .dataframe tbody tr th {\n",
       "        vertical-align: top;\n",
       "    }\n",
       "\n",
       "    .dataframe thead th {\n",
       "        text-align: right;\n",
       "    }\n",
       "</style>\n",
       "<table border=\"1\" class=\"dataframe\">\n",
       "  <thead>\n",
       "    <tr style=\"text-align: right;\">\n",
       "      <th></th>\n",
       "      <th>Id</th>\n",
       "      <th>PID</th>\n",
       "      <th>MS SubClass</th>\n",
       "      <th>MS Zoning</th>\n",
       "      <th>Lot Frontage</th>\n",
       "      <th>Lot Area</th>\n",
       "      <th>Street</th>\n",
       "      <th>Alley</th>\n",
       "      <th>Lot Shape</th>\n",
       "      <th>Land Contour</th>\n",
       "      <th>...</th>\n",
       "      <th>Screen Porch</th>\n",
       "      <th>Pool Area</th>\n",
       "      <th>Pool QC</th>\n",
       "      <th>Fence</th>\n",
       "      <th>Misc Feature</th>\n",
       "      <th>Misc Val</th>\n",
       "      <th>Mo Sold</th>\n",
       "      <th>Yr Sold</th>\n",
       "      <th>Sale Type</th>\n",
       "      <th>SalePrice</th>\n",
       "    </tr>\n",
       "  </thead>\n",
       "  <tbody>\n",
       "    <tr>\n",
       "      <th>0</th>\n",
       "      <td>109</td>\n",
       "      <td>533352170</td>\n",
       "      <td>60</td>\n",
       "      <td>RL</td>\n",
       "      <td>NaN</td>\n",
       "      <td>13517</td>\n",
       "      <td>Pave</td>\n",
       "      <td>NaN</td>\n",
       "      <td>IR1</td>\n",
       "      <td>Lvl</td>\n",
       "      <td>...</td>\n",
       "      <td>0</td>\n",
       "      <td>0</td>\n",
       "      <td>NaN</td>\n",
       "      <td>NaN</td>\n",
       "      <td>NaN</td>\n",
       "      <td>0</td>\n",
       "      <td>3</td>\n",
       "      <td>2010</td>\n",
       "      <td>WD</td>\n",
       "      <td>130500</td>\n",
       "    </tr>\n",
       "    <tr>\n",
       "      <th>1</th>\n",
       "      <td>544</td>\n",
       "      <td>531379050</td>\n",
       "      <td>60</td>\n",
       "      <td>RL</td>\n",
       "      <td>43.0</td>\n",
       "      <td>11492</td>\n",
       "      <td>Pave</td>\n",
       "      <td>NaN</td>\n",
       "      <td>IR1</td>\n",
       "      <td>Lvl</td>\n",
       "      <td>...</td>\n",
       "      <td>0</td>\n",
       "      <td>0</td>\n",
       "      <td>NaN</td>\n",
       "      <td>NaN</td>\n",
       "      <td>NaN</td>\n",
       "      <td>0</td>\n",
       "      <td>4</td>\n",
       "      <td>2009</td>\n",
       "      <td>WD</td>\n",
       "      <td>220000</td>\n",
       "    </tr>\n",
       "    <tr>\n",
       "      <th>2</th>\n",
       "      <td>153</td>\n",
       "      <td>535304180</td>\n",
       "      <td>20</td>\n",
       "      <td>RL</td>\n",
       "      <td>68.0</td>\n",
       "      <td>7922</td>\n",
       "      <td>Pave</td>\n",
       "      <td>NaN</td>\n",
       "      <td>Reg</td>\n",
       "      <td>Lvl</td>\n",
       "      <td>...</td>\n",
       "      <td>0</td>\n",
       "      <td>0</td>\n",
       "      <td>NaN</td>\n",
       "      <td>NaN</td>\n",
       "      <td>NaN</td>\n",
       "      <td>0</td>\n",
       "      <td>1</td>\n",
       "      <td>2010</td>\n",
       "      <td>WD</td>\n",
       "      <td>109000</td>\n",
       "    </tr>\n",
       "    <tr>\n",
       "      <th>3</th>\n",
       "      <td>318</td>\n",
       "      <td>916386060</td>\n",
       "      <td>60</td>\n",
       "      <td>RL</td>\n",
       "      <td>73.0</td>\n",
       "      <td>9802</td>\n",
       "      <td>Pave</td>\n",
       "      <td>NaN</td>\n",
       "      <td>Reg</td>\n",
       "      <td>Lvl</td>\n",
       "      <td>...</td>\n",
       "      <td>0</td>\n",
       "      <td>0</td>\n",
       "      <td>NaN</td>\n",
       "      <td>NaN</td>\n",
       "      <td>NaN</td>\n",
       "      <td>0</td>\n",
       "      <td>4</td>\n",
       "      <td>2010</td>\n",
       "      <td>WD</td>\n",
       "      <td>174000</td>\n",
       "    </tr>\n",
       "    <tr>\n",
       "      <th>4</th>\n",
       "      <td>255</td>\n",
       "      <td>906425045</td>\n",
       "      <td>50</td>\n",
       "      <td>RL</td>\n",
       "      <td>82.0</td>\n",
       "      <td>14235</td>\n",
       "      <td>Pave</td>\n",
       "      <td>NaN</td>\n",
       "      <td>IR1</td>\n",
       "      <td>Lvl</td>\n",
       "      <td>...</td>\n",
       "      <td>0</td>\n",
       "      <td>0</td>\n",
       "      <td>NaN</td>\n",
       "      <td>NaN</td>\n",
       "      <td>NaN</td>\n",
       "      <td>0</td>\n",
       "      <td>3</td>\n",
       "      <td>2010</td>\n",
       "      <td>WD</td>\n",
       "      <td>138500</td>\n",
       "    </tr>\n",
       "  </tbody>\n",
       "</table>\n",
       "<p>5 rows × 81 columns</p>\n",
       "</div>"
      ],
      "text/plain": [
       "    Id        PID  MS SubClass MS Zoning  Lot Frontage  Lot Area Street Alley  \\\n",
       "0  109  533352170           60        RL           NaN     13517   Pave   NaN   \n",
       "1  544  531379050           60        RL          43.0     11492   Pave   NaN   \n",
       "2  153  535304180           20        RL          68.0      7922   Pave   NaN   \n",
       "3  318  916386060           60        RL          73.0      9802   Pave   NaN   \n",
       "4  255  906425045           50        RL          82.0     14235   Pave   NaN   \n",
       "\n",
       "  Lot Shape Land Contour    ...     Screen Porch Pool Area Pool QC Fence  \\\n",
       "0       IR1          Lvl    ...                0         0     NaN   NaN   \n",
       "1       IR1          Lvl    ...                0         0     NaN   NaN   \n",
       "2       Reg          Lvl    ...                0         0     NaN   NaN   \n",
       "3       Reg          Lvl    ...                0         0     NaN   NaN   \n",
       "4       IR1          Lvl    ...                0         0     NaN   NaN   \n",
       "\n",
       "  Misc Feature Misc Val Mo Sold Yr Sold  Sale Type  SalePrice  \n",
       "0          NaN        0       3    2010        WD      130500  \n",
       "1          NaN        0       4    2009        WD      220000  \n",
       "2          NaN        0       1    2010        WD      109000  \n",
       "3          NaN        0       4    2010        WD      174000  \n",
       "4          NaN        0       3    2010        WD      138500  \n",
       "\n",
       "[5 rows x 81 columns]"
      ]
     },
     "execution_count": 128,
     "metadata": {},
     "output_type": "execute_result"
    }
   ],
   "source": [
    "train.head()"
   ]
  },
  {
   "cell_type": "code",
   "execution_count": 129,
   "metadata": {},
   "outputs": [
    {
     "data": {
      "text/plain": [
       "Index(['Id', 'PID', 'MS SubClass', 'MS Zoning', 'Lot Frontage', 'Lot Area',\n",
       "       'Street', 'Alley', 'Lot Shape', 'Land Contour', 'Utilities',\n",
       "       'Lot Config', 'Land Slope', 'Neighborhood', 'Condition 1',\n",
       "       'Condition 2', 'Bldg Type', 'House Style', 'Overall Qual',\n",
       "       'Overall Cond', 'Year Built', 'Year Remod/Add', 'Roof Style',\n",
       "       'Roof Matl', 'Exterior 1st', 'Exterior 2nd', 'Mas Vnr Type',\n",
       "       'Mas Vnr Area', 'Exter Qual', 'Exter Cond', 'Foundation', 'Bsmt Qual',\n",
       "       'Bsmt Cond', 'Bsmt Exposure', 'BsmtFin Type 1', 'BsmtFin SF 1',\n",
       "       'BsmtFin Type 2', 'BsmtFin SF 2', 'Bsmt Unf SF', 'Total Bsmt SF',\n",
       "       'Heating', 'Heating QC', 'Central Air', 'Electrical', '1st Flr SF',\n",
       "       '2nd Flr SF', 'Low Qual Fin SF', 'Gr Liv Area', 'Bsmt Full Bath',\n",
       "       'Bsmt Half Bath', 'Full Bath', 'Half Bath', 'Bedroom AbvGr',\n",
       "       'Kitchen AbvGr', 'Kitchen Qual', 'TotRms AbvGrd', 'Functional',\n",
       "       'Fireplaces', 'Fireplace Qu', 'Garage Type', 'Garage Yr Blt',\n",
       "       'Garage Finish', 'Garage Cars', 'Garage Area', 'Garage Qual',\n",
       "       'Garage Cond', 'Paved Drive', 'Wood Deck SF', 'Open Porch SF',\n",
       "       'Enclosed Porch', '3Ssn Porch', 'Screen Porch', 'Pool Area', 'Pool QC',\n",
       "       'Fence', 'Misc Feature', 'Misc Val', 'Mo Sold', 'Yr Sold', 'Sale Type',\n",
       "       'SalePrice'],\n",
       "      dtype='object')"
      ]
     },
     "execution_count": 129,
     "metadata": {},
     "output_type": "execute_result"
    }
   ],
   "source": [
    "train.columns"
   ]
  },
  {
   "cell_type": "code",
   "execution_count": 131,
   "metadata": {},
   "outputs": [],
   "source": [
    "def descriptive_to_numbers(column):\n",
    "    columnnona = column.fillna('NA')\n",
    "    numbered = columnnona.map({'Ex':5,'Gd':4,'TA':3,'Fa':2,'Po':1,'NA':0})\n",
    "    \n",
    "    return numbered\n",
    "\n",
    "def descriptive_to_numbers_no_po(column):\n",
    "    columnnona = column.fillna('NA')\n",
    "    numbered = columnnona.map({'Ex':5,'Gd':4,'TA':3,'Fa':2,'NA':1})\n",
    "    \n",
    "    return numbered"
   ]
  },
  {
   "cell_type": "code",
   "execution_count": 132,
   "metadata": {},
   "outputs": [],
   "source": [
    "def changes_to_dataframe(df):\n",
    "    df['Basement + Liv Area'] = df['Total Bsmt SF'] + df['Gr Liv Area']\n",
    "    df['Exter Qual'] = descriptive_to_numbers(df['Exter Qual'])\n",
    "    df['Exter Cond'] = descriptive_to_numbers(df['Exter Cond'])\n",
    "    df['Bsmt Cond'] = descriptive_to_numbers(df['Bsmt Cond'])\n",
    "    df['Bsmt Qual'] = descriptive_to_numbers(df['Bsmt Qual'])\n",
    "    df['Heating QC'] = descriptive_to_numbers(df['Heating QC'])\n",
    "    df['Kitchen Qual'] = descriptive_to_numbers(df['Kitchen Qual'])\n",
    "    df['Fireplace Qu'] = descriptive_to_numbers(df['Fireplace Qu'])\n",
    "    df['Garage Qual'] = descriptive_to_numbers(df['Garage Qual'])\n",
    "    df['Garage Cond'] = descriptive_to_numbers(df['Garage Cond'])\n",
    "    df['Pool QC'] = descriptive_to_numbers_no_po(df['Pool QC'])\n",
    "    df['Garage Area'] = df['Garage Area'].fillna(0)\n",
    "    df['Garage Cars'] = df['Garage Cars'].fillna(0)\n",
    "    df['Total Bsmt SF'] = df['Total Bsmt SF'].fillna(0)\n",
    "    "
   ]
  },
  {
   "cell_type": "code",
   "execution_count": 133,
   "metadata": {},
   "outputs": [],
   "source": [
    "changes_to_dataframe(train)"
   ]
  },
  {
   "cell_type": "code",
   "execution_count": 134,
   "metadata": {},
   "outputs": [],
   "source": [
    "train = pd.concat([train,pd.get_dummies(train['Misc Feature'])], axis = 1)"
   ]
  },
  {
   "cell_type": "code",
   "execution_count": 135,
   "metadata": {},
   "outputs": [],
   "source": [
    "train = pd.concat([train,pd.get_dummies(train['Neighborhood'])], axis = 1)"
   ]
  },
  {
   "cell_type": "code",
   "execution_count": 136,
   "metadata": {},
   "outputs": [
    {
     "data": {
      "text/plain": [
       "Neighborhood\n",
       "MeadowV    100231.250000\n",
       "IDOTRR     101103.188406\n",
       "BrDale     103371.052632\n",
       "OldTown    125276.300613\n",
       "BrkSide    127022.697368\n",
       "Edwards    130493.468531\n",
       "SWISU      134758.875000\n",
       "Landmrk    137000.000000\n",
       "Sawyer     137181.909910\n",
       "NPkVill    140476.470588\n",
       "Blueste    144566.666667\n",
       "NAmes      145905.816129\n",
       "Mitchel    167656.707317\n",
       "SawyerW    187760.160920\n",
       "Greens     188666.666667\n",
       "Gilbert    189228.387931\n",
       "NWAmes     194619.022989\n",
       "Blmngtn    200417.681818\n",
       "CollgCr    202497.216667\n",
       "Crawfor    205901.211268\n",
       "ClearCr    217490.074074\n",
       "Somerst    227183.900000\n",
       "Timber     241051.354167\n",
       "Veenker    253570.588235\n",
       "GrnHill    280000.000000\n",
       "NoRidge    316294.125000\n",
       "NridgHt    322831.352459\n",
       "StoneBr    329675.736842\n",
       "Name: SalePrice, dtype: float64"
      ]
     },
     "execution_count": 136,
     "metadata": {},
     "output_type": "execute_result"
    }
   ],
   "source": [
    "avg_price_per_neigh = train['SalePrice'].groupby(train['Neighborhood']).mean().sort_values()\n",
    "avg_price_per_neigh"
   ]
  },
  {
   "cell_type": "code",
   "execution_count": 137,
   "metadata": {},
   "outputs": [
    {
     "data": {
      "text/plain": [
       "'MeadowV'"
      ]
     },
     "execution_count": 137,
     "metadata": {},
     "output_type": "execute_result"
    }
   ],
   "source": [
    "neigh_keys = avg_price_per_neigh.keys()\n",
    "neigh_keys[0]"
   ]
  },
  {
   "cell_type": "code",
   "execution_count": 138,
   "metadata": {},
   "outputs": [
    {
     "data": {
      "text/plain": [
       "100231.25"
      ]
     },
     "execution_count": 138,
     "metadata": {},
     "output_type": "execute_result"
    }
   ],
   "source": [
    "price_values = avg_price_per_neigh.values\n",
    "price_values[0]"
   ]
  },
  {
   "cell_type": "code",
   "execution_count": 139,
   "metadata": {},
   "outputs": [],
   "source": [
    "avg_cost_per_neigh = {}\n",
    "for x in range(0,28):\n",
    "    avg_cost_per_neigh[neigh_keys[x]] = price_values[x]"
   ]
  },
  {
   "cell_type": "code",
   "execution_count": 140,
   "metadata": {},
   "outputs": [
    {
     "data": {
      "text/plain": [
       "{'MeadowV': 100231.25,\n",
       " 'IDOTRR': 101103.1884057971,\n",
       " 'BrDale': 103371.05263157895,\n",
       " 'OldTown': 125276.30061349693,\n",
       " 'BrkSide': 127022.69736842105,\n",
       " 'Edwards': 130493.46853146853,\n",
       " 'SWISU': 134758.875,\n",
       " 'Landmrk': 137000.0,\n",
       " 'Sawyer': 137181.9099099099,\n",
       " 'NPkVill': 140476.4705882353,\n",
       " 'Blueste': 144566.66666666666,\n",
       " 'NAmes': 145905.81612903226,\n",
       " 'Mitchel': 167656.70731707316,\n",
       " 'SawyerW': 187760.16091954024,\n",
       " 'Greens': 188666.66666666666,\n",
       " 'Gilbert': 189228.3879310345,\n",
       " 'NWAmes': 194619.02298850575,\n",
       " 'Blmngtn': 200417.68181818182,\n",
       " 'CollgCr': 202497.21666666667,\n",
       " 'Crawfor': 205901.21126760563,\n",
       " 'ClearCr': 217490.07407407407,\n",
       " 'Somerst': 227183.9,\n",
       " 'Timber': 241051.35416666666,\n",
       " 'Veenker': 253570.58823529413,\n",
       " 'GrnHill': 280000.0,\n",
       " 'NoRidge': 316294.125,\n",
       " 'NridgHt': 322831.3524590164,\n",
       " 'StoneBr': 329675.7368421053}"
      ]
     },
     "execution_count": 140,
     "metadata": {},
     "output_type": "execute_result"
    }
   ],
   "source": [
    "avg_cost_per_neigh"
   ]
  },
  {
   "cell_type": "code",
   "execution_count": 141,
   "metadata": {},
   "outputs": [],
   "source": [
    "train['NeighborhoodAvgCostPerHouse'] = train['Neighborhood']\n",
    "train['NeighborhoodAvgCostPerHouse'] = train['NeighborhoodAvgCostPerHouse'].map(avg_cost_per_neigh)"
   ]
  },
  {
   "cell_type": "code",
   "execution_count": 142,
   "metadata": {
    "scrolled": true
   },
   "outputs": [
    {
     "data": {
      "text/html": [
       "<div>\n",
       "<style scoped>\n",
       "    .dataframe tbody tr th:only-of-type {\n",
       "        vertical-align: middle;\n",
       "    }\n",
       "\n",
       "    .dataframe tbody tr th {\n",
       "        vertical-align: top;\n",
       "    }\n",
       "\n",
       "    .dataframe thead th {\n",
       "        text-align: right;\n",
       "    }\n",
       "</style>\n",
       "<table border=\"1\" class=\"dataframe\">\n",
       "  <thead>\n",
       "    <tr style=\"text-align: right;\">\n",
       "      <th></th>\n",
       "      <th>Id</th>\n",
       "      <th>PID</th>\n",
       "      <th>MS SubClass</th>\n",
       "      <th>MS Zoning</th>\n",
       "      <th>Lot Frontage</th>\n",
       "      <th>Lot Area</th>\n",
       "      <th>Street</th>\n",
       "      <th>Alley</th>\n",
       "      <th>Lot Shape</th>\n",
       "      <th>Land Contour</th>\n",
       "      <th>...</th>\n",
       "      <th>NridgHt</th>\n",
       "      <th>OldTown</th>\n",
       "      <th>SWISU</th>\n",
       "      <th>Sawyer</th>\n",
       "      <th>SawyerW</th>\n",
       "      <th>Somerst</th>\n",
       "      <th>StoneBr</th>\n",
       "      <th>Timber</th>\n",
       "      <th>Veenker</th>\n",
       "      <th>NeighborhoodAvgCostPerHouse</th>\n",
       "    </tr>\n",
       "  </thead>\n",
       "  <tbody>\n",
       "    <tr>\n",
       "      <th>0</th>\n",
       "      <td>109</td>\n",
       "      <td>533352170</td>\n",
       "      <td>60</td>\n",
       "      <td>RL</td>\n",
       "      <td>NaN</td>\n",
       "      <td>13517</td>\n",
       "      <td>Pave</td>\n",
       "      <td>NaN</td>\n",
       "      <td>IR1</td>\n",
       "      <td>Lvl</td>\n",
       "      <td>...</td>\n",
       "      <td>0</td>\n",
       "      <td>0</td>\n",
       "      <td>0</td>\n",
       "      <td>1</td>\n",
       "      <td>0</td>\n",
       "      <td>0</td>\n",
       "      <td>0</td>\n",
       "      <td>0</td>\n",
       "      <td>0</td>\n",
       "      <td>137181.909910</td>\n",
       "    </tr>\n",
       "    <tr>\n",
       "      <th>1</th>\n",
       "      <td>544</td>\n",
       "      <td>531379050</td>\n",
       "      <td>60</td>\n",
       "      <td>RL</td>\n",
       "      <td>43.0</td>\n",
       "      <td>11492</td>\n",
       "      <td>Pave</td>\n",
       "      <td>NaN</td>\n",
       "      <td>IR1</td>\n",
       "      <td>Lvl</td>\n",
       "      <td>...</td>\n",
       "      <td>0</td>\n",
       "      <td>0</td>\n",
       "      <td>0</td>\n",
       "      <td>0</td>\n",
       "      <td>1</td>\n",
       "      <td>0</td>\n",
       "      <td>0</td>\n",
       "      <td>0</td>\n",
       "      <td>0</td>\n",
       "      <td>187760.160920</td>\n",
       "    </tr>\n",
       "    <tr>\n",
       "      <th>2</th>\n",
       "      <td>153</td>\n",
       "      <td>535304180</td>\n",
       "      <td>20</td>\n",
       "      <td>RL</td>\n",
       "      <td>68.0</td>\n",
       "      <td>7922</td>\n",
       "      <td>Pave</td>\n",
       "      <td>NaN</td>\n",
       "      <td>Reg</td>\n",
       "      <td>Lvl</td>\n",
       "      <td>...</td>\n",
       "      <td>0</td>\n",
       "      <td>0</td>\n",
       "      <td>0</td>\n",
       "      <td>0</td>\n",
       "      <td>0</td>\n",
       "      <td>0</td>\n",
       "      <td>0</td>\n",
       "      <td>0</td>\n",
       "      <td>0</td>\n",
       "      <td>145905.816129</td>\n",
       "    </tr>\n",
       "    <tr>\n",
       "      <th>3</th>\n",
       "      <td>318</td>\n",
       "      <td>916386060</td>\n",
       "      <td>60</td>\n",
       "      <td>RL</td>\n",
       "      <td>73.0</td>\n",
       "      <td>9802</td>\n",
       "      <td>Pave</td>\n",
       "      <td>NaN</td>\n",
       "      <td>Reg</td>\n",
       "      <td>Lvl</td>\n",
       "      <td>...</td>\n",
       "      <td>0</td>\n",
       "      <td>0</td>\n",
       "      <td>0</td>\n",
       "      <td>0</td>\n",
       "      <td>0</td>\n",
       "      <td>0</td>\n",
       "      <td>0</td>\n",
       "      <td>1</td>\n",
       "      <td>0</td>\n",
       "      <td>241051.354167</td>\n",
       "    </tr>\n",
       "    <tr>\n",
       "      <th>4</th>\n",
       "      <td>255</td>\n",
       "      <td>906425045</td>\n",
       "      <td>50</td>\n",
       "      <td>RL</td>\n",
       "      <td>82.0</td>\n",
       "      <td>14235</td>\n",
       "      <td>Pave</td>\n",
       "      <td>NaN</td>\n",
       "      <td>IR1</td>\n",
       "      <td>Lvl</td>\n",
       "      <td>...</td>\n",
       "      <td>0</td>\n",
       "      <td>0</td>\n",
       "      <td>0</td>\n",
       "      <td>0</td>\n",
       "      <td>1</td>\n",
       "      <td>0</td>\n",
       "      <td>0</td>\n",
       "      <td>0</td>\n",
       "      <td>0</td>\n",
       "      <td>187760.160920</td>\n",
       "    </tr>\n",
       "  </tbody>\n",
       "</table>\n",
       "<p>5 rows × 116 columns</p>\n",
       "</div>"
      ],
      "text/plain": [
       "    Id        PID  MS SubClass MS Zoning  Lot Frontage  Lot Area Street Alley  \\\n",
       "0  109  533352170           60        RL           NaN     13517   Pave   NaN   \n",
       "1  544  531379050           60        RL          43.0     11492   Pave   NaN   \n",
       "2  153  535304180           20        RL          68.0      7922   Pave   NaN   \n",
       "3  318  916386060           60        RL          73.0      9802   Pave   NaN   \n",
       "4  255  906425045           50        RL          82.0     14235   Pave   NaN   \n",
       "\n",
       "  Lot Shape Land Contour             ...              NridgHt OldTown SWISU  \\\n",
       "0       IR1          Lvl             ...                    0       0     0   \n",
       "1       IR1          Lvl             ...                    0       0     0   \n",
       "2       Reg          Lvl             ...                    0       0     0   \n",
       "3       Reg          Lvl             ...                    0       0     0   \n",
       "4       IR1          Lvl             ...                    0       0     0   \n",
       "\n",
       "  Sawyer SawyerW Somerst StoneBr Timber  Veenker  NeighborhoodAvgCostPerHouse  \n",
       "0      1       0       0       0      0        0                137181.909910  \n",
       "1      0       1       0       0      0        0                187760.160920  \n",
       "2      0       0       0       0      0        0                145905.816129  \n",
       "3      0       0       0       0      1        0                241051.354167  \n",
       "4      0       1       0       0      0        0                187760.160920  \n",
       "\n",
       "[5 rows x 116 columns]"
      ]
     },
     "execution_count": 142,
     "metadata": {},
     "output_type": "execute_result"
    }
   ],
   "source": [
    "train.head()"
   ]
  },
  {
   "cell_type": "code",
   "execution_count": null,
   "metadata": {},
   "outputs": [],
   "source": []
  },
  {
   "cell_type": "code",
   "execution_count": 143,
   "metadata": {},
   "outputs": [
    {
     "data": {
      "text/plain": [
       "<matplotlib.collections.PathCollection at 0x18001347240>"
      ]
     },
     "execution_count": 143,
     "metadata": {},
     "output_type": "execute_result"
    },
    {
     "data": {
      "image/png": "[encoded data removed]",
      "text/plain": [
       "<Figure size 432x288 with 1 Axes>"
      ]
     },
     "metadata": {},
     "output_type": "display_data"
    }
   ],
   "source": [
    "plt.scatter(train['SalePrice'],train['Lot Area'])"
   ]
  },
  {
   "cell_type": "code",
   "execution_count": 144,
   "metadata": {
    "scrolled": true
   },
   "outputs": [
    {
     "data": {
      "text/plain": [
       "1628    12789\n",
       "183     13100\n",
       "1309    34900\n",
       "1292    35000\n",
       "1518    35311\n",
       "Name: SalePrice, dtype: int64"
      ]
     },
     "execution_count": 144,
     "metadata": {},
     "output_type": "execute_result"
    }
   ],
   "source": [
    "train['SalePrice'].sort_values().head()"
   ]
  },
  {
   "cell_type": "code",
   "execution_count": 145,
   "metadata": {},
   "outputs": [
    {
     "data": {
      "text/plain": [
       "745      57200\n",
       "960      63887\n",
       "1854     70761\n",
       "694     115149\n",
       "471     159000\n",
       "Name: Lot Area, dtype: int64"
      ]
     },
     "execution_count": 145,
     "metadata": {},
     "output_type": "execute_result"
    }
   ],
   "source": [
    "train['Lot Area'].sort_values().tail()"
   ]
  },
  {
   "cell_type": "code",
   "execution_count": 146,
   "metadata": {},
   "outputs": [
    {
     "data": {
      "text/html": [
       "<div>\n",
       "<style scoped>\n",
       "    .dataframe tbody tr th:only-of-type {\n",
       "        vertical-align: middle;\n",
       "    }\n",
       "\n",
       "    .dataframe tbody tr th {\n",
       "        vertical-align: top;\n",
       "    }\n",
       "\n",
       "    .dataframe thead th {\n",
       "        text-align: right;\n",
       "    }\n",
       "</style>\n",
       "<table border=\"1\" class=\"dataframe\">\n",
       "  <thead>\n",
       "    <tr style=\"text-align: right;\">\n",
       "      <th></th>\n",
       "      <th>Id</th>\n",
       "      <th>PID</th>\n",
       "      <th>MS SubClass</th>\n",
       "      <th>MS Zoning</th>\n",
       "      <th>Lot Frontage</th>\n",
       "      <th>Lot Area</th>\n",
       "      <th>Street</th>\n",
       "      <th>Alley</th>\n",
       "      <th>Lot Shape</th>\n",
       "      <th>Land Contour</th>\n",
       "      <th>...</th>\n",
       "      <th>Screen Porch</th>\n",
       "      <th>Pool Area</th>\n",
       "      <th>Pool QC</th>\n",
       "      <th>Fence</th>\n",
       "      <th>Misc Feature</th>\n",
       "      <th>Misc Val</th>\n",
       "      <th>Mo Sold</th>\n",
       "      <th>Yr Sold</th>\n",
       "      <th>Sale Type</th>\n",
       "      <th>SalePrice</th>\n",
       "    </tr>\n",
       "  </thead>\n",
       "  <tbody>\n",
       "    <tr>\n",
       "      <th>214</th>\n",
       "      <td>957</td>\n",
       "      <td>916176125</td>\n",
       "      <td>20</td>\n",
       "      <td>RL</td>\n",
       "      <td>150.0</td>\n",
       "      <td>215245</td>\n",
       "      <td>Pave</td>\n",
       "      <td>NaN</td>\n",
       "      <td>IR3</td>\n",
       "      <td>Low</td>\n",
       "      <td>...</td>\n",
       "      <td>0</td>\n",
       "      <td>0</td>\n",
       "      <td>NaN</td>\n",
       "      <td>NaN</td>\n",
       "      <td>NaN</td>\n",
       "      <td>0</td>\n",
       "      <td>6</td>\n",
       "      <td>2009</td>\n",
       "      <td>WD</td>\n",
       "      <td>241413.995289</td>\n",
       "    </tr>\n",
       "    <tr>\n",
       "      <th>307</th>\n",
       "      <td>1571</td>\n",
       "      <td>916125425</td>\n",
       "      <td>190</td>\n",
       "      <td>RL</td>\n",
       "      <td>NaN</td>\n",
       "      <td>164660</td>\n",
       "      <td>Grvl</td>\n",
       "      <td>NaN</td>\n",
       "      <td>IR1</td>\n",
       "      <td>HLS</td>\n",
       "      <td>...</td>\n",
       "      <td>0</td>\n",
       "      <td>0</td>\n",
       "      <td>NaN</td>\n",
       "      <td>NaN</td>\n",
       "      <td>Shed</td>\n",
       "      <td>700</td>\n",
       "      <td>8</td>\n",
       "      <td>2008</td>\n",
       "      <td>WD</td>\n",
       "      <td>160888.711138</td>\n",
       "    </tr>\n",
       "  </tbody>\n",
       "</table>\n",
       "<p>2 rows × 81 columns</p>\n",
       "</div>"
      ],
      "text/plain": [
       "       Id        PID  MS SubClass MS Zoning  Lot Frontage  Lot Area Street  \\\n",
       "214   957  916176125           20        RL         150.0    215245   Pave   \n",
       "307  1571  916125425          190        RL           NaN    164660   Grvl   \n",
       "\n",
       "    Alley Lot Shape Land Contour      ...       Screen Porch Pool Area  \\\n",
       "214   NaN       IR3          Low      ...                  0         0   \n",
       "307   NaN       IR1          HLS      ...                  0         0   \n",
       "\n",
       "    Pool QC Fence Misc Feature Misc Val Mo Sold Yr Sold  Sale Type  \\\n",
       "214     NaN   NaN          NaN        0       6    2009        WD    \n",
       "307     NaN   NaN         Shed      700       8    2008        WD    \n",
       "\n",
       "         SalePrice  \n",
       "214  241413.995289  \n",
       "307  160888.711138  \n",
       "\n",
       "[2 rows x 81 columns]"
      ]
     },
     "execution_count": 146,
     "metadata": {},
     "output_type": "execute_result"
    }
   ],
   "source": [
    "test[test['Lot Area']> 100000]"
   ]
  },
  {
   "cell_type": "code",
   "execution_count": 147,
   "metadata": {},
   "outputs": [
    {
     "data": {
      "text/plain": [
       "1312"
      ]
     },
     "execution_count": 147,
     "metadata": {},
     "output_type": "execute_result"
    }
   ],
   "source": [
    "train.loc[307,'Gr Liv Area']"
   ]
  },
  {
   "cell_type": "code",
   "execution_count": 148,
   "metadata": {},
   "outputs": [],
   "source": [
    "train['Basement + Liv Area'] = train['Total Bsmt SF'] + train['Gr Liv Area']"
   ]
  },
  {
   "cell_type": "code",
   "execution_count": 149,
   "metadata": {
    "scrolled": true
   },
   "outputs": [
    {
     "data": {
      "text/plain": [
       "960     5642\n",
       "1885    5095\n",
       "616     3820\n",
       "1897    3672\n",
       "1035    3608\n",
       "Name: Gr Liv Area, dtype: int64"
      ]
     },
     "execution_count": 149,
     "metadata": {},
     "output_type": "execute_result"
    }
   ],
   "source": [
    "train['Gr Liv Area'].sort_values(ascending=False).head()"
   ]
  },
  {
   "cell_type": "code",
   "execution_count": 150,
   "metadata": {},
   "outputs": [],
   "source": [
    "train = train.drop(960)\n",
    "train = train.drop(1885)\n",
    "#train = train.drop(214)\n",
    "#train = train.drop(307)"
   ]
  },
  {
   "cell_type": "code",
   "execution_count": 151,
   "metadata": {},
   "outputs": [
    {
     "data": {
      "text/plain": [
       "<matplotlib.collections.PathCollection at 0x180013acb38>"
      ]
     },
     "execution_count": 151,
     "metadata": {},
     "output_type": "execute_result"
    },
    {
     "data": {
      "image/png": "[encoded data removed]",
      "text/plain": [
       "<Figure size 432x288 with 1 Axes>"
      ]
     },
     "metadata": {},
     "output_type": "display_data"
    }
   ],
   "source": [
    "plt.scatter(train['SalePrice'],train['Gr Liv Area'])"
   ]
  },
  {
   "cell_type": "code",
   "execution_count": 152,
   "metadata": {},
   "outputs": [
    {
     "data": {
      "text/plain": [
       "<matplotlib.axes._subplots.AxesSubplot at 0x180013d1c88>"
      ]
     },
     "execution_count": 152,
     "metadata": {},
     "output_type": "execute_result"
    },
    {
     "data": {
      "image/png": "[encoded data removed]",
      "text/plain": [
       "<Figure size 576x1440 with 2 Axes>"
      ]
     },
     "metadata": {},
     "output_type": "display_data"
    }
   ],
   "source": [
    "train_corr = train.corrwith(train['SalePrice']).sort_values(ascending=False)[1:]\n",
    "train.corrwith(train['SalePrice']).sort_values(ascending=False)\n",
    "fig, ax = plt.subplots(figsize=(8,20))\n",
    "sns.heatmap(train_corr.to_frame(), center=0, cmap='coolwarm', annot=True)"
   ]
  },
  {
   "cell_type": "code",
   "execution_count": 185,
   "metadata": {},
   "outputs": [
    {
     "data": {
      "text/plain": [
       "Basement + Liv Area              0\n",
       "Overall Qual                     0\n",
       "NeighborhoodAvgCostPerHouse      0\n",
       "Gr Liv Area                      0\n",
       "Exter Qual                       0\n",
       "Kitchen Qual                     0\n",
       "Total Bsmt SF                    0\n",
       "Garage Area                      0\n",
       "1st Flr SF                       0\n",
       "Garage Cars                      0\n",
       "Bsmt Qual                        0\n",
       "Year Built                       0\n",
       "Year Remod/Add                   0\n",
       "Fireplace Qu                     0\n",
       "Full Bath                        0\n",
       "Garage Yr Blt                  114\n",
       "Mas Vnr Area                    22\n",
       "TotRms AbvGrd                    0\n",
       "Fireplaces                       0\n",
       "Heating QC                       0\n",
       "NridgHt                          0\n",
       "BsmtFin SF 1                     1\n",
       "Lot Frontage                   330\n",
       "Open Porch SF                    0\n",
       "Wood Deck SF                     0\n",
       "Lot Area                         0\n",
       "Garage Qual                      0\n",
       "Bsmt Full Bath                   2\n",
       "Half Bath                        0\n",
       "Garage Cond                      0\n",
       "dtype: int64"
      ]
     },
     "execution_count": 185,
     "metadata": {},
     "output_type": "execute_result"
    }
   ],
   "source": [
    "train[list(train_corr.index[0:30])].isnull().sum()"
   ]
  },
  {
   "cell_type": "code",
   "execution_count": 154,
   "metadata": {},
   "outputs": [],
   "source": [
    "features = list(train_corr.index[0:15])\n",
    "X = train[features]\n",
    "y = train['SalePrice']"
   ]
  },
  {
   "cell_type": "markdown",
   "metadata": {},
   "source": [
    "## Model Prep: Train/test split\n",
    "\n",
    "We always want to have a holdout set to test our model. Use the `train_test_split` function to split our `X` and `y` variables into a training set and a holdout set."
   ]
  },
  {
   "cell_type": "code",
   "execution_count": 155,
   "metadata": {},
   "outputs": [],
   "source": [
    "X_train, X_test, y_train, y_test = train_test_split(X, y)"
   ]
  },
  {
   "cell_type": "markdown",
   "metadata": {},
   "source": [
    "## Model Prep: Scaling\n",
    "\n",
    "Since we're using `Lasso` and `Ridge`, we'll want to scale our features. In the cell below, fit a `StandardScaler` to `X_train` and use it to transform both `X_train` and `X_test`."
   ]
  },
  {
   "cell_type": "code",
   "execution_count": 156,
   "metadata": {},
   "outputs": [],
   "source": [
    "ss = StandardScaler()\n",
    "X_train_sc = ss.fit_transform(X_train)\n",
    "X_test_sc = ss.transform(X_test)"
   ]
  },
  {
   "cell_type": "markdown",
   "metadata": {},
   "source": [
    "## Model Prep: Instantiate our models\n",
    "\n",
    "We'll be evaluating `LinearRegression`, `LassoCV` and `RidgeCV`, so we'll need to create instances of all three models."
   ]
  },
  {
   "cell_type": "code",
   "execution_count": 157,
   "metadata": {},
   "outputs": [],
   "source": [
    "lr = LinearRegression()\n",
    "lasso = LassoCV()\n",
    "ridge = RidgeCV()"
   ]
  },
  {
   "cell_type": "markdown",
   "metadata": {},
   "source": []
  },
  {
   "cell_type": "code",
   "execution_count": 158,
   "metadata": {},
   "outputs": [
    {
     "data": {
      "text/plain": [
       "10.0"
      ]
     },
     "execution_count": 158,
     "metadata": {},
     "output_type": "execute_result"
    }
   ],
   "source": [
    "ridge = RidgeCV()\n",
    "ridge.fit(X_train_sc, y_train)\n",
    "r_alpha = ridge.alpha_\n",
    "r_alpha"
   ]
  },
  {
   "cell_type": "code",
   "execution_count": 159,
   "metadata": {},
   "outputs": [
    {
     "data": {
      "text/plain": [
       "62.99897239249062"
      ]
     },
     "execution_count": 159,
     "metadata": {},
     "output_type": "execute_result"
    }
   ],
   "source": [
    "lasso = LassoCV()\n",
    "lasso.fit(X_train_sc, y_train)\n",
    "l_alpha = lasso.alpha_\n",
    "l_alpha"
   ]
  },
  {
   "cell_type": "code",
   "execution_count": 160,
   "metadata": {},
   "outputs": [
    {
     "name": "stdout",
     "output_type": "stream",
     "text": [
      "Linear Regresion CV Score: 0.8558025057871824\n",
      "Lasso CV Score: 0.8558140523942869\n",
      "Ridge CV Score: 0.8559226494920292\n"
     ]
    }
   ],
   "source": [
    "lr_scores = cross_val_score(lr, X_train_sc, y_train, cv=3).mean()\n",
    "lasso_scores = cross_val_score(Lasso(alpha=l_alpha), X_train_sc, y_train, cv=3).mean()\n",
    "ridge_scores = cross_val_score(Ridge(alpha=r_alpha), X_train_sc, y_train, cv=3).mean()\n",
    "\n",
    "print(f'Linear Regresion CV Score: {lr_scores}')\n",
    "print(f'Lasso CV Score: {lasso_scores}')\n",
    "print(f'Ridge CV Score: {ridge_scores}')"
   ]
  },
  {
   "cell_type": "code",
   "execution_count": 161,
   "metadata": {},
   "outputs": [
    {
     "name": "stdout",
     "output_type": "stream",
     "text": [
      "Linear Regresion R2: 0.8705223826996376\n",
      "Lasso R2 Score: 0.8703300390048714\n",
      "Ridge R2 Score: 0.8702811531274898\n"
     ]
    }
   ],
   "source": [
    "lr.fit(X_train_sc, y_train)\n",
    "lasso.fit(X_train_sc, y_train)\n",
    "ridge.fit(X_train_sc, y_train)\n",
    "\n",
    "lr_predict = lr.predict(X_test_sc)\n",
    "lasso_predict = lasso.predict(X_test_sc)\n",
    "ridge_predict = ridge.predict(X_test_sc)\n",
    "\n",
    "lr_r2 = r2_score(y_test, lr_predict)\n",
    "lasso_r2 = r2_score(y_test, lasso_predict)\n",
    "ridge_r2 = r2_score(y_test, ridge_predict)\n",
    "\n",
    "print(f'Linear Regresion R2: {lr_r2}')\n",
    "print(f'Lasso R2 Score: {lasso_r2}')\n",
    "print(f'Ridge R2 Score: {ridge_r2}')"
   ]
  },
  {
   "cell_type": "markdown",
   "metadata": {},
   "source": []
  },
  {
   "cell_type": "code",
   "execution_count": 162,
   "metadata": {},
   "outputs": [
    {
     "name": "stdout",
     "output_type": "stream",
     "text": [
      "Linear Regresion Score on Train: 0.8582761963875583\n",
      "Linear Regresion Score on Test: 0.8705223826996376\n",
      "\n",
      "Lasso Score on Train: 0.8582552216658359\n",
      "Lasso Score on Test: 0.8703300390048714\n",
      "\n",
      "Ridge Score on Train: 0.8582641110527821\n",
      "Ridge Score on Test: 0.8702811531274898\n"
     ]
    }
   ],
   "source": [
    "lrscoretrain = lr.score(X_train_sc,y_train)\n",
    "lrscoretest = lr.score(X_test_sc, y_test)\n",
    "lassoscoretrain = lasso.score(X_train_sc,y_train)\n",
    "lassoscoretest = lasso.score(X_test_sc, y_test)\n",
    "ridgescoretrain = ridge.score(X_train_sc,y_train)\n",
    "ridgescoretest = ridge.score(X_test_sc, y_test)\n",
    "\n",
    "print(f'Linear Regresion Score on Train: {lrscoretrain}')\n",
    "print(f'Linear Regresion Score on Test: {lrscoretest}')\n",
    "print('')\n",
    "print(f'Lasso Score on Train: {lassoscoretrain}')\n",
    "print(f'Lasso Score on Test: {lassoscoretest}')\n",
    "print('')\n",
    "print(f'Ridge Score on Train: {ridgescoretrain}')\n",
    "print(f'Ridge Score on Test: {ridgescoretest}')"
   ]
  },
  {
   "cell_type": "markdown",
   "metadata": {},
   "source": [
    "## Reset X and y\n",
    "----"
   ]
  },
  {
   "cell_type": "code",
   "execution_count": 163,
   "metadata": {},
   "outputs": [
    {
     "data": {
      "text/plain": [
       "(      Basement + Liv Area  Overall Qual  NeighborhoodAvgCostPerHouse  \\\n",
       " 0                  2204.0             6                137181.909910   \n",
       " 1                  3035.0             7                187760.160920   \n",
       " 2                  2114.0             5                145905.816129   \n",
       " 3                  1828.0             5                241051.354167   \n",
       " 4                  2121.0             6                187760.160920   \n",
       " 5                  3405.0             6                145905.816129   \n",
       " 6                  1619.0             6                130493.468531   \n",
       " 7                  2376.0             5                145905.816129   \n",
       " 8                  1848.0             5                125276.300613   \n",
       " 9                  3120.0             5                145905.816129   \n",
       " 10                 1470.0             6                103371.052632   \n",
       " 11                 2416.0             7                202497.216667   \n",
       " 12                 2016.0             5                187760.160920   \n",
       " 13                 2567.0             8                227183.900000   \n",
       " 14                 2712.0             7                202497.216667   \n",
       " 15                 2860.0             5                167656.707317   \n",
       " 16                 1968.0             5                125276.300613   \n",
       " 17                 2242.0             5                137181.909910   \n",
       " 18                 1945.0             6                137181.909910   \n",
       " 19                 2303.0             7                227183.900000   \n",
       " 20                 1788.0             5                137181.909910   \n",
       " 21                 3160.0             8                329675.736842   \n",
       " 22                 3462.0             8                322831.352459   \n",
       " 23                 2355.0             6                189228.387931   \n",
       " 24                 2112.0             5                189228.387931   \n",
       " 25                 2906.0             6                145905.816129   \n",
       " 26                 1788.0             5                137181.909910   \n",
       " 27                 2880.0             5                205901.211268   \n",
       " 28                 2948.0             5                101103.188406   \n",
       " 29                 1596.0             5                145905.816129   \n",
       " ...                   ...           ...                          ...   \n",
       " 2021               2395.0             7                202497.216667   \n",
       " 2022               3688.0             6                205901.211268   \n",
       " 2023               2734.0             7                322831.352459   \n",
       " 2024               2264.0             7                194619.022989   \n",
       " 2025               3443.0             8                322831.352459   \n",
       " 2026               2569.0             7                205901.211268   \n",
       " 2027               3112.0             5                145905.816129   \n",
       " 2028               3724.0             7                194619.022989   \n",
       " 2029               3956.0             9                241051.354167   \n",
       " 2030               2037.0             4                101103.188406   \n",
       " 2031               2156.0             5                145905.816129   \n",
       " 2032               2528.0             6                167656.707317   \n",
       " 2033               2382.0             8                144566.666667   \n",
       " 2034               2973.0             6                202497.216667   \n",
       " 2035               1880.0             4                205901.211268   \n",
       " 2036               2695.0             8                227183.900000   \n",
       " 2037               1758.0             5                137181.909910   \n",
       " 2038               2084.0             6                145905.816129   \n",
       " 2039               1638.0             4                100231.250000   \n",
       " 2040               3591.0             7                217490.074074   \n",
       " 2041               4240.0             9                322831.352459   \n",
       " 2042               2278.0             4                130493.468531   \n",
       " 2043               1832.0             6                127022.697368   \n",
       " 2044               2363.0             6                187760.160920   \n",
       " 2045               3864.0             8                322831.352459   \n",
       " 2046               3612.0             8                241051.354167   \n",
       " 2047               1722.0             4                130493.468531   \n",
       " 2048               2809.0             6                205901.211268   \n",
       " 2049               2400.0             4                145905.816129   \n",
       " 2050               2798.0             7                189228.387931   \n",
       " \n",
       "       Gr Liv Area  Exter Qual  Kitchen Qual  Total Bsmt SF  Garage Area  \\\n",
       " 0            1479           4             4          725.0        475.0   \n",
       " 1            2122           4             4          913.0        559.0   \n",
       " 2            1057           3             4         1057.0        246.0   \n",
       " 3            1444           3             3          384.0        400.0   \n",
       " 4            1445           3             3          676.0        484.0   \n",
       " 5            1888           4             4         1517.0        578.0   \n",
       " 6            1072           3             3          547.0        525.0   \n",
       " 7            1188           3             3         1188.0        531.0   \n",
       " 8             924           3             3          924.0        420.0   \n",
       " 9            2080           3             2         1040.0        504.0   \n",
       " 10            987           3             3          483.0        264.0   \n",
       " 11           1208           4             4         1208.0        632.0   \n",
       " 12           2016           4             3            0.0        576.0   \n",
       " 13           1607           4             4          960.0        480.0   \n",
       " 14           1361           4             4         1351.0        610.0   \n",
       " 15           1430           3             4         1430.0        624.0   \n",
       " 16           1344           3             3          624.0        513.0   \n",
       " 17           1121           3             3         1121.0        480.0   \n",
       " 18           1285           3             3          660.0        528.0   \n",
       " 19           1547           3             4          756.0        614.0   \n",
       " 20            894           3             3          894.0        450.0   \n",
       " 21           1659           4             5         1501.0        499.0   \n",
       " 22           2253           4             5         1209.0        575.0   \n",
       " 23           1187           3             3         1168.0        420.0   \n",
       " 24           1056           3             3         1056.0        572.0   \n",
       " 25           1453           3             3         1453.0        530.0   \n",
       " 26            894           3             3          894.0        336.0   \n",
       " 27           1938           3             4          942.0        240.0   \n",
       " 28           1991           3             3          957.0          0.0   \n",
       " 29            924           3             3          672.0        576.0   \n",
       " ...           ...         ...           ...            ...          ...   \n",
       " 2021         1611           4             4          784.0        572.0   \n",
       " 2022         1844           4             4         1844.0        540.0   \n",
       " 2023         1367           4             4         1367.0        484.0   \n",
       " 2024         1725           3             3          539.0        550.0   \n",
       " 2025         2389           4             4         1054.0        672.0   \n",
       " 2026         1718           3             4          851.0        264.0   \n",
       " 2027         1556           3             3         1556.0          0.0   \n",
       " 2028         2156           3             3         1568.0        508.0   \n",
       " 2029         1978           5             5         1978.0        920.0   \n",
       " 2030         1178           3             3          859.0        384.0   \n",
       " 2031         1078           3             3         1078.0        500.0   \n",
       " 2032         1285           3             4         1243.0        473.0   \n",
       " 2033         1191           4             4         1191.0        531.0   \n",
       " 2034         1494           3             4         1479.0        576.0   \n",
       " 2035         1180           3             2          700.0        252.0   \n",
       " 2036         1795           4             4          900.0        782.0   \n",
       " 2037          894           3             3          864.0        440.0   \n",
       " 2038         1042           3             3         1042.0        440.0   \n",
       " 2039         1092           3             3          546.0          0.0   \n",
       " 2040         2287           4             3         1304.0        667.0   \n",
       " 2041         2668           4             5         1572.0        726.0   \n",
       " 2042         1414           3             3          864.0          0.0   \n",
       " 2043         1232           3             3          600.0        217.0   \n",
       " 2044         1609           4             4          754.0        525.0   \n",
       " 2045         1932           5             5         1932.0        774.0   \n",
       " 2046         1728           4             4         1884.0        520.0   \n",
       " 2047          861           3             3          861.0        539.0   \n",
       " 2048         1913           3             3          896.0        342.0   \n",
       " 2049         1200           3             3         1200.0        294.0   \n",
       " 2050         1804           3             4          994.0        442.0   \n",
       " \n",
       "       1st Flr SF  Garage Cars  Bsmt Qual  Year Built  Year Remod/Add  \\\n",
       " 0            725          2.0          3        1976            2005   \n",
       " 1            913          2.0          4        1996            1997   \n",
       " 2           1057          1.0          3        1953            2007   \n",
       " 3            744          2.0          4        2006            2007   \n",
       " 4            831          2.0          2        1900            1993   \n",
       " 5           1888          2.0          3        1966            2002   \n",
       " 6           1072          2.0          4        2005            2006   \n",
       " 7           1188          2.0          3        1959            1959   \n",
       " 8            924          1.0          3        1952            1952   \n",
       " 9           1040          2.0          4        1969            1969   \n",
       " 10           483          1.0          3        1971            1971   \n",
       " 11          1208          2.0          4        2005            2005   \n",
       " 12          1288          2.0          0        1880            2007   \n",
       " 13           962          2.0          4        1999            2000   \n",
       " 14          1361          2.0          4        2007            2007   \n",
       " 15          1430          2.0          5        2004            2005   \n",
       " 16           624          3.0          3        1916            1950   \n",
       " 17          1121          2.0          3        1963            1963   \n",
       " 18          1285          2.0          3        1977            1977   \n",
       " 19           764          2.0          4        2009            2009   \n",
       " 20           894          2.0          4        1968            1968   \n",
       " 21          1659          2.0          4        2000            2000   \n",
       " 22          1209          2.0          5        2005            2006   \n",
       " 23          1187          2.0          4        1992            2007   \n",
       " 24          1056          2.0          3        1955            1955   \n",
       " 25          1453          2.0          3        1961            1961   \n",
       " 26           894          1.0          3        1965            2009   \n",
       " 27          1265          1.0          3        1937            1995   \n",
       " 28          1034          0.0          3        1895            2006   \n",
       " 29           672          2.0          3        1949            2006   \n",
       " ...          ...          ...        ...         ...             ...   \n",
       " 2021         784          2.0          4        2005            2005   \n",
       " 2022        1844          2.0          3        1969            1969   \n",
       " 2023        1367          2.0          4        2005            2005   \n",
       " 2024        1040          2.0          3        1979            1979   \n",
       " 2025        1054          3.0          5        2006            2006   \n",
       " 2026         867          2.0          3        1927            1992   \n",
       " 2027        1556          0.0          3        1960            1960   \n",
       " 2028        2156          2.0          3        1968            2003   \n",
       " 2029        1978          3.0          5        2007            2007   \n",
       " 2030         859          1.0          3        1900            1950   \n",
       " 2031        1078          2.0          3        1971            2008   \n",
       " 2032        1285          2.0          3        1977            1977   \n",
       " 2033        1191          2.0          4        1989            1989   \n",
       " 2034        1494          2.0          4        1997            1997   \n",
       " 2035        1180          1.0          2        1922            1950   \n",
       " 2036         909          3.0          5        2006            2006   \n",
       " 2037         894          2.0          3        1974            1974   \n",
       " 2038        1042          2.0          3        1965            1965   \n",
       " 2039         546          0.0          3        1970            1970   \n",
       " 2040        1304          2.0          3        1953            1953   \n",
       " 2041        1572          3.0          5        2003            2004   \n",
       " 2042         964          0.0          3        1922            1950   \n",
       " 2043         608          1.0          3        1939            1950   \n",
       " 2044         754          2.0          4        1995            1995   \n",
       " 2045        1932          3.0          5        2008            2008   \n",
       " 2046        1728          2.0          4        2007            2007   \n",
       " 2047         861          2.0          3        1940            1950   \n",
       " 2048        1172          2.0          3        1928            1950   \n",
       " 2049        1200          1.0          3        1956            1956   \n",
       " 2050        1028          2.0          3        1999            1999   \n",
       " \n",
       "       Fireplace Qu  Full Bath  \n",
       " 0                0          2  \n",
       " 1                3          2  \n",
       " 2                0          1  \n",
       " 3                0          2  \n",
       " 4                0          2  \n",
       " 5                4          2  \n",
       " 6                0          2  \n",
       " 7                0          1  \n",
       " 8                0          1  \n",
       " 9                3          1  \n",
       " 10               0          1  \n",
       " 11               0          2  \n",
       " 12               3          1  \n",
       " 13               0          2  \n",
       " 14               0          2  \n",
       " 15               0          2  \n",
       " 16               0          1  \n",
       " 17               0          1  \n",
       " 18               3          1  \n",
       " 19               0          2  \n",
       " 20               1          1  \n",
       " 21               5          2  \n",
       " 22               4          2  \n",
       " 23               0          2  \n",
       " 24               0          1  \n",
       " 25               3          2  \n",
       " 26               4          1  \n",
       " 27               4          2  \n",
       " 28               0          2  \n",
       " 29               1          1  \n",
       " ...            ...        ...  \n",
       " 2021             0          2  \n",
       " 2022             3          2  \n",
       " 2023             4          2  \n",
       " 2024             3          2  \n",
       " 2025             4          2  \n",
       " 2026             3          2  \n",
       " 2027             0          2  \n",
       " 2028             4          2  \n",
       " 2029             4          2  \n",
       " 2030             0          1  \n",
       " 2031             2          1  \n",
       " 2032             2          2  \n",
       " 2033             3          2  \n",
       " 2034             0          2  \n",
       " 2035             4          1  \n",
       " 2036             4          2  \n",
       " 2037             2          1  \n",
       " 2038             0          2  \n",
       " 2039             0          1  \n",
       " 2040             3          2  \n",
       " 2041             4          2  \n",
       " 2042             4          1  \n",
       " 2043             3          1  \n",
       " 2044             0          2  \n",
       " 2045             4          2  \n",
       " 2046             4          2  \n",
       " 2047             0          1  \n",
       " 2048             3          1  \n",
       " 2049             4          1  \n",
       " 2050             3          2  \n",
       " \n",
       " [2049 rows x 15 columns], 0       130500\n",
       " 1       220000\n",
       " 2       109000\n",
       " 3       174000\n",
       " 4       138500\n",
       " 5       190000\n",
       " 6       140000\n",
       " 7       142000\n",
       " 8       112500\n",
       " 9       135000\n",
       " 10       85400\n",
       " 11      183600\n",
       " 12      131000\n",
       " 13      200000\n",
       " 14      193000\n",
       " 15      173500\n",
       " 16       98000\n",
       " 17      139000\n",
       " 18      143500\n",
       " 19      215200\n",
       " 20      129000\n",
       " 21      278000\n",
       " 22      344133\n",
       " 23      185000\n",
       " 24      145000\n",
       " 25      187500\n",
       " 26      138500\n",
       " 27      198000\n",
       " 28      119600\n",
       " 29      122900\n",
       "          ...  \n",
       " 2021    195800\n",
       " 2022    223000\n",
       " 2023    192000\n",
       " 2024    197000\n",
       " 2025    298236\n",
       " 2026    238000\n",
       " 2027    119000\n",
       " 2028    262500\n",
       " 2029    425000\n",
       " 2030    102776\n",
       " 2031    149900\n",
       " 2032    190000\n",
       " 2033    162500\n",
       " 2034    217000\n",
       " 2035    137500\n",
       " 2036    270000\n",
       " 2037    142500\n",
       " 2038    161000\n",
       " 2039     93900\n",
       " 2040    225000\n",
       " 2041    412500\n",
       " 2042     83000\n",
       " 2043    128000\n",
       " 2044    182000\n",
       " 2045    394617\n",
       " 2046    298751\n",
       " 2047     82500\n",
       " 2048    177000\n",
       " 2049    144000\n",
       " 2050    189000\n",
       " Name: SalePrice, Length: 2049, dtype: int64)"
      ]
     },
     "execution_count": 163,
     "metadata": {},
     "output_type": "execute_result"
    }
   ],
   "source": [
    "X, y"
   ]
  },
  {
   "cell_type": "code",
   "execution_count": 164,
   "metadata": {},
   "outputs": [],
   "source": [
    "\n",
    "\n",
    "X_sc = ss.transform(X)"
   ]
  },
  {
   "cell_type": "code",
   "execution_count": 165,
   "metadata": {},
   "outputs": [
    {
     "data": {
      "text/plain": [
       "array([[-0.43718546, -0.04549667, -0.7231086 , ...,  1.00311142,\n",
       "        -0.97424545,  0.76646564],\n",
       "       [ 0.65240931,  0.66039112,  0.12896032, ...,  0.62495971,\n",
       "         0.68969934,  0.76646564],\n",
       "       [-0.55519211, -0.75138447, -0.57614089, ...,  1.09764934,\n",
       "        -0.97424545, -1.04754241],\n",
       "       ...,\n",
       "       [ 0.35608149, -0.04549667,  0.43457439, ..., -1.59668158,\n",
       "         0.68969934, -1.04754241],\n",
       "       [-0.18019319, -1.45727226, -0.57614089, ..., -1.3130678 ,\n",
       "         1.2443476 , -1.04754241],\n",
       "       [ 0.34165846,  0.66039112,  0.15369488, ...,  0.71949763,\n",
       "         0.68969934,  0.76646564]])"
      ]
     },
     "execution_count": 165,
     "metadata": {},
     "output_type": "execute_result"
    }
   ],
   "source": [
    "X_sc"
   ]
  },
  {
   "cell_type": "code",
   "execution_count": 166,
   "metadata": {},
   "outputs": [],
   "source": [
    "ridge = RidgeCV()\n",
    "ridge_model = ridge.fit(X_sc, y)"
   ]
  },
  {
   "cell_type": "code",
   "execution_count": 167,
   "metadata": {
    "scrolled": true
   },
   "outputs": [],
   "source": [
    "l_alphas = np.arange(0.15,1,0.01)\n",
    "lasso_model = LassoCV(alphas=l_alphas)\n",
    "lasso_model = lasso.fit(X_sc, y)\n"
   ]
  },
  {
   "cell_type": "code",
   "execution_count": 168,
   "metadata": {},
   "outputs": [
    {
     "data": {
      "text/plain": [
       "65.82187644161509"
      ]
     },
     "execution_count": 168,
     "metadata": {},
     "output_type": "execute_result"
    }
   ],
   "source": [
    "best_alpha = lasso_model.alpha_\n",
    "best_alpha"
   ]
  },
  {
   "cell_type": "code",
   "execution_count": 169,
   "metadata": {},
   "outputs": [
    {
     "data": {
      "text/plain": [
       "0.8625548982083757"
      ]
     },
     "execution_count": 169,
     "metadata": {},
     "output_type": "execute_result"
    }
   ],
   "source": [
    "lasso_model.score(X_sc,y)"
   ]
  },
  {
   "cell_type": "code",
   "execution_count": 170,
   "metadata": {},
   "outputs": [
    {
     "data": {
      "text/plain": [
       "0.8625692915359844"
      ]
     },
     "execution_count": 170,
     "metadata": {},
     "output_type": "execute_result"
    }
   ],
   "source": [
    "ridge_model.score(X_sc,y)"
   ]
  },
  {
   "cell_type": "markdown",
   "metadata": {},
   "source": [
    "## Submitting Our Model\n",
    "\n",
    "----"
   ]
  },
  {
   "cell_type": "code",
   "execution_count": 171,
   "metadata": {},
   "outputs": [],
   "source": [
    "test = pd.read_csv('datasets/test.csv')"
   ]
  },
  {
   "cell_type": "code",
   "execution_count": 172,
   "metadata": {},
   "outputs": [],
   "source": [
    "changes_to_dataframe(test)"
   ]
  },
  {
   "cell_type": "code",
   "execution_count": 173,
   "metadata": {},
   "outputs": [],
   "source": [
    "test['NeighborhoodAvgCostPerHouse'] = test['Neighborhood']\n",
    "test['NeighborhoodAvgCostPerHouse'] = test['NeighborhoodAvgCostPerHouse'].map(avg_cost_per_neigh)"
   ]
  },
  {
   "cell_type": "code",
   "execution_count": 174,
   "metadata": {},
   "outputs": [],
   "source": [
    "X_test = test[features]"
   ]
  },
  {
   "cell_type": "code",
   "execution_count": 175,
   "metadata": {},
   "outputs": [],
   "source": [
    "X_test_sc = ss.transform(X_test)"
   ]
  },
  {
   "cell_type": "code",
   "execution_count": 176,
   "metadata": {},
   "outputs": [
    {
     "data": {
      "text/plain": [
       "array([[ 0.53833621, -0.04549667, -0.92367701, ..., -1.59668158,\n",
       "        -0.97424545,  0.76646564],\n",
       "       [ 1.83116466, -0.75138447, -0.7231086 , ..., -0.32041956,\n",
       "        -0.97424545,  0.76646564],\n",
       "       [-0.50798945,  0.66039112,  0.15369488, ...,  1.05038038,\n",
       "         1.2443476 ,  0.76646564],\n",
       "       ...,\n",
       "       [-0.49094404, -0.75138447, -0.7231086 , ..., -0.74584023,\n",
       "         0.68969934, -1.04754241],\n",
       "       [-1.06130954, -1.45727226, -0.57614089, ..., -0.60403334,\n",
       "        -0.97424545, -1.04754241],\n",
       "       [-0.90396733, -0.75138447, -0.57614089, ..., -1.36033676,\n",
       "         0.68969934, -1.04754241]])"
      ]
     },
     "execution_count": 176,
     "metadata": {},
     "output_type": "execute_result"
    }
   ],
   "source": [
    "X_test_sc"
   ]
  },
  {
   "cell_type": "code",
   "execution_count": 177,
   "metadata": {},
   "outputs": [],
   "source": [
    "predictions = ridge_model.predict(X_test_sc)"
   ]
  },
  {
   "cell_type": "code",
   "execution_count": 178,
   "metadata": {},
   "outputs": [
    {
     "data": {
      "text/plain": [
       "array([140119.3480852 , 205197.77610186, 192751.23072417, 126182.77488755,\n",
       "       180230.29089527,  83123.62300098, 110018.56933608, 168409.50343108,\n",
       "       213407.740411  , 154240.42162943, 179446.83064783, 115322.03572578,\n",
       "       167058.06677417, 243890.07823678, 168128.9919162 , 115487.64061344,\n",
       "       155053.75881353, 117987.59718769, 186509.67413642, 204865.81264661,\n",
       "       142294.88412964, 116390.1470497 , 223912.73859712, 154430.03691372,\n",
       "       206935.40059664, 119022.48884538, 147893.32807929, 155027.52800673,\n",
       "       141785.20256753,  26485.47531723, 112533.86741054, 100953.36267898,\n",
       "       270534.79017972, 170409.13718378, 233343.84982446, 167082.68980813,\n",
       "       129325.981369  ,  58739.84650493, 116358.35657506, 218135.00316884,\n",
       "       170431.54823342, 219445.15084943, 165971.4712221 , 163056.01432071,\n",
       "       235007.64507395, 103951.98349679, 225575.79794876, 117755.27259689,\n",
       "       113635.91039109, 116479.27439792, 107815.11304505, 199095.80363726,\n",
       "       265961.21435221, 128761.26073256,  98331.09753365, 146388.55565794,\n",
       "       154666.94122784, 157936.47921286, 167051.10205807, 239094.04035806,\n",
       "       324425.84117503, 124384.09362644, 144104.37276919, 179560.42421741,\n",
       "       181841.80510999, 325503.25388703,  83901.16769955, 248940.02073445,\n",
       "        71811.7752428 , 168198.47844769,  74098.59321764, 338104.95968182,\n",
       "       204595.35394945, 180542.64992266, 125652.34471521, 220228.85984559,\n",
       "       500787.91737038, 150068.58308382, 141836.8971809 ,  72115.32921944,\n",
       "       340292.45231431, 229595.02029086, 119867.97254685, 143498.23491371,\n",
       "       113378.69546453, 181117.64936294, 383072.27597497, 122407.64778299,\n",
       "       172683.22323902, 249384.29681034, 158810.70010815, 127408.84229448,\n",
       "       107454.70563169, 117067.99735497, 240306.37933584, 102250.61817224,\n",
       "       154118.72850172, 176600.43612202, 279397.72999811, 196156.68726879,\n",
       "       209895.53485079, 298749.41212652, 183937.3255139 , 114164.17270431,\n",
       "       421931.11589007, 157456.00152753,  98181.69756171, 167847.54278082,\n",
       "       197738.76006317, 203707.14059513, 146881.17852702, 173064.51024063,\n",
       "       248882.01822948,  99882.49320833, 134311.96826831, 221995.26516505,\n",
       "       406606.16479996, 157590.16767205,  99381.78224515, 310569.84545532,\n",
       "       184931.08371095, 358835.32970832, 295848.29568397, 302428.77637736,\n",
       "       149223.36341084, 172062.57272612, 350822.47882181, 115969.6723007 ,\n",
       "       128990.92346533, 119372.88674522, 278701.27159667, 129836.55563601,\n",
       "       176480.27909264, 137869.84373454, 164213.31958425, 162707.58435392,\n",
       "       244627.56040429, 220211.74855532, 197035.52932415, 248940.02073445,\n",
       "       108658.59380663, 204365.49269205, 133676.63739933, 123651.2571136 ,\n",
       "       193859.92390496,  76175.1127032 , 144710.61005183, 152860.68779833,\n",
       "       149827.38676518,  45528.35209193, 261140.816364  , 209694.81179399,\n",
       "       162318.61870337, 119417.0569596 , 107732.1591269 , 113870.37551718,\n",
       "       119600.27331062,  73039.89455662, 134521.85332103, 251476.4032056 ,\n",
       "       278307.68511484, 206745.70805296, 112167.18230108, 122718.78546813,\n",
       "       427024.32596494, 302450.00122103, 249916.15506779, 175974.29295335,\n",
       "       185876.34372284, 262878.27151267, 214547.21137992, 481782.22349491,\n",
       "       140871.35724081, 168506.80203651, 174509.0281901 , 215324.53641697,\n",
       "       188115.87640872,  92358.54139835, 200426.27322099,  82687.89138037,\n",
       "       136738.44200069, 138227.09503649, 197597.19576506, 265511.31490007,\n",
       "       184887.86723206, 167826.90866196, 113342.77523091, 195831.10513006,\n",
       "       217385.12892648, 111240.54563786,  48813.39181739, 181559.30439479,\n",
       "       105640.96814891,  93211.95557086, 102502.03944494, 186477.40916943,\n",
       "       139258.98875473, 259120.18609507, 126774.79775404, 135456.39222748,\n",
       "       124408.78415149, 338504.65403309, 186444.52041721, 117079.89025981,\n",
       "       190506.70792574, 141300.64937971,  73697.05651791, 147703.60395886,\n",
       "       134643.798695  , 255970.56352225, 231186.01563462, 179282.47092556,\n",
       "       206523.44873468, 124739.50116421, 260487.14339197, 268160.49741253,\n",
       "       201063.08732793, 246449.47349277, 146168.76765372,  84581.42068899,\n",
       "       134122.6498147 , 191343.3142895 , 147321.51197072, 171744.5084188 ,\n",
       "       186430.98203548, 116613.33304354, 108578.29177614, 279871.65594548,\n",
       "       229821.24552823, 151922.69181189, 300996.4660446 , 153225.48793804,\n",
       "        56928.00265639, 141807.54004203,  87592.36813287, 309755.46393571,\n",
       "       155871.97826783,  86997.57034364, 377662.55741904, 355229.51603679,\n",
       "       226903.36201939, 255228.02193746, 162063.72625364, 315223.17590846,\n",
       "       250476.7326432 , 340948.84007628, 269313.34161466, 117551.49547818,\n",
       "        98529.6785971 , 186637.59011713, 343340.49684786, 252737.24302939,\n",
       "       164988.82759735, 243551.69144399, 249880.66827018, 208944.99243992,\n",
       "        94706.84721037,  85876.44633768, 388697.59231128, 225169.69898634,\n",
       "       241473.43877777, 180088.68182809, 129483.77325008, 112588.53678691,\n",
       "       143246.76961837, 231158.27837269, 164010.18309184, 141151.84836139,\n",
       "       208499.80367813, 159494.75531214, 134078.48773799, 201119.30068637,\n",
       "       207184.94732165, 169347.49456242, 319416.5671688 , 103711.59753304,\n",
       "       134502.82595559, 159354.76997399, 211997.4035068 ,  83353.10772249,\n",
       "       118936.19754266, 240363.78242216, 112769.64554857, 116202.19732897,\n",
       "        91895.96450284, 132747.56194029, 250532.69443498, 205544.98096775,\n",
       "        93411.11505025, 104120.21391116, 136606.62475297, 101733.24957203,\n",
       "       125787.68452258,  83995.0862422 ,  75733.96395347, 166832.42325278,\n",
       "       168198.47844769, 202777.15827631, 271413.94457509, 243208.97808981,\n",
       "       175988.59055116, 179291.17090103, 346578.26617344, 118515.35450732,\n",
       "       155328.45862569,  71121.19614923, 101841.903193  , 205343.95357821,\n",
       "       221831.6619072 , 118739.07342329, 115471.00345255, 208038.81302763,\n",
       "       246672.3145586 , 251561.12381419, 267334.76411531, 120355.81487699,\n",
       "       352239.05798532, 345575.90266083, 296325.1196523 , 241729.31369556,\n",
       "       133256.65505352,  44588.06453476, 122971.24676423, 155978.9631697 ,\n",
       "       275288.93030218, 129565.38065696, 117081.30842947, 161290.41607825,\n",
       "       185670.57104427, 194815.88037588, 153443.71768692, 186374.36449163,\n",
       "       174736.57032573, 145364.73837266, 204644.70158279,  81418.751434  ,\n",
       "       178799.24401355,  89983.39214022, 114372.41130071, 136574.94411181,\n",
       "       174426.31043093, 207690.10157753, 104812.5828932 , 144442.99852648,\n",
       "       181395.45857296, 299834.03025005, 244319.64790752, 176775.40542742,\n",
       "       102955.28500363, 195500.15957256, 134642.36391357, 151485.83200601,\n",
       "       145292.29757051, 112370.6709766 , 265299.60735033, 139998.76087114,\n",
       "       283826.08304965, 156679.19639664, 221543.63075125, 244171.93394878,\n",
       "        96073.92378498, 138284.05615781, 166527.76635387,  99005.77660509,\n",
       "       188609.85305221, 209376.16011993, 254788.35414535, 220748.25473007,\n",
       "       208546.19009756, 233800.27202266, 107750.57280413, 223193.15553172,\n",
       "        97390.87198888, 169324.3030605 , 365958.87683734, 109278.99809793,\n",
       "       284070.07907695, 195935.37113103, 257009.8629612 , 248930.46991376,\n",
       "       134641.07696357, 156158.67123264, 164854.38734471, 344394.89573416,\n",
       "       325739.4139458 , 224828.80128901, 194520.69934599, 196778.93972875,\n",
       "       189709.6884493 , 136512.88231271, 125733.99476605,  93500.1867972 ,\n",
       "       295227.62216324, 161196.76502543, 150841.31203612, 193030.30742029,\n",
       "        74979.81460782, 205553.8024315 , 161429.53922611, 116415.78932138,\n",
       "        98251.47513309, 198246.06537427, 250271.43964758, 136688.58013258,\n",
       "       306768.12315339, 144177.51877093, 116577.8826781 , 140202.44015372,\n",
       "       229116.0916632 , 293817.34968668, 129224.15948067, 120904.45141616,\n",
       "       143710.36384317, 259015.2733359 , 133142.06455258, 258182.28597133,\n",
       "       313008.29316851, 113709.9694529 , 253771.90693629, 103929.46334335,\n",
       "       177351.7217083 , 257734.22877501, 117717.77691533, 246849.8474533 ,\n",
       "       114823.31106954, 245121.13415983, 375705.6386082 , 215546.84695075,\n",
       "       208002.16360094, 133991.05640929, 267208.3806917 ,  89288.04223827,\n",
       "       127015.44127542, 128814.96399517, 205111.19758542, 118176.83192373,\n",
       "       304876.91467119, 246117.80765974, 161645.22544538, 166184.82935109,\n",
       "       174354.85167551, 207226.5781154 , 130793.94534997, 105668.14377317,\n",
       "       200554.65103353, 166056.02502795, 219742.75556737,  56282.5039233 ,\n",
       "        81868.16562534, 305520.49689245, 152618.9310886 , 201078.68635216,\n",
       "       278289.39016852, 246563.77188232, 164368.89122928, 205301.62158328,\n",
       "       244355.69799115, 221216.44231698, 102488.70609474, 230840.64618797,\n",
       "       105156.26526815, 149999.14393873, 123504.23288335, 137276.72726117,\n",
       "       493448.31773665, 115908.23936658, 223715.74960809, 234102.39138634,\n",
       "       256513.19715913, 116456.72705668, 105007.52645112, 137161.20808596,\n",
       "       245004.42213219, 168695.60514006, 102083.4339785 , 243971.21668066,\n",
       "       252791.3404934 , 102571.25286734, 142303.55060763, 121188.47168046,\n",
       "       199245.63285513,  56488.8473297 , 236496.75866046,  88602.46302151,\n",
       "       182965.2386594 , 287753.70591879, 151741.52309807, 171073.75933549,\n",
       "       167198.04504101, 222199.22631267, 123651.76139779, 175994.42065037,\n",
       "       229544.75449504, 182470.05006266, 211248.10291418, 329805.24839179,\n",
       "       215590.92252166, 112565.41614529, 126732.72775958, 166701.49008172,\n",
       "       124779.49053263, 184424.22801211, 257905.9302645 , 174273.16001986,\n",
       "       180452.2712732 , 254520.90726321, 135065.77675561, 277508.65289349,\n",
       "       104402.55830689, 113204.22486661, 275259.36748872, 123815.6351023 ,\n",
       "       136238.62900131, 135624.01117358, 134263.1072169 ,  25711.16368107,\n",
       "       181492.97420089, 158978.5103696 , 212037.97757255, 282088.68401822,\n",
       "       297290.03588227, 109345.54179596, 142167.13601005, 124381.43869497,\n",
       "       107073.06310854, 226790.41476226, 401987.90056894, 198181.45066937,\n",
       "       102275.25287107, 134682.31495835,  24546.88942636, 121624.382911  ,\n",
       "       190355.2868274 , 139257.98292449, 202645.15796237, 179201.57506936,\n",
       "       154637.39697331,  73039.89455662, 223983.82163541, 156355.5885578 ,\n",
       "       193162.40940311, 147428.9903459 ,  93586.59812418,  66140.26785953,\n",
       "       150406.6694422 , 229619.60872   , 319601.69004869, 235039.72639587,\n",
       "       106287.7958124 ,  97213.336332  , 283341.07304856, 123779.18656947,\n",
       "       285387.59659454,  60712.50843026, 187815.45370066, 234566.4565593 ,\n",
       "        85499.36719855, 118623.19213622, 149365.41736938, 106469.9865849 ,\n",
       "       179447.6277007 , 110683.10771033, 185491.2350348 , 183790.7129959 ,\n",
       "       140787.09955164, 127316.9420413 , 128387.70250133, 147448.4912611 ,\n",
       "       252934.10381222, 124778.91799607, 149616.37279998, 177025.97392451,\n",
       "       121887.70366338,  90790.77787101, 141507.0421285 , 181229.51240711,\n",
       "       102777.96591987, 183575.6626228 , 159572.63578429, 205526.95422151,\n",
       "       104352.43429625, 184861.69492689, 158870.48582321, 282805.37808576,\n",
       "        97872.71270392, 159869.34734123, 156965.48714164, 150406.78050393,\n",
       "       108082.07789986, 277436.13371483, 241295.01045441, 121870.5169694 ,\n",
       "        95640.60973897, 130413.94910745, 130861.18164839, 325400.8017869 ,\n",
       "       227559.80403344, 136186.03212613, 130278.39162252,  85961.21214562,\n",
       "       339279.95727467, 140852.09730514, 222004.98976267, 125115.72222822,\n",
       "       168178.56877284, 232191.31052468,  98603.49191264, 113686.8082766 ,\n",
       "       102903.38723573, 157448.9608098 , 124148.10201386, 114059.87436585,\n",
       "       320307.63135436, 211822.36405054, 119306.48831317, 127087.24811701,\n",
       "        17995.85353096, 199275.93166136, 260302.03935354,  44991.97564552,\n",
       "       156452.5892014 , 203704.96652988, 120800.97813762, 165874.23689666,\n",
       "       104031.07939333, 156910.62145772, 172157.24507002, 192559.28025179,\n",
       "       123304.82192014, 361211.67271595, 158457.48261876, 186746.04225406,\n",
       "       216076.8782994 , 124105.24700183,  70093.39562154, 151780.6604422 ,\n",
       "       184538.21260319, 180013.19170368, 182494.84562748, 135467.33313953,\n",
       "       147581.91762483, 304244.85378503, 110415.7755332 , 230855.05801914,\n",
       "       263697.66055465, 148477.65391444,  45416.8963023 , 273316.81184876,\n",
       "       188304.01444919, 133938.74490067, 176801.46016632, 134329.44550704,\n",
       "       112001.08609935, 118853.6598801 , 136775.49371913,  36441.31104211,\n",
       "       139901.85447088, 224851.80868761, 146311.44415606, 274248.20312475,\n",
       "       189812.3362212 , 150646.15535583, 193202.141708  , 216857.9088668 ,\n",
       "       232870.57887654, 382132.16340563, 245249.35747124, 225234.76477432,\n",
       "       167213.42629856, 161581.33240915, 289837.35415571, 228722.50239291,\n",
       "       311914.73582254, 247281.02873471, 144715.68233293, 114591.9892103 ,\n",
       "       132123.58695186, 160139.02010376,  83341.48881129, 163592.3908851 ,\n",
       "       111441.47537396, 342760.28721419, 207320.72875064, 176826.53267652,\n",
       "       265565.49866012, 198168.87960492, 163568.92250745, 214518.18114084,\n",
       "       355187.71900807, 151545.46613742, 187722.48899585,  74921.34162037,\n",
       "       117411.28411155, 263438.56441074, 121458.21476215, 220759.6686223 ,\n",
       "       164069.75378602, 213056.29770081, 337474.16130565,  94474.15482715,\n",
       "       253472.77716709, 171073.75933549, 141100.83550161, 156489.86650702,\n",
       "       124775.66716823, 307325.07866991, 273441.37391536, 155446.13395762,\n",
       "       145462.85417893, 114877.41947062, 317141.59932788, 235275.15326557,\n",
       "        95275.36431136, 126670.73292196, 124330.20441605, 123435.30474418,\n",
       "       200886.80689871, 284279.37150295, 224791.64124202, 195650.93363313,\n",
       "       237949.44382854, 214402.76355571, 264463.84840675, 134639.81016302,\n",
       "        95416.54547818, 295994.97285398, 200644.22959484, 188790.89840155,\n",
       "       123031.11761649, 292811.89693434,  81531.80595235, 221952.34752931,\n",
       "       183848.78842756, 262028.50095572, 140225.678786  , 213172.1358115 ,\n",
       "       144192.14279753, 150123.49474109, 159354.34508347, 131408.34592072,\n",
       "       132699.16731479, 230021.59579168, 182720.08417054, 170928.79067653,\n",
       "       120648.92754217, 177422.7835611 , 207114.53017297, 190770.99315984,\n",
       "       215332.29275979, 121600.93124595, 311954.23621041, 272570.26455475,\n",
       "       146406.34061101, 147185.33040926, 174838.4529607 , 126838.84433952,\n",
       "       135581.59878896, 418887.94159172,  66769.40177919, 128370.53219006,\n",
       "       254967.27320675, 135189.36999199, 245774.33194525, 138972.38990303,\n",
       "       220671.86735596, 169391.68922043, 296251.2618334 , 168345.76810183,\n",
       "       196422.329051  , 295455.89507344, 171886.6020834 , 250186.63097269,\n",
       "       147754.54273046, 172400.1773651 , 214012.18514395, 135333.31630544,\n",
       "       176340.05005058, 211873.50319647, 124437.6483107 , 126201.1055664 ,\n",
       "       178425.92738165, 193164.05526659, 348167.72370842,  87705.38017439,\n",
       "       120222.51432619, 100233.77877331, 162602.82410138, 269313.34161466,\n",
       "       125091.54889332, 280940.44826495, 163977.01538172, 178650.21547434,\n",
       "       249490.59732679, 190212.02050034, 302320.48999573, 192038.75367549,\n",
       "       222618.6579754 , 157757.27372944, 255550.96994937, 249896.89116823,\n",
       "       207977.1181351 , 137509.81563635, 108211.31645028, 153278.52443101,\n",
       "       123269.44584352, 233433.14769696, 108323.77241217, 113288.37013414,\n",
       "       191571.1419419 , 149072.46051575, 112503.95020158, 137508.21899025,\n",
       "       314215.38269754, 132215.82337941, 164618.20251468, 245944.96019962,\n",
       "       220430.22377215, 223559.72980515,  89359.13171514, 105021.41515746,\n",
       "       142321.77125003, 177873.60770061, 107581.56806103, 361217.6882952 ,\n",
       "       141012.58244324, 186036.72958166, 228164.73640422, 349864.26684119,\n",
       "       139771.65109765, 195511.49780525, 141067.10106125, 195391.33396063,\n",
       "       157054.43632477, 275259.29275449, 256731.51893081, 153044.25254304,\n",
       "       123676.32772718, 304477.78985754, 151606.55044725, 131853.72756494,\n",
       "       117945.84072043, 209543.35857493, 223183.2344119 , 246865.30371872,\n",
       "       119302.42382505, 155780.22667646, 172267.1505183 , 253501.37679722,\n",
       "       225676.94515264, 121181.34476302, 157471.99894572, 152152.42280759,\n",
       "       171251.88307325, 121302.4672473 , 135123.13289186, 160419.51502946,\n",
       "       111899.20980403, 229907.94504612,  82108.56965493, 202956.08012466,\n",
       "        98596.78547188, 339774.54482465, 124860.14890159, 118337.93879378,\n",
       "       177885.69615475, 192389.91361763, 208000.56203226, 221699.79157557,\n",
       "       274313.38542005, 184859.547821  , 173749.79935785, 234438.57163392,\n",
       "       335055.00190637, 212943.10613734, 187439.56856647, 211707.63269642,\n",
       "       136367.81014582, 101639.85093483, 118768.10182016])"
      ]
     },
     "execution_count": 178,
     "metadata": {},
     "output_type": "execute_result"
    }
   ],
   "source": [
    "predictions"
   ]
  },
  {
   "cell_type": "code",
   "execution_count": 179,
   "metadata": {},
   "outputs": [],
   "source": [
    "test['SalePrice'] = predictions"
   ]
  },
  {
   "cell_type": "code",
   "execution_count": 180,
   "metadata": {},
   "outputs": [],
   "source": [
    "submission = test[['Id','SalePrice']]"
   ]
  },
  {
   "cell_type": "code",
   "execution_count": 181,
   "metadata": {},
   "outputs": [
    {
     "data": {
      "text/html": [
       "<div>\n",
       "<style scoped>\n",
       "    .dataframe tbody tr th:only-of-type {\n",
       "        vertical-align: middle;\n",
       "    }\n",
       "\n",
       "    .dataframe tbody tr th {\n",
       "        vertical-align: top;\n",
       "    }\n",
       "\n",
       "    .dataframe thead th {\n",
       "        text-align: right;\n",
       "    }\n",
       "</style>\n",
       "<table border=\"1\" class=\"dataframe\">\n",
       "  <thead>\n",
       "    <tr style=\"text-align: right;\">\n",
       "      <th></th>\n",
       "      <th>Id</th>\n",
       "      <th>SalePrice</th>\n",
       "    </tr>\n",
       "  </thead>\n",
       "  <tbody>\n",
       "    <tr>\n",
       "      <th>0</th>\n",
       "      <td>2658</td>\n",
       "      <td>140119.348085</td>\n",
       "    </tr>\n",
       "    <tr>\n",
       "      <th>1</th>\n",
       "      <td>2718</td>\n",
       "      <td>205197.776102</td>\n",
       "    </tr>\n",
       "    <tr>\n",
       "      <th>2</th>\n",
       "      <td>2414</td>\n",
       "      <td>192751.230724</td>\n",
       "    </tr>\n",
       "    <tr>\n",
       "      <th>3</th>\n",
       "      <td>1989</td>\n",
       "      <td>126182.774888</td>\n",
       "    </tr>\n",
       "    <tr>\n",
       "      <th>4</th>\n",
       "      <td>625</td>\n",
       "      <td>180230.290895</td>\n",
       "    </tr>\n",
       "  </tbody>\n",
       "</table>\n",
       "</div>"
      ],
      "text/plain": [
       "     Id      SalePrice\n",
       "0  2658  140119.348085\n",
       "1  2718  205197.776102\n",
       "2  2414  192751.230724\n",
       "3  1989  126182.774888\n",
       "4   625  180230.290895"
      ]
     },
     "execution_count": 181,
     "metadata": {},
     "output_type": "execute_result"
    }
   ],
   "source": [
    "submission.head()"
   ]
  },
  {
   "cell_type": "code",
   "execution_count": 182,
   "metadata": {},
   "outputs": [],
   "source": [
    "#submission.to_csv('javier_ames_12_04_4.csv', index=False)"
   ]
  },
  {
   "cell_type": "code",
   "execution_count": null,
   "metadata": {},
   "outputs": [],
   "source": []
  }
 ],
 "metadata": {
  "kernelspec": {
   "display_name": "Python 3",
   "language": "python",
   "name": "python3"
  },
  "language_info": {
   "codemirror_mode": {
    "name": "ipython",
    "version": 3
   },
   "file_extension": ".py",
   "mimetype": "text/x-python",
   "name": "python",
   "nbconvert_exporter": "python",
   "pygments_lexer": "ipython3",
   "version": "3.6.5"
  }
 },
 "nbformat": 4,
 "nbformat_minor": 2
}
